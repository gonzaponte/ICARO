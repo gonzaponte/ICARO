{
 "cells": [
  {
   "cell_type": "markdown",
   "metadata": {},
   "source": [
    "# Kr analysis (MC)"
   ]
  },
  {
   "cell_type": "code",
   "execution_count": 1,
   "metadata": {
    "collapsed": false
   },
   "outputs": [
    {
     "name": "stdout",
     "output_type": "stream",
     "text": [
      "Running on  Fri Mar 31 15:06:58 2017\n"
     ]
    },
    {
     "ename": "KeyboardInterrupt",
     "evalue": "",
     "output_type": "error",
     "traceback": [
      "\u001b[0;31m---------------------------------------------------------------------------\u001b[0m",
      "\u001b[0;31mKeyboardInterrupt\u001b[0m                         Traceback (most recent call last)",
      "\u001b[0;32m<ipython-input-1-1f0366d3242a>\u001b[0m in \u001b[0;36m<module>\u001b[0;34m()\u001b[0m\n\u001b[1;32m     19\u001b[0m \u001b[0;32mimport\u001b[0m \u001b[0minvisible_cities\u001b[0m\u001b[0;34m.\u001b[0m\u001b[0mcore\u001b[0m\u001b[0;34m.\u001b[0m\u001b[0msystem_of_units_c\u001b[0m \u001b[0;32mas\u001b[0m \u001b[0mSystemOfUnits\u001b[0m\u001b[0;34m\u001b[0m\u001b[0m\n\u001b[1;32m     20\u001b[0m \u001b[0;32mimport\u001b[0m \u001b[0minvisible_cities\u001b[0m\u001b[0;34m.\u001b[0m\u001b[0mreco\u001b[0m\u001b[0;34m.\u001b[0m\u001b[0mpmaps_functions\u001b[0m \u001b[0;32mas\u001b[0m \u001b[0mpmapf\u001b[0m\u001b[0;34m\u001b[0m\u001b[0m\n\u001b[0;32m---> 21\u001b[0;31m \u001b[0;32mimport\u001b[0m \u001b[0minvisible_cities\u001b[0m\u001b[0;34m.\u001b[0m\u001b[0mcore\u001b[0m\u001b[0;34m.\u001b[0m\u001b[0mfit_functions\u001b[0m \u001b[0;32mas\u001b[0m \u001b[0mfitf\u001b[0m\u001b[0;34m\u001b[0m\u001b[0m\n\u001b[0m\u001b[1;32m     22\u001b[0m \u001b[0;34m\u001b[0m\u001b[0m\n\u001b[1;32m     23\u001b[0m \u001b[0mDataPMT\u001b[0m \u001b[0;34m=\u001b[0m \u001b[0mDB\u001b[0m\u001b[0;34m.\u001b[0m\u001b[0mDataPMT\u001b[0m\u001b[0;34m(\u001b[0m\u001b[0;34m)\u001b[0m\u001b[0;34m\u001b[0m\u001b[0m\n",
      "\u001b[0;32m/Users/Gonzalo/github/IC/invisible_cities/core/fit_functions.py\u001b[0m in \u001b[0;36m<module>\u001b[0;34m()\u001b[0m\n\u001b[1;32m      8\u001b[0m \u001b[0;34m\u001b[0m\u001b[0m\n\u001b[1;32m      9\u001b[0m \u001b[0;32mimport\u001b[0m \u001b[0mnumpy\u001b[0m \u001b[0;32mas\u001b[0m \u001b[0mnp\u001b[0m\u001b[0;34m\u001b[0m\u001b[0m\n\u001b[0;32m---> 10\u001b[0;31m \u001b[0;32mimport\u001b[0m \u001b[0mscipy\u001b[0m\u001b[0;34m.\u001b[0m\u001b[0moptimize\u001b[0m\u001b[0;34m\u001b[0m\u001b[0m\n\u001b[0m\u001b[1;32m     11\u001b[0m \u001b[0;34m\u001b[0m\u001b[0m\n\u001b[1;32m     12\u001b[0m \u001b[0;32mfrom\u001b[0m \u001b[0minvisible_cities\u001b[0m\u001b[0;34m.\u001b[0m\u001b[0mreco\u001b[0m\u001b[0;34m.\u001b[0m\u001b[0mparams\u001b[0m \u001b[0;32mimport\u001b[0m \u001b[0mFitFunction\u001b[0m\u001b[0;34m\u001b[0m\u001b[0m\n",
      "\u001b[0;32m/Applications/anaconda3/envs/IC3.5/lib/python3.5/site-packages/scipy/optimize/__init__.py\u001b[0m in \u001b[0;36m<module>\u001b[0;34m()\u001b[0m\n\u001b[1;32m    232\u001b[0m \u001b[0;32mfrom\u001b[0m \u001b[0;34m.\u001b[0m\u001b[0moptimize\u001b[0m \u001b[0;32mimport\u001b[0m \u001b[0;34m*\u001b[0m\u001b[0;34m\u001b[0m\u001b[0m\n\u001b[1;32m    233\u001b[0m \u001b[0;32mfrom\u001b[0m \u001b[0;34m.\u001b[0m\u001b[0m_minimize\u001b[0m \u001b[0;32mimport\u001b[0m \u001b[0;34m*\u001b[0m\u001b[0;34m\u001b[0m\u001b[0m\n\u001b[0;32m--> 234\u001b[0;31m \u001b[0;32mfrom\u001b[0m \u001b[0;34m.\u001b[0m\u001b[0m_root\u001b[0m \u001b[0;32mimport\u001b[0m \u001b[0;34m*\u001b[0m\u001b[0;34m\u001b[0m\u001b[0m\n\u001b[0m\u001b[1;32m    235\u001b[0m \u001b[0;32mfrom\u001b[0m \u001b[0;34m.\u001b[0m\u001b[0mminpack\u001b[0m \u001b[0;32mimport\u001b[0m \u001b[0;34m*\u001b[0m\u001b[0;34m\u001b[0m\u001b[0m\n\u001b[1;32m    236\u001b[0m \u001b[0;32mfrom\u001b[0m \u001b[0;34m.\u001b[0m\u001b[0mzeros\u001b[0m \u001b[0;32mimport\u001b[0m \u001b[0;34m*\u001b[0m\u001b[0;34m\u001b[0m\u001b[0m\n",
      "\u001b[0;32m/Applications/anaconda3/envs/IC3.5/lib/python3.5/site-packages/scipy/optimize/_root.py\u001b[0m in \u001b[0;36m<module>\u001b[0;34m()\u001b[0m\n\u001b[1;32m     17\u001b[0m \u001b[0;34m\u001b[0m\u001b[0m\n\u001b[1;32m     18\u001b[0m \u001b[0;32mfrom\u001b[0m \u001b[0;34m.\u001b[0m\u001b[0moptimize\u001b[0m \u001b[0;32mimport\u001b[0m \u001b[0mMemoizeJac\u001b[0m\u001b[0;34m,\u001b[0m \u001b[0mOptimizeResult\u001b[0m\u001b[0;34m,\u001b[0m \u001b[0m_check_unknown_options\u001b[0m\u001b[0;34m\u001b[0m\u001b[0m\n\u001b[0;32m---> 19\u001b[0;31m \u001b[0;32mfrom\u001b[0m \u001b[0;34m.\u001b[0m\u001b[0mminpack\u001b[0m \u001b[0;32mimport\u001b[0m \u001b[0m_root_hybr\u001b[0m\u001b[0;34m,\u001b[0m \u001b[0mleastsq\u001b[0m\u001b[0;34m\u001b[0m\u001b[0m\n\u001b[0m\u001b[1;32m     20\u001b[0m \u001b[0;32mfrom\u001b[0m \u001b[0;34m.\u001b[0m\u001b[0m_spectral\u001b[0m \u001b[0;32mimport\u001b[0m \u001b[0m_root_df_sane\u001b[0m\u001b[0;34m\u001b[0m\u001b[0m\n\u001b[1;32m     21\u001b[0m \u001b[0;32mfrom\u001b[0m \u001b[0;34m.\u001b[0m \u001b[0;32mimport\u001b[0m \u001b[0mnonlin\u001b[0m\u001b[0;34m\u001b[0m\u001b[0m\n",
      "\u001b[0;32m/Applications/anaconda3/envs/IC3.5/lib/python3.5/site-packages/scipy/optimize/minpack.py\u001b[0m in \u001b[0;36m<module>\u001b[0;34m()\u001b[0m\n\u001b[1;32m     12\u001b[0m \u001b[0;32mfrom\u001b[0m \u001b[0mscipy\u001b[0m\u001b[0;34m.\u001b[0m\u001b[0m_lib\u001b[0m\u001b[0;34m.\u001b[0m\u001b[0m_util\u001b[0m \u001b[0;32mimport\u001b[0m \u001b[0m_asarray_validated\u001b[0m\u001b[0;34m,\u001b[0m \u001b[0m_lazywhere\u001b[0m\u001b[0;34m\u001b[0m\u001b[0m\n\u001b[1;32m     13\u001b[0m \u001b[0;32mfrom\u001b[0m \u001b[0;34m.\u001b[0m\u001b[0moptimize\u001b[0m \u001b[0;32mimport\u001b[0m \u001b[0mOptimizeResult\u001b[0m\u001b[0;34m,\u001b[0m \u001b[0m_check_unknown_options\u001b[0m\u001b[0;34m,\u001b[0m \u001b[0mOptimizeWarning\u001b[0m\u001b[0;34m\u001b[0m\u001b[0m\n\u001b[0;32m---> 14\u001b[0;31m \u001b[0;32mfrom\u001b[0m \u001b[0;34m.\u001b[0m\u001b[0m_lsq\u001b[0m \u001b[0;32mimport\u001b[0m \u001b[0mleast_squares\u001b[0m\u001b[0;34m\u001b[0m\u001b[0m\n\u001b[0m\u001b[1;32m     15\u001b[0m \u001b[0;32mfrom\u001b[0m \u001b[0;34m.\u001b[0m\u001b[0m_lsq\u001b[0m\u001b[0;34m.\u001b[0m\u001b[0mcommon\u001b[0m \u001b[0;32mimport\u001b[0m \u001b[0mmake_strictly_feasible\u001b[0m\u001b[0;34m\u001b[0m\u001b[0m\n\u001b[1;32m     16\u001b[0m \u001b[0;32mfrom\u001b[0m \u001b[0;34m.\u001b[0m\u001b[0m_lsq\u001b[0m\u001b[0;34m.\u001b[0m\u001b[0mleast_squares\u001b[0m \u001b[0;32mimport\u001b[0m \u001b[0mprepare_bounds\u001b[0m\u001b[0;34m\u001b[0m\u001b[0m\n",
      "\u001b[0;32m/Applications/anaconda3/envs/IC3.5/lib/python3.5/site-packages/scipy/optimize/_lsq/__init__.py\u001b[0m in \u001b[0;36m<module>\u001b[0;34m()\u001b[0m\n\u001b[1;32m      2\u001b[0m \u001b[0;32mfrom\u001b[0m \u001b[0m__future__\u001b[0m \u001b[0;32mimport\u001b[0m \u001b[0mdivision\u001b[0m\u001b[0;34m,\u001b[0m \u001b[0mprint_function\u001b[0m\u001b[0;34m,\u001b[0m \u001b[0mabsolute_import\u001b[0m\u001b[0;34m\u001b[0m\u001b[0m\n\u001b[1;32m      3\u001b[0m \u001b[0;34m\u001b[0m\u001b[0m\n\u001b[0;32m----> 4\u001b[0;31m \u001b[0;32mfrom\u001b[0m \u001b[0;34m.\u001b[0m\u001b[0mleast_squares\u001b[0m \u001b[0;32mimport\u001b[0m \u001b[0mleast_squares\u001b[0m\u001b[0;34m\u001b[0m\u001b[0m\n\u001b[0m\u001b[1;32m      5\u001b[0m \u001b[0;32mfrom\u001b[0m \u001b[0;34m.\u001b[0m\u001b[0mlsq_linear\u001b[0m \u001b[0;32mimport\u001b[0m \u001b[0mlsq_linear\u001b[0m\u001b[0;34m\u001b[0m\u001b[0m\n\u001b[1;32m      6\u001b[0m \u001b[0;34m\u001b[0m\u001b[0m\n",
      "\u001b[0;32m/Applications/anaconda3/envs/IC3.5/lib/python3.5/importlib/_bootstrap.py\u001b[0m in \u001b[0;36m_find_and_load\u001b[0;34m(name, import_)\u001b[0m\n",
      "\u001b[0;32m/Applications/anaconda3/envs/IC3.5/lib/python3.5/importlib/_bootstrap.py\u001b[0m in \u001b[0;36m_find_and_load_unlocked\u001b[0;34m(name, import_)\u001b[0m\n",
      "\u001b[0;32m/Applications/anaconda3/envs/IC3.5/lib/python3.5/importlib/_bootstrap.py\u001b[0m in \u001b[0;36m_load_unlocked\u001b[0;34m(spec)\u001b[0m\n",
      "\u001b[0;32m/Applications/anaconda3/envs/IC3.5/lib/python3.5/importlib/_bootstrap_external.py\u001b[0m in \u001b[0;36mexec_module\u001b[0;34m(self, module)\u001b[0m\n",
      "\u001b[0;32m/Applications/anaconda3/envs/IC3.5/lib/python3.5/importlib/_bootstrap_external.py\u001b[0m in \u001b[0;36mget_code\u001b[0;34m(self, fullname)\u001b[0m\n",
      "\u001b[0;32m/Applications/anaconda3/envs/IC3.5/lib/python3.5/importlib/_bootstrap_external.py\u001b[0m in \u001b[0;36mget_data\u001b[0;34m(self, path)\u001b[0m\n",
      "\u001b[0;31mKeyboardInterrupt\u001b[0m: "
     ]
    }
   ],
   "source": [
    "from __future__ import print_function, division\n",
    "\n",
    "import os\n",
    "import operator\n",
    "import functools\n",
    "import copy\n",
    "import time\n",
    "import glob\n",
    "import math\n",
    "print(\"Running on \", time.asctime())\n",
    "\n",
    "import numpy as np\n",
    "import tables as tb\n",
    "import matplotlib.pyplot as plt\n",
    "from matplotlib.colors import LogNorm\n",
    "%matplotlib inline\n",
    "\n",
    "import invisible_cities.database.load_db as DB\n",
    "import invisible_cities.core.system_of_units_c as SystemOfUnits\n",
    "import invisible_cities.reco.pmaps_functions as pmapf\n",
    "import invisible_cities.core.fit_functions as fitf\n",
    "\n",
    "DataPMT = DB.DataPMT()\n",
    "DataSiPM = DB.DataSiPM()\n",
    "units = SystemOfUnits.SystemOfUnits()\n",
    "pi = np.pi\n"
   ]
  },
  {
   "cell_type": "markdown",
   "metadata": {},
   "source": [
    "#### General plotting options"
   ]
  },
  {
   "cell_type": "code",
   "execution_count": null,
   "metadata": {
    "collapsed": true
   },
   "outputs": [],
   "source": [
    "plt.rcParams[\"figure.figsize\"]          = 8, 6\n",
    "plt.rcParams[\"font.size\"]               = 15\n",
    "plt.rcParams[\"figure.max_open_warning\"] = 100\n",
    "\n",
    "profOpt = \"--k\"\n",
    "fitOpt  = \"r\"\n",
    "\n",
    "outputfolder = \"plots/MC/\"\n",
    "if not os.path.exists(outputfolder):\n",
    "    os.mkdir(outputfolder)"
   ]
  },
  {
   "cell_type": "markdown",
   "metadata": {},
   "source": [
    "#### Useful functions"
   ]
  },
  {
   "cell_type": "code",
   "execution_count": null,
   "metadata": {
    "collapsed": false
   },
   "outputs": [],
   "source": [
    "def width(times, to_mus=False):\n",
    "    \"\"\"\n",
    "    Compute peak width.\n",
    "    \"\"\"\n",
    "    w = (np.max(times) - np.min(times)) if np.any(times) else 0.\n",
    "    return w * units.ns/units.mus if to_mus else w\n",
    "\n",
    "\n",
    "def timefunc(f):\n",
    "    \"\"\"\n",
    "    Decorator for function timing.\n",
    "    \"\"\"\n",
    "    def time_f(*args, **kwargs):\n",
    "        t0 = time.time()\n",
    "        output = f(*args, **kwargs)\n",
    "        print(\"Time spent in {}: {} s\".format(f.__name__,\n",
    "                                              time.time() - t0))\n",
    "        return output\n",
    "    return time_f\n",
    "\n",
    "\n",
    "def integrate_charge(d):\n",
    "    \"\"\"\n",
    "    Integrate charge from a SiPM dictionary.\n",
    "    \"\"\"\n",
    "    newd = dict((key, np.sum(value)) for key, value in d.items())\n",
    "    return map(np.array, list(zip(*newd.items())))\n",
    "\n",
    "\n",
    "def flat(nested_list):\n",
    "    while hasattr(nested_list[0], \"__iter__\"):\n",
    "        nested_list = [item for inner_list in nested_list for item in inner_list]\n",
    "    return np.array(nested_list)\n",
    "\n",
    "\n",
    "def labels(xlabel, ylabel):\n",
    "    \"\"\"\n",
    "    Set x and y labels.\n",
    "    \"\"\"\n",
    "    plt.xlabel(xlabel)\n",
    "    plt.ylabel(ylabel)\n",
    "\n",
    "\n",
    "def hist(*args, **kwargs):\n",
    "    \"\"\"\n",
    "    Create a figure and then the histogram\n",
    "    \"\"\"\n",
    "    plt.figure()\n",
    "    return plt.hist(*args, **kwargs)\n",
    "\n",
    "\n",
    "def doublehist(data1, data2, lbls, *args, **kwargs):\n",
    "    \"\"\"\n",
    "    Create a figure and then the histogram\n",
    "    \"\"\"\n",
    "    plt.figure()\n",
    "    h1 = plt.hist(data1, *args, label=lbls[0], alpha=0.5, normed=True, **kwargs)\n",
    "    h2 = plt.hist(data2, *args, label=lbls[1], alpha=0.5, normed=True, **kwargs)\n",
    "    return h1, h2, plt.legend()\n",
    "\n",
    "    \n",
    "def hist2d(*args, **kwargs):\n",
    "    \"\"\"\n",
    "    Create a figure and then the histogram\n",
    "    \"\"\"\n",
    "    plt.figure()\n",
    "    return plt.hist2d(*args, **kwargs)\n",
    "\n",
    "    \n",
    "def pdf(data, *args, **kwargs):\n",
    "    \"\"\"\n",
    "    Create a normalized histogram with appropiate range.\n",
    "    \"\"\"\n",
    "    data = np.array(data)\n",
    "    h = hist(data, *args, **kwargs, weights=np.ones_like(data)/len(data))\n",
    "    plt.yscale(\"log\")\n",
    "    plt.ylim(1e-4, 1.)\n",
    "    return h\n",
    "    \n",
    "def scatter(*args, **kwargs):\n",
    "    \"\"\"\n",
    "    Create a figure and then a scatter plot\n",
    "    \"\"\"\n",
    "    plt.figure()\n",
    "    return plt.scatter(*args, **kwargs)\n",
    "\n",
    "\n",
    "def doublescatter(x1, y1, x2, y2, lbls, *args, **kwargs):\n",
    "    \"\"\"\n",
    "    Create a figure and then a scatter plot\n",
    "    \"\"\"\n",
    "    plt.figure()\n",
    "    sc1 = plt.scatter(x1, y1, *args, label=lbls[0], **kwargs)\n",
    "    sc2 = plt.scatter(x2, y2, *args, label=lbls[1], **kwargs)\n",
    "    return sc1, sc2, plt.legend()\n",
    "\n",
    "def covariance(x, y):\n",
    "    cov = np.cov(x, y)\n",
    "    l, v = np.linalg.eig(cov)\n",
    "    lx, ly = l**0.5\n",
    "    vx, vy = v.T\n",
    "    x0, y0 = np.mean(x), np.mean(y)\n",
    "    x1     = lx * vx[0]\n",
    "    y1     = lx * vx[1]\n",
    "    plt.arrow(x0, y0, x1, y1, head_width=0.1*ly, head_length=0.1*lx, fc='r', ec='r')\n",
    "    x1     = ly * vy[0]\n",
    "    y1     = ly * vy[1]\n",
    "    plt.arrow(x0, y0, x1, y1, head_width=0.1*lx, head_length=0.1*ly, fc='r', ec='r')\n",
    "    return l, v\n",
    "\n",
    "def save_to_folder(outputfolder, name):\n",
    "    \"\"\"\n",
    "    Set title and save plot in folder.\n",
    "    \"\"\"\n",
    "    plt.title(name)\n",
    "    plt.savefig(\"{}/{}.png\".format(outputfolder, name), dpi=100)\n",
    "\n",
    "save = functools.partial(save_to_folder, outputfolder)"
   ]
  },
  {
   "cell_type": "markdown",
   "metadata": {},
   "source": [
    "### Input data"
   ]
  },
  {
   "cell_type": "code",
   "execution_count": null,
   "metadata": {
    "collapsed": false
   },
   "outputs": [],
   "source": [
    "# Comment out this line if your data is in $IC_DATA\n",
    "os.environ[\"IC_DATA\"] = os.environ[\"IC_DATA\"] + \"/Kr2016/MC/\"\n",
    "\n",
    "pattern = \"$IC_DATA/*.h5\"\n",
    "ifiles  = glob.glob(os.path.expandvars(pattern))\n",
    "\n",
    "print(\"# files:\", len(ifiles))"
   ]
  },
  {
   "cell_type": "markdown",
   "metadata": {},
   "source": [
    "### Define event class"
   ]
  },
  {
   "cell_type": "code",
   "execution_count": null,
   "metadata": {
    "collapsed": true
   },
   "outputs": [],
   "source": [
    "class Event:\n",
    "    \"\"\"\n",
    "    Store for relevant event info.\n",
    "    \"\"\"\n",
    "    def __init__(self):\n",
    "        self.nS1   = 0\n",
    "        self.S1w   = []\n",
    "        self.S1h   = []\n",
    "        self.S1i   = []\n",
    "        self.S1t   = []\n",
    "\n",
    "        self.nS2   = 0\n",
    "        self.S2w   = []\n",
    "        self.S2h   = []\n",
    "        self.S2i   = []\n",
    "\n",
    "        self.Nsipm = []\n",
    "        self.Q     = []\n",
    "        self.Qsipm = []\n",
    "        self.Xt    = np.nan\n",
    "        self.Yt    = np.nan\n",
    "        self.X     = np.nan\n",
    "        self.Y     = np.nan\n",
    "        self.Xrms  = np.nan\n",
    "        self.Yrms  = np.nan\n",
    "        self.Z     = np.nan\n",
    "        self.R     = np.nan\n",
    "        self.Phi   = np.nan\n",
    "\n",
    "        self.T     = -1\n",
    "        self.ok    = False"
   ]
  },
  {
   "cell_type": "markdown",
   "metadata": {},
   "source": [
    "### Define dataset class"
   ]
  },
  {
   "cell_type": "code",
   "execution_count": null,
   "metadata": {
    "collapsed": false
   },
   "outputs": [],
   "source": [
    "class Dataset:\n",
    "    \"\"\"\n",
    "    Trick for accesing event properties as an attribute of the dataset.\n",
    "    \"\"\"\n",
    "    def __init__(self, evts):\n",
    "        self.evts = np.array(evts, dtype=object)\n",
    "        self._create_attrs()\n",
    "    \n",
    "    @timefunc\n",
    "    def _create_attrs(self):\n",
    "        for attr in filter(lambda x: not x.endswith(\"__\"), Event().__dict__):\n",
    "            setattr(self, attr, np.array([getattr(evt, attr) for evt in self.evts]))\n",
    "\n",
    "    def __getitem__(self, sel):\n",
    "        return Dataset(self.evts[sel])"
   ]
  },
  {
   "cell_type": "markdown",
   "metadata": {},
   "source": [
    "## Functions to fill the event and dataset classes"
   ]
  },
  {
   "cell_type": "code",
   "execution_count": null,
   "metadata": {
    "collapsed": true
   },
   "outputs": [],
   "source": [
    "#@timefunc\n",
    "def fill_evts(s1s, s2s, sis, evts_out, times, ifile=None):    \n",
    "    evts = set(list(s1s.keys()) +\n",
    "               list(s2s.keys()) +\n",
    "               list(sis.keys()))\n",
    "    nevt = len(evts)\n",
    "    #print(ifile, nevt)\n",
    "    for i, evt_number in enumerate(evts):\n",
    "        evt = Event()\n",
    "        s1  = s1s.get(evt_number, dict())\n",
    "        s2  = s2s.get(evt_number, dict())\n",
    "        si  = sis.get(evt_number, dict())\n",
    "        \n",
    "        evt.nS1 = 0\n",
    "        evt.nS2 = len(s2)\n",
    "\n",
    "        s1time = 0\n",
    "        for peak, (t, e) in s1.items():\n",
    "            sel  = e > 0.5\n",
    "            t, e = t[sel], e[sel]\n",
    "            if t.size < 5:\n",
    "                continue\n",
    "            evt.nS1 += 1\n",
    "            evt.S1w.append(width(t))\n",
    "            evt.S1h.append(np.max(e))\n",
    "            evt.S1i.append(np.sum(e))\n",
    "            s1time = t[np.argmax(e)]\n",
    "            evt.S1t.append(s1time)\n",
    "        \n",
    "        s2time = 0\n",
    "        for peak, (t, e) in s2.items():\n",
    "            evt.S2w.append(width(t, to_mus=True))\n",
    "            evt.S2h.append(np.max(e))\n",
    "            evt.S2i.append(np.sum(e))\n",
    "            s2time = t[np.argmax(e)]\n",
    "\n",
    "            IDs, Qs = integrate_charge(si[peak]) if peak in si else ([], [])\n",
    "            Qpeak   = np.sum(Qs)\n",
    "            xsipms  = DataSiPM.X.values[IDs]\n",
    "            ysipms  = DataSiPM.Y.values[IDs]\n",
    "\n",
    "            evt.Qsipm.append(Qs)\n",
    "            evt.Nsipm.append(len(IDs))\n",
    "            evt.Q    .append(Qpeak)\n",
    "            evt.X    = np.average(xsipms, weights=Qs) if np.any(Qs) else np.nan\n",
    "            evt.Y    = np.average(ysipms, weights=Qs) if np.any(Qs) else np.nan\n",
    "            evt.Xrms = (np.sum(Qs * (xsipms-evt.X)**2) / (Qpeak - 1))**0.5 if np.any(Qs) else np.nan\n",
    "            evt.Yrms = (np.sum(Qs * (ysipms-evt.Y)**2) / (Qpeak - 1))**0.5 if np.any(Qs) else np.nan\n",
    "            evt.R    = (evt.X**2 + evt.Y**2)**0.5 if np.any(Qs) else np.nan\n",
    "            evt.Phi  = np.arctan2(evt.Y, evt.X) if np.any(Qs) else np.nan\n",
    "\n",
    "        evt.T  = times[i]\n",
    "        evt.ok = evt.nS1 == evt.nS2 == 1\n",
    "        if evt.ok:\n",
    "            evt.Z = (s2time - s1time) * units.ns / units.mus\n",
    "        evts_out.append(evt)\n",
    "\n",
    "\n",
    "@timefunc\n",
    "def build_dataset(inputfiles):\n",
    "    evts_out = []\n",
    "    first    = True\n",
    "    for ifile in inputfiles:\n",
    "        s1s, s2s, sis = pmapf.read_pmaps(ifile)\n",
    "        with tb.open_file(ifile) as h5f:\n",
    "            times = np.arange(10000)\n",
    "        if first:\n",
    "            t0 = np.min(times)\n",
    "            first = False\n",
    "        fill_evts(pmapf.df_to_pmaps_dict(s1s),\n",
    "                  pmapf.df_to_pmaps_dict(s2s),\n",
    "                  pmapf.df_to_s2si_dict (sis),\n",
    "                  evts_out, times - t0, ifile)\n",
    "    return Dataset(evts_out)\n"
   ]
  },
  {
   "cell_type": "markdown",
   "metadata": {},
   "source": [
    "# Read data"
   ]
  },
  {
   "cell_type": "code",
   "execution_count": null,
   "metadata": {
    "collapsed": false,
    "scrolled": true
   },
   "outputs": [],
   "source": [
    "full = build_dataset(ifiles[:-3])"
   ]
  },
  {
   "cell_type": "markdown",
   "metadata": {},
   "source": [
    "## General plots (no selections applied)"
   ]
  },
  {
   "cell_type": "code",
   "execution_count": null,
   "metadata": {
    "collapsed": true
   },
   "outputs": [],
   "source": []
  },
  {
   "cell_type": "code",
   "execution_count": null,
   "metadata": {
    "collapsed": true
   },
   "outputs": [],
   "source": []
  },
  {
   "cell_type": "code",
   "execution_count": null,
   "metadata": {
    "collapsed": false
   },
   "outputs": [],
   "source": [
    "data = full\n",
    "\n",
    "################################\n",
    "pdf(data.nS1, 10, range=(0, 10))\n",
    "labels(\"# S1\", \"Entries\")\n",
    "save(\"NS1\")\n",
    "\n",
    "################################\n",
    "pdf(data.nS2,  5, range=(0, 5))\n",
    "labels(\"# S2\", \"Entries\")\n",
    "save(\"NS2\")\n",
    "\n",
    "################################\n",
    "T    = data.T / 60\n",
    "tmin = np.min(T)\n",
    "tmax = np.max(T)\n",
    "nbin = int(math.ceil((tmax - tmin)))\n",
    "tmax = tmin + nbin\n",
    "\n",
    "hist(T, np.linspace(tmin, tmax, nbin+1))\n",
    "labels(\"Time (min)\", \"Event rate (min$^{-1}$)\")\n",
    "save(\"EventRate\")\n"
   ]
  },
  {
   "cell_type": "markdown",
   "metadata": {},
   "source": [
    "## From now on the study is focused on those events with exactly one S1 and one S2"
   ]
  },
  {
   "cell_type": "code",
   "execution_count": null,
   "metadata": {
    "collapsed": false
   },
   "outputs": [],
   "source": [
    "oneS1oneS2 = full[full.ok]\n",
    "print(\"Full set   :\",       full.evts.size, \"events\")\n",
    "print(\"Reduced set:\", oneS1oneS2.evts.size, \"events\")\n",
    "print(\"Ratio      :\", oneS1oneS2.evts.size/full.evts.size)"
   ]
  },
  {
   "cell_type": "markdown",
   "metadata": {},
   "source": [
    "<b>\n",
    "The ratio of \"reliable\" to total events is ~51.2%\n",
    "</b>"
   ]
  },
  {
   "cell_type": "markdown",
   "metadata": {},
   "source": [
    "# Distribution of events in Z"
   ]
  },
  {
   "cell_type": "code",
   "execution_count": null,
   "metadata": {
    "collapsed": false
   },
   "outputs": [],
   "source": [
    "data = oneS1oneS2\n",
    "\n",
    "hist(data.Z, 100, (0, 600))\n",
    "labels(\"Drift time ($\\mu$s)\", \"Entries\")\n",
    "save(\"Z\")"
   ]
  },
  {
   "cell_type": "markdown",
   "metadata": {},
   "source": [
    "<b>\n",
    "Looks like there is an accumulation of events for Z < 200 $\\mu$s and a flat distribution for Z > 200 $\\mu$s.\n",
    "</b>"
   ]
  },
  {
   "cell_type": "markdown",
   "metadata": {},
   "source": [
    "# S2 energy vs Z"
   ]
  },
  {
   "cell_type": "code",
   "execution_count": null,
   "metadata": {
    "collapsed": false
   },
   "outputs": [],
   "source": [
    "data = oneS1oneS2\n",
    "\n",
    "zrange =   0, 600\n",
    "Erange = 2e3, 11e3\n",
    "hist2d(data.Z, flat(data.S2i), (50, 100), range=(zrange, Erange))\n",
    "labels(\"Drift time ($\\mu$s)\", \"S2 energy\")\n",
    "save(\"S2energyvsZ\")"
   ]
  },
  {
   "cell_type": "markdown",
   "metadata": {},
   "source": [
    "# Short drift time: Z < 200 $\\mu$s"
   ]
  },
  {
   "cell_type": "code",
   "execution_count": null,
   "metadata": {
    "collapsed": false
   },
   "outputs": [],
   "source": [
    "shortZ = oneS1oneS2"
   ]
  },
  {
   "cell_type": "markdown",
   "metadata": {},
   "source": [
    "# S1 energy"
   ]
  },
  {
   "cell_type": "code",
   "execution_count": null,
   "metadata": {
    "collapsed": false
   },
   "outputs": [],
   "source": [
    "data = shortZ\n",
    "\n",
    "zrange = 0, 600\n",
    "Srange = 0, 30\n",
    "\n",
    "s1i = flat(data.S1i)\n",
    "\n",
    "hist(s1i, 30, range=Srange)\n",
    "labels(\"S1 energy (pes)\", \"Entries\")\n",
    "save(\"S1energy\")\n",
    "\n",
    "hist2d(data.Z, s1i, (50, 30), range=(zrange, Srange))\n",
    "x, y, _ = fitf.profileX(data.Z, s1i, 30, xrange=zrange, yrange=Srange)\n",
    "plt.plot(x, y, profOpt)\n",
    "\n",
    "labels(\"Drift time ($\\mu$s)\", \"S1 energy (pes)\")\n",
    "save(\"S1energyvsZ\")"
   ]
  },
  {
   "cell_type": "markdown",
   "metadata": {},
   "source": [
    "# S1 width"
   ]
  },
  {
   "cell_type": "code",
   "execution_count": null,
   "metadata": {
    "collapsed": false
   },
   "outputs": [],
   "source": [
    "data = shortZ\n",
    "\n",
    "zrange = 0, 600\n",
    "wrange = 0, 500\n",
    "\n",
    "s1w = flat(data.S1w)\n",
    "\n",
    "hist(s1w, np.linspace(*wrange, 21))\n",
    "labels(\"S1 width (ns)\", \"Entries\")\n",
    "save(\"S1width\")\n",
    "\n",
    "hist2d(data.Z, s1w, (50, 21), range=(zrange, wrange))\n",
    "x, y, _ = fitf.profileX(data.Z, s1w, 30, xrange=zrange, yrange=wrange)\n",
    "plt.plot(x, y, profOpt)\n",
    "\n",
    "labels(\"Drift time ($\\mu$s)\", \"S1 energy (pes)\")\n",
    "save(\"S1widthvsZ\")"
   ]
  },
  {
   "cell_type": "markdown",
   "metadata": {},
   "source": [
    "# S1 height"
   ]
  },
  {
   "cell_type": "code",
   "execution_count": null,
   "metadata": {
    "collapsed": false
   },
   "outputs": [],
   "source": [
    "data = shortZ\n",
    "\n",
    "zrange = 0, 600\n",
    "hrange = 0, 10\n",
    "\n",
    "s1h = flat(data.S1h)\n",
    "\n",
    "hist(s1h, 30, range=hrange)\n",
    "labels(\"S1 height (pes)\", \"Entries\")\n",
    "save(\"S1height\")\n",
    "\n",
    "hist2d(data.Z, s1h, (50, 30), range=(zrange, hrange))\n",
    "x, y, _ = fitf.profileX(data.Z, s1h, 30, xrange=zrange, yrange=hrange)\n",
    "plt.plot(x, y, profOpt)\n",
    "\n",
    "labels(\"Drift time ($\\mu$s)\", \"S1 height (pes)\")\n",
    "save(\"S1heightvsZ\")"
   ]
  },
  {
   "cell_type": "markdown",
   "metadata": {},
   "source": [
    "# S1 peak to area ratio"
   ]
  },
  {
   "cell_type": "code",
   "execution_count": null,
   "metadata": {
    "collapsed": false
   },
   "outputs": [],
   "source": [
    "data = shortZ\n",
    "\n",
    "zrange = 0, 600\n",
    "rrange = 0, 0.5\n",
    "\n",
    "s1r = flat(data.S1h)/flat(data.S1i)\n",
    "\n",
    "hist(s1r, 50, range=rrange)\n",
    "labels(\"Height/Area\", \"Entries\")\n",
    "save(\"S1Peak2Area\")\n",
    "\n",
    "hist2d(data.Z, s1r, (50, 50), range=(zrange, rrange))\n",
    "x, y, _ = fitf.profileX(data.Z, s1r, 30, xrange=zrange, yrange=rrange)\n",
    "plt.plot(x, y, profOpt)\n",
    "\n",
    "labels(\"Drift time ($\\mu$s)\", \"Height/Area\")\n",
    "save(\"S1ratiovsZ\")"
   ]
  },
  {
   "cell_type": "markdown",
   "metadata": {},
   "source": [
    "# S2 energy"
   ]
  },
  {
   "cell_type": "code",
   "execution_count": null,
   "metadata": {
    "collapsed": false
   },
   "outputs": [],
   "source": [
    "data = shortZ\n",
    "\n",
    "zrange = 0, 600\n",
    "Erange = 3e3, 9e3\n",
    "\n",
    "s2i = flat(data.S2i)\n",
    "\n",
    "hist(s2i, 100, range=Erange)\n",
    "labels(\"S2 energy (pes)\", \"Entries\")\n",
    "save(\"S2energy\")\n",
    "\n",
    "hist2d(data.Z, s2i, (50, 100), range=(zrange, Erange))\n",
    "x, y, _ = fitf.profileX(data.Z, s2i, 30, xrange=zrange, yrange=Erange)\n",
    "plt.plot(x, y, profOpt)\n",
    "\n",
    "labels(\"Drift time ($\\mu$s)\", \"S2 energy (pes)\")\n",
    "save(\"S2energyvsZ\")"
   ]
  },
  {
   "cell_type": "markdown",
   "metadata": {},
   "source": [
    "# S2 width"
   ]
  },
  {
   "cell_type": "code",
   "execution_count": null,
   "metadata": {
    "collapsed": false
   },
   "outputs": [],
   "source": [
    "data = shortZ\n",
    "\n",
    "zrange = 0, 600\n",
    "wrange = 5, 15\n",
    "\n",
    "s2w = flat(data.S2w)\n",
    "\n",
    "hist(s2w, 10, range=wrange)\n",
    "labels(\"S2 width ($\\mu$s)\", \"Entries\")\n",
    "save(\"S2width\")\n",
    "\n",
    "hist2d(data.Z, s2w, (50, 20), range=(zrange, wrange))\n",
    "x, y, _ = fitf.profileX(data.Z, s2w, 30, xrange=zrange, yrange=wrange)\n",
    "plt.plot(x, y, profOpt)\n",
    "\n",
    "labels(\"Drift time ($\\mu$s)\", \"S2 energy (pes)\")\n",
    "save(\"S2widthvsZ\")"
   ]
  },
  {
   "cell_type": "markdown",
   "metadata": {},
   "source": [
    "# S2 height"
   ]
  },
  {
   "cell_type": "code",
   "execution_count": null,
   "metadata": {
    "collapsed": false
   },
   "outputs": [],
   "source": [
    "data = shortZ\n",
    "\n",
    "zrange = 0, 600\n",
    "hrange = 0, 5e3\n",
    "\n",
    "s2h = flat(data.S2h)\n",
    "\n",
    "hist(s2h, 30, range=hrange)\n",
    "labels(\"S2 height (pes)\", \"Entries\")\n",
    "save(\"S2height\")\n",
    "\n",
    "hist2d(data.Z, s2h, (50, 30), range=(zrange, hrange))\n",
    "x, y, _ = fitf.profileX(data.Z, s2h, 30, xrange=zrange, yrange=hrange)\n",
    "plt.plot(x, y, profOpt)\n",
    "\n",
    "labels(\"Drift time ($\\mu$s)\", \"S2 height (pes)\")\n",
    "save(\"S2heightvsZ\")"
   ]
  },
  {
   "cell_type": "markdown",
   "metadata": {},
   "source": [
    "# S2 peak to area ratio"
   ]
  },
  {
   "cell_type": "code",
   "execution_count": null,
   "metadata": {
    "collapsed": false
   },
   "outputs": [],
   "source": [
    "data = shortZ\n",
    "\n",
    "zrange = 0, 600\n",
    "rrange = 0, 0.5\n",
    "\n",
    "s2r = flat(data.S2h)/flat(data.S2i)\n",
    "\n",
    "hist(s2r, 50, range=rrange)\n",
    "labels(\"Height/Area\", \"Entries\")\n",
    "save(\"S2Peak2Area\")\n",
    "\n",
    "hist2d(data.Z, s2r, (50, 50), range=(zrange, rrange))\n",
    "x, y, _ = fitf.profileX(data.Z, s2r, 30, xrange=zrange, yrange=rrange)\n",
    "plt.plot(x, y, profOpt)\n",
    "\n",
    "labels(\"Drift time ($\\mu$s)\", \"Height/Area\")\n",
    "save(\"S2ratiovsZ\")"
   ]
  },
  {
   "cell_type": "markdown",
   "metadata": {},
   "source": [
    "# S2 vs S1"
   ]
  },
  {
   "cell_type": "code",
   "execution_count": null,
   "metadata": {
    "collapsed": false
   },
   "outputs": [],
   "source": [
    "data = shortZ\n",
    "\n",
    "Srange = 0, 20\n",
    "Erange = 3e3, 9e3\n",
    "\n",
    "S = flat(data.S1i)\n",
    "E = flat(data.S2i)\n",
    "\n",
    "hist2d(S, E, (50, 50), range=(Srange, Erange))\n",
    "x, y, _ = fitf.profileX(S, E, 30, xrange=Srange, yrange=Erange)\n",
    "plt.plot(x, y, profOpt)\n",
    "\n",
    "sel = fitf.in_range(S, *Srange) & fitf.in_range(E, *Erange)\n",
    "c = covariance(S[sel], E[sel])\n",
    "print(*c)\n",
    "labels(\"S1 energy (pes)\", \"S2 energy (pes)\")\n",
    "save(\"S2vsS1\")"
   ]
  },
  {
   "cell_type": "code",
   "execution_count": null,
   "metadata": {
    "collapsed": false
   },
   "outputs": [],
   "source": [
    "data = shortZ\n",
    "\n",
    "zrange = 0, 600\n",
    "Rrange = 0, 0.006\n",
    "\n",
    "R = flat(data.S1i)/flat(data.S2i)\n",
    "\n",
    "hist(R, 50, range=Rrange)\n",
    "labels(\"S1/S2\", \"Entries\")\n",
    "save(\"S12ratio\")\n",
    "\n",
    "hist2d(data.Z, R, (50, 50), range=(zrange, Rrange))\n",
    "x, y, _ = fitf.profileX(data.Z, R, 30, xrange=zrange, yrange=Rrange)\n",
    "plt.plot(x, y, profOpt)\n",
    "\n",
    "labels(\"Drift time ($\\mu$s)\", \"S1/S2\")\n",
    "save(\"S12ratiovsZ\")"
   ]
  },
  {
   "cell_type": "markdown",
   "metadata": {},
   "source": [
    "# Temporary fiducialization"
   ]
  },
  {
   "cell_type": "code",
   "execution_count": null,
   "metadata": {
    "collapsed": false
   },
   "outputs": [],
   "source": [
    "fiducialized = shortZ[shortZ.R < 100]"
   ]
  },
  {
   "cell_type": "markdown",
   "metadata": {},
   "source": [
    "# S2 energy fiducialized"
   ]
  },
  {
   "cell_type": "code",
   "execution_count": null,
   "metadata": {
    "collapsed": false
   },
   "outputs": [],
   "source": [
    "data = fiducialized\n",
    "\n",
    "zrange = 0, 600\n",
    "Erange = 3e3, 9e3\n",
    "\n",
    "s2i = flat(data.S2i)\n",
    "\n",
    "hist(s2i, 100, range=Erange)\n",
    "labels(\"S2 energy (pes)\", \"Entries\")\n",
    "save(\"S2energy_fiducial\")\n",
    "\n",
    "hist2d(data.Z, s2i, (50, 100), range=(zrange, Erange))\n",
    "x, y, _ = fitf.profileX(data.Z, s2i, 30, xrange=zrange, yrange=Erange)\n",
    "plt.plot(x, y, profOpt)\n",
    "\n",
    "sel  = fitf.in_range(x, 25, 550)\n",
    "x, y = x[sel], y[sel]\n",
    "\n",
    "f = fitf.fit(fitf.expo, x, y, (1e4, -200))\n",
    "plt.plot(x, f.fn(x), fitOpt)\n",
    "print(f.values)\n",
    "labels(\"Drift time ($\\mu$s)\", \"S2 energy (pes)\")\n",
    "save(\"S2energyvsZ_fiducial\")\n",
    "\n",
    "zfun  = f.fn\n",
    "zmin  = np.min(x)\n",
    "zcorr = lambda z: zfun(zmin)/zfun(z)"
   ]
  },
  {
   "cell_type": "markdown",
   "metadata": {},
   "source": [
    "# Correction by attachment"
   ]
  },
  {
   "cell_type": "code",
   "execution_count": null,
   "metadata": {
    "collapsed": false
   },
   "outputs": [],
   "source": [
    "data = fiducialized\n",
    "\n",
    "zrange = 0, 600\n",
    "Erange = 5e3, 9e3\n",
    "\n",
    "s2i = flat(data.S2i) * zcorr(data.Z)\n",
    "\n",
    "y, x, _ = hist(s2i, 100, range=Erange)\n",
    "\n",
    "x    = x[:-1] + np.diff(x) * 0.5\n",
    "sel  = fitf.in_range(x, 6500, 8000)\n",
    "x, y = x[sel], y[sel]\n",
    "f    = fitf.fit(fitf.gauss, x, y, (1e3, 7e3, 200))\n",
    "plt.plot(x, f.fn(x), fitOpt)\n",
    "\n",
    "reso = 235 * f.values[2] / f.values[1]\n",
    "reso = reso, reso * (41.5/2458)**0.5\n",
    "pars = tuple(f.values[1:]) + reso\n",
    "plt.text(5e3, 2e2, \"$\\mu$ = {:.1f}\\n$\\sigma$ = {:.1f}\\nR = {:.2f} %\\nRbb = {:.2f} %\".format(*pars))\n",
    "\n",
    "labels(\"S2 energy (pes)\", \"Entries\")\n",
    "save(\"S2energyCorr_fiducial\")\n",
    "\n",
    "hist2d(data.Z, s2i, (50, 100), range=(zrange, Erange))\n",
    "x, y, _ = fitf.profileX(data.Z, s2i, 30, xrange=zrange, yrange=Erange)\n",
    "plt.plot(x, y, profOpt)\n",
    "\n",
    "sel  = fitf.in_range(x, 25, 550)\n",
    "x, y = x[sel], y[sel]\n",
    "f    = fitf.fit(fitf.expo, x, y, (1e4, -200))\n",
    "plt.plot(x, f.fn(x), fitOpt)\n",
    "\n",
    "print(f.values)\n",
    "labels(\"Drift time ($\\mu$s)\", \"S2 energy (pes)\")\n",
    "save(\"S2energyCorrvsZ_fiducial\")"
   ]
  },
  {
   "cell_type": "markdown",
   "metadata": {},
   "source": [
    "# Tracking"
   ]
  },
  {
   "cell_type": "code",
   "execution_count": null,
   "metadata": {
    "collapsed": false
   },
   "outputs": [],
   "source": [
    "data = shortZ\n",
    "\n",
    "nrange = 0, 12\n",
    "zrange = 0, 600\n",
    "\n",
    "nsipm = flat(data.Nsipm)\n",
    "\n",
    "hist(nsipm, max(nrange), nrange)\n",
    "labels(\"# SiPMs\", \"Entries\")\n",
    "save(\"Nsipm\")\n",
    "\n",
    "hist2d(data.Z, nsipm, (30, max(nrange)), range=(zrange, nrange))\n",
    "x, y, _ = fitf.profileX(data.Z, nsipm, 30, xrange=zrange, yrange=nrange)\n",
    "plt.plot(x, y, profOpt)\n",
    "\n",
    "labels(\"Drift time ($\\mu$s)\", \"# SiPMs\")\n",
    "save(\"NsipmvsZ\")\n"
   ]
  },
  {
   "cell_type": "markdown",
   "metadata": {},
   "source": [
    "# Take events with > 2 sipms, acceptable S2 energy and fiducialized to 180 mm"
   ]
  },
  {
   "cell_type": "code",
   "execution_count": null,
   "metadata": {
    "collapsed": false
   },
   "outputs": [],
   "source": [
    "spread = shortZ[(flat(shortZ.Nsipm) > 1) & (flat(shortZ.S2i) < 9000) & (flat(shortZ.R) < 180)]"
   ]
  },
  {
   "cell_type": "markdown",
   "metadata": {},
   "source": [
    "# Event distribution"
   ]
  },
  {
   "cell_type": "code",
   "execution_count": null,
   "metadata": {
    "collapsed": false,
    "scrolled": false
   },
   "outputs": [],
   "source": [
    "data = spread\n",
    "\n",
    "xrange = -215, 215\n",
    "yrange = -215, 215\n",
    "rrange =    0, 215\n",
    "prange = - pi,  pi\n",
    "\n",
    "hist(data.X, 50, range=xrange)\n",
    "labels(\"x (mm)\", \"Entries\")\n",
    "save(\"X\")\n",
    "\n",
    "hist(data.Y, 50, range=yrange)\n",
    "labels(\"y (mm)\", \"Entries\")\n",
    "save(\"Y\")\n",
    "\n",
    "hist(data.R, 50, range=rrange)\n",
    "labels(\"r (mm)\", \"Entries\")\n",
    "save(\"R\")\n",
    "\n",
    "hist(data.Phi, 50, range=prange)\n",
    "labels(\"$\\phi$ (rad)\", \"Entries\")\n",
    "save(\"Phi\")\n",
    "\n",
    "nevts, xs, ys, _ = \\\n",
    "hist2d(data.X, data.Y, (50, 50), range=(xrange, yrange))\n",
    "plt.colorbar().set_label(\"# events\")\n",
    "labels(\"x (mm)\", \"y (mm)\")\n",
    "save(\"XY\")\n",
    "\n",
    "################################\n",
    "hist2d(data.R, data.Phi, (50, 50), range=(rrange, prange))\n",
    "plt.colorbar().set_label(\"# events\")\n",
    "labels(\"r (mm)\", \"$\\phi$ (mm)\")\n",
    "save(\"RPhi\")\n",
    "\n",
    "def stat_corr(xs, ys, ns):\n",
    "    xs = xs.reshape(xs.size, 1)\n",
    "    ys = ys.reshape(ys.size, 1)\n",
    "    def correct(x, y):\n",
    "        x_closest = np.apply_along_axis(np.argmin, 0, abs(x-xs))\n",
    "        y_closest = np.apply_along_axis(np.argmin, 0, abs(y-ys))\n",
    "        n = ns[x_closest, y_closest]\n",
    "        n[n==0] = np.nan\n",
    "        return n\n",
    "    return correct\n",
    "statcorr = stat_corr(xs[:-1], ys[:-1], nevts)\n"
   ]
  },
  {
   "cell_type": "markdown",
   "metadata": {},
   "source": [
    "# Tracking charge"
   ]
  },
  {
   "cell_type": "code",
   "execution_count": null,
   "metadata": {
    "collapsed": false
   },
   "outputs": [],
   "source": [
    "data = spread\n",
    "\n",
    "zrange = 0, 600\n",
    "Qrange = 0, 500\n",
    "\n",
    "s2q = flat(data.Q)\n",
    "\n",
    "hist(s2q, 100, range=Qrange)\n",
    "labels(\"S2 charge (pes)\", \"Entries\")\n",
    "save(\"S2charge\")\n",
    "\n",
    "hist2d(data.Z, s2q, (50, 100), range=(zrange, Qrange))\n",
    "x, y, _ = fitf.profileX(data.Z, s2q, 30, xrange=zrange, yrange=Qrange)\n",
    "plt.plot(x, y, profOpt)\n",
    "\n",
    "labels(\"Drift time ($\\mu$s)\", \"S2 charge (pes)\")\n",
    "save(\"S2chargevsZ\")"
   ]
  },
  {
   "cell_type": "code",
   "execution_count": null,
   "metadata": {
    "collapsed": false,
    "scrolled": false
   },
   "outputs": [],
   "source": [
    "data = spread\n",
    "xrange = -215, 215\n",
    "yrange = -215, 215\n",
    "rrange =    0, 215\n",
    "prange = - pi,  pi\n",
    "Qrange =    0, 500\n",
    "\n",
    "Q  = flat(data.Q)\n",
    "Qw = Q/statcorr(data.X, data.Y)\n",
    "hist2d(data.X, data.Y, (50, 50), range=(xrange, yrange), weights=Qw, cmax=Qrange[1])\n",
    "plt.colorbar()\n",
    "labels(\"x (mm)\", \"y (mm)\")\n",
    "save(\"QvsXY\")\n",
    "\n",
    "hist2d(data.R, data.Phi, (50, 50), range=(rrange, prange), weights=Qw, cmax=Qrange[1])\n",
    "labels(\"r (mm)\", \"$\\phi$ (rad)\")\n",
    "save(\"QvsRPhi\")\n",
    "\n",
    "hist2d(data.R, Q, (50, 50), range=(rrange, Qrange))\n",
    "x, y, _ = fitf.profileX(data.R, Q, 50, xrange=rrange, yrange=Qrange)\n",
    "plt.plot(x, y, profOpt)\n",
    "labels(\"r (mm)\", \"S2 charge (pes)\")\n",
    "save(\"QvsR\")\n",
    "\n",
    "hist2d(data.Phi, Q, (50, 50), range=(prange, Qrange))\n",
    "x, y, _ = fitf.profileX(data.Phi, Q, 50, xrange=prange, yrange=Qrange)\n",
    "plt.plot(x, y, profOpt)\n",
    "labels(\"phi (rad)\", \"S2 charge (pes)\")\n",
    "save(\"QvsPhi\")\n"
   ]
  },
  {
   "cell_type": "markdown",
   "metadata": {},
   "source": [
    "# Energy vs position"
   ]
  },
  {
   "cell_type": "code",
   "execution_count": null,
   "metadata": {
    "collapsed": false,
    "scrolled": false
   },
   "outputs": [],
   "source": [
    "data   = spread\n",
    "xrange = -215, 215\n",
    "yrange = -215, 215\n",
    "rrange =    0, 215\n",
    "prange = - pi,  pi\n",
    "Erange =  4e3, 9e3\n",
    "\n",
    "E  = flat(data.S2i) * zcorr(data.Z)\n",
    "Ew = E / statcorr(data.X, data.Y)\n",
    "\n",
    "Es, xs, ys, _ = \\\n",
    "hist2d(data.X, data.Y, (50, 50), range=(xrange, yrange), weights=Ew, cmax=Erange[1])\n",
    "plt.colorbar()\n",
    "labels(\"x (mm)\", \"y (mm)\")\n",
    "save(\"EvsXY\")\n",
    "\n",
    "hist2d(data.R, data.Phi, (50, 50), range=(rrange, prange), weights=Ew, cmax=Erange[1])\n",
    "labels(\"r (mm)\", \"$\\phi$ (rad)\")\n",
    "save(\"EvsRPhi\")\n",
    "\n",
    "hist2d(data.R, E, (50, 50), range=(rrange, Erange), weights=E)\n",
    "x, y, _ = fitf.profileX(data.R, E, 50, xrange=rrange, yrange=Erange)\n",
    "plt.plot(x, y, profOpt)\n",
    "labels(\"r (mm)\", \"S2 energy (pes)\")\n",
    "save(\"EvsR\")\n",
    "\n",
    "hist2d(data.Phi, E, (50, 50), range=(prange, Erange), weights=E)\n",
    "x, y, _ = fitf.profileX(data.Phi, E, 50, xrange=prange, yrange=Erange)\n",
    "plt.plot(x, y, profOpt)\n",
    "labels(\"phi (rad)\", \"S2 energy (pes)\")\n",
    "save(\"EvsPhi\")\n",
    "\n",
    "def get_xycorr(xs, ys, es):\n",
    "    eref = np.nanmax(es)\n",
    "    xs   = xs.reshape(xs.size, 1)\n",
    "    ys   = ys.reshape(ys.size, 1)\n",
    "    print(eref)\n",
    "    def xycorr(x, y):\n",
    "        x_closest = np.apply_along_axis(np.argmin, 0, abs(x-xs))\n",
    "        y_closest = np.apply_along_axis(np.argmin, 0, abs(y-ys))\n",
    "        e = es[x_closest, y_closest]\n",
    "        e[e<1e3] = eref\n",
    "        return eref/ e\n",
    "    return xycorr\n",
    "xycorr = get_xycorr(xs[:-1], ys[:-1], Es)\n"
   ]
  },
  {
   "cell_type": "markdown",
   "metadata": {},
   "source": [
    "# Correction by attachment and position"
   ]
  },
  {
   "cell_type": "code",
   "execution_count": null,
   "metadata": {
    "collapsed": false,
    "scrolled": false
   },
   "outputs": [],
   "source": [
    "data   = spread\n",
    "xrange = -215, 215\n",
    "yrange = -215, 215\n",
    "rrange =    0, 215\n",
    "prange = - pi,  pi\n",
    "Erange =  4e3, 12e3\n",
    "\n",
    "E  = flat(data.S2i) * zcorr(data.Z) * xycorr(data.X, data.Y)\n",
    "Ew = E / statcorr(data.X, data.Y)\n",
    "\n",
    "hist(E, 100, Erange)\n",
    "labels(\"S2 energy (pes)\", \"Entries\")\n",
    "save(\"S2energyCorr\")\n",
    "\n",
    "hist2d(data.X, data.Y, (50, 50), range=(xrange, yrange), weights=Ew, cmin = 0, cmax=Erange[1])\n",
    "labels(\"x (mm)\", \"y (mm)\")\n",
    "save(\"ECorrvsXY\")\n",
    "\n",
    "hist2d(data.R, data.Phi, (50, 50), range=(rrange, prange), weights=Ew, cmax=Erange[1])\n",
    "labels(\"r (mm)\", \"$\\phi$ (rad)\")\n",
    "save(\"ECorrvsRPhi\")\n",
    "\n",
    "hist2d(data.R, E, (50, 50), range=(rrange, Erange), weights=E)\n",
    "x, y, _ = fitf.profileX(data.R, E, 50, xrange=rrange, yrange=Erange)\n",
    "plt.plot(x, y, profOpt)\n",
    "labels(\"r (mm)\", \"S2 energy (pes)\")\n",
    "save(\"ECorrvsR\")\n",
    "\n",
    "hist2d(data.Phi, E, (50, 50), range=(prange, Erange), weights=E)\n",
    "x, y, _ = fitf.profileX(data.Phi, E, 50, xrange=prange, yrange=Erange)\n",
    "plt.plot(x, y, profOpt)\n",
    "labels(\"phi (rad)\", \"S2 energy (pes)\")\n",
    "save(\"ECorrvsPhi\")\n"
   ]
  },
  {
   "cell_type": "code",
   "execution_count": null,
   "metadata": {
    "collapsed": true
   },
   "outputs": [],
   "source": []
  },
  {
   "cell_type": "code",
   "execution_count": null,
   "metadata": {
    "collapsed": true
   },
   "outputs": [],
   "source": []
  },
  {
   "cell_type": "code",
   "execution_count": null,
   "metadata": {
    "collapsed": true
   },
   "outputs": [],
   "source": []
  },
  {
   "cell_type": "code",
   "execution_count": null,
   "metadata": {
    "collapsed": true
   },
   "outputs": [],
   "source": []
  },
  {
   "cell_type": "code",
   "execution_count": null,
   "metadata": {
    "collapsed": true
   },
   "outputs": [],
   "source": []
  },
  {
   "cell_type": "code",
   "execution_count": null,
   "metadata": {
    "collapsed": true
   },
   "outputs": [],
   "source": []
  },
  {
   "cell_type": "code",
   "execution_count": null,
   "metadata": {
    "collapsed": true
   },
   "outputs": [],
   "source": []
  },
  {
   "cell_type": "code",
   "execution_count": null,
   "metadata": {
    "collapsed": true
   },
   "outputs": [],
   "source": []
  },
  {
   "cell_type": "code",
   "execution_count": null,
   "metadata": {
    "collapsed": true
   },
   "outputs": [],
   "source": []
  },
  {
   "cell_type": "code",
   "execution_count": null,
   "metadata": {
    "collapsed": true
   },
   "outputs": [],
   "source": []
  },
  {
   "cell_type": "code",
   "execution_count": null,
   "metadata": {
    "collapsed": true
   },
   "outputs": [],
   "source": []
  },
  {
   "cell_type": "code",
   "execution_count": null,
   "metadata": {
    "collapsed": true
   },
   "outputs": [],
   "source": []
  },
  {
   "cell_type": "code",
   "execution_count": null,
   "metadata": {
    "collapsed": true
   },
   "outputs": [],
   "source": []
  },
  {
   "cell_type": "code",
   "execution_count": null,
   "metadata": {
    "collapsed": true
   },
   "outputs": [],
   "source": []
  },
  {
   "cell_type": "code",
   "execution_count": null,
   "metadata": {
    "collapsed": true
   },
   "outputs": [],
   "source": []
  },
  {
   "cell_type": "code",
   "execution_count": null,
   "metadata": {
    "collapsed": true
   },
   "outputs": [],
   "source": []
  },
  {
   "cell_type": "code",
   "execution_count": null,
   "metadata": {
    "collapsed": true
   },
   "outputs": [],
   "source": []
  },
  {
   "cell_type": "code",
   "execution_count": null,
   "metadata": {
    "collapsed": true
   },
   "outputs": [],
   "source": []
  },
  {
   "cell_type": "code",
   "execution_count": null,
   "metadata": {
    "collapsed": true
   },
   "outputs": [],
   "source": []
  },
  {
   "cell_type": "code",
   "execution_count": null,
   "metadata": {
    "collapsed": true
   },
   "outputs": [],
   "source": []
  }
 ],
 "metadata": {
  "kernelspec": {
   "display_name": "Python 3",
   "language": "python",
   "name": "python3"
  },
  "language_info": {
   "codemirror_mode": {
    "name": "ipython",
    "version": 3
   },
   "file_extension": ".py",
   "mimetype": "text/x-python",
   "name": "python",
   "nbconvert_exporter": "python",
   "pygments_lexer": "ipython3",
   "version": "3.5.2"
  }
 },
 "nbformat": 4,
 "nbformat_minor": 2
}
