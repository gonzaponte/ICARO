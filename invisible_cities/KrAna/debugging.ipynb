{
 "cells": [
  {
   "cell_type": "code",
   "execution_count": 13,
   "metadata": {
    "collapsed": true
   },
   "outputs": [],
   "source": [
    "import numpy as np\n",
    "\n",
    "import invisible_cities.cities.irene as irene\n",
    "import invisible_cities.core.system_of_units as units\n",
    "from invisible_cities.cities.base_cities import S12Params as S12P\n",
    "\n",
    "import invisible_cities.reco.peak_functions_c as cpf\n",
    "import invisible_cities.reco.peak_functions as pf"
   ]
  },
  {
   "cell_type": "code",
   "execution_count": 2,
   "metadata": {
    "collapsed": false
   },
   "outputs": [],
   "source": [
    "%load_ext autoreload\n",
    "%autoreload 2"
   ]
  },
  {
   "cell_type": "code",
   "execution_count": 3,
   "metadata": {
    "collapsed": false
   },
   "outputs": [],
   "source": [
    "datadir  = \"/Users/Gonzalo/github/NEXTdata/Kr2016/mar/rwf/\"\n",
    "filename = datadir + \"dst_NEXT_v0_08_09_Kr_ACTIVE_0_0_7bar_RWF_10000.root.h5\"\n",
    "\n",
    "s1_params = S12P(tmin   =  99 * units.mus,\n",
    "                 tmax   = 101 * units.mus,\n",
    "                 stride =   4,\n",
    "                 lmin   =   4,\n",
    "                 lmax   =  16,\n",
    "                 rebin  = False)\n",
    "\n",
    "# parameters for s2 searches\n",
    "s2_params = S12P(tmin   =  101 * units.mus,\n",
    "                 tmax   = 1199 * units.mus,\n",
    "                 stride =   40,\n",
    "                 lmin   =   80,\n",
    "                 lmax   = 100000,\n",
    "                 rebin  = True)\n",
    "\n",
    "irene_instance = irene.Irene(0,\n",
    "                             [filename],\n",
    "                             \"dummy.h5\",\n",
    "                             \"ZLIB4\",\n",
    "                             1,\n",
    "                             38000,\n",
    "                             5 * units.adc,\n",
    "                             100,\n",
    "                             3 * units.adc,\n",
    "                             0.2 * units.adc,\n",
    "                             1.0 * units.adc,\n",
    "                             100,\n",
    "                             3.5 * units.pes,\n",
    "                             s1_params,\n",
    "                             s2_params,\n",
    "                             30 * units.pes)"
   ]
  },
  {
   "cell_type": "code",
   "execution_count": 4,
   "metadata": {
    "collapsed": false
   },
   "outputs": [
    {
     "name": "stdout",
     "output_type": "stream",
     "text": [
      "\n",
      "                 Irene will run a max of 40 events\n",
      "                 Input Files = ['/Users/Gonzalo/github/NEXTdata/Kr2016/mar/rwf/dst_NEXT_v0_08_09_Kr_ACTIVE_0_0_7bar_RWF_10000.root.h5']\n",
      "                 Output File = dummy.h5\n",
      "                          \n",
      "\n",
      "                 S1 parameters S12Params(tmin=99000.0, tmax=101000.0, stride=4, lmin=4, lmax=16, rebin=False)\n",
      "\n",
      "                 S2 parameters S12Params(tmin=101000.0, tmax=1199000.0, stride=40, lmin=80, lmax=100000, rebin=True)\n",
      "\n",
      "                 S2Si parameters\n",
      "                 threshold min charge per SiPM = 3.5 pes\n",
      "                 threshold min charge in  S2   = 30 pes\n",
      "                          \n",
      "Opening /Users/Gonzalo/github/NEXTdata/Kr2016/mar/rwf/dst_NEXT_v0_08_09_Kr_ACTIVE_0_0_7bar_RWF_10000.root.h5... Events in file = 10000\n",
      "# PMT                  => 12\n",
      "# SiPM                 => 1792\n",
      "PMT WL                 => 48000\n",
      "SIPM WL                => 1200\n",
      "event in file = 0, total = 1\n",
      "event in file = 1, total = 2\n",
      "event in file = 2, total = 3\n",
      "event in file = 3, total = 4\n",
      "event in file = 4, total = 5\n",
      "event in file = 5, total = 6\n",
      "event in file = 6, total = 7\n",
      "event in file = 7, total = 8\n",
      "event in file = 8, total = 9\n",
      "event in file = 9, total = 10\n",
      "event in file = 10, total = 11\n",
      "event in file = 11, total = 12\n",
      "event in file = 12, total = 13\n",
      "event in file = 13, total = 14\n",
      "event in file = 14, total = 15\n",
      "event in file = 15, total = 16\n",
      "event in file = 16, total = 17\n",
      "event in file = 17, total = 18\n",
      "event in file = 18, total = 19\n",
      "event in file = 19, total = 20\n",
      "event in file = 20, total = 21\n",
      "event in file = 21, total = 22\n",
      "event in file = 22, total = 23\n",
      "event in file = 23, total = 24\n",
      "event in file = 24, total = 25\n",
      "event in file = 25, total = 26\n",
      "event in file = 26, total = 27\n",
      "event in file = 27, total = 28\n",
      "event in file = 28, total = 29\n",
      "event in file = 29, total = 30\n",
      "event in file = 30, total = 31\n",
      "event in file = 31, total = 32\n",
      "event in file = 32, total = 33\n",
      "event in file = 33, total = 34\n",
      "event in file = 34, total = 35\n",
      "event in file = 35, total = 36\n",
      "event in file = 36, total = 37\n",
      "event in file = 37, total = 38\n",
      "event in file = 38, total = 39\n",
      "event in file = 39, total = 40\n",
      "reached max nof of events (=40)\n",
      "Energy plane empty events (skipped) = 0\n"
     ]
    },
    {
     "data": {
      "text/plain": [
       "40"
      ]
     },
     "execution_count": 4,
     "metadata": {},
     "output_type": "execute_result"
    }
   ],
   "source": [
    "irene_instance.run(40)"
   ]
  },
  {
   "cell_type": "code",
   "execution_count": 5,
   "metadata": {
    "collapsed": false,
    "scrolled": false
   },
   "outputs": [],
   "source": [
    "def get_data(filename):\n",
    "    with open(filename) as inf:\n",
    "        inf.readline()\n",
    "        s1ene = list(map(float, inf.readline().split()))\n",
    "        inf.readline()\n",
    "        s1idx = list(map(int, inf.readline().split()))\n",
    "        inf.readline()\n",
    "        s2ene = list(map(float, inf.readline().split()))\n",
    "        inf.readline()\n",
    "        s2idx = list(map(int, inf.readline().split()))\n",
    "        inf.readline()\n",
    "        sipmzs = [list(map(float, line.split())) for line in inf]\n",
    "\n",
    "        return map(np.array,\n",
    "                   [     s1ene,    s1idx,      s2ene,    s2idx,     sipmzs],\n",
    "                   [np.float64, np.int32, np.float64, np.int32, np.float64])"
   ]
  },
  {
   "cell_type": "code",
   "execution_count": 16,
   "metadata": {
    "collapsed": false
   },
   "outputs": [],
   "source": [
    "s1e, s1i, s2e, s2i, sis = get_data(\"36.txt\")"
   ]
  },
  {
   "cell_type": "code",
   "execution_count": 18,
   "metadata": {
    "collapsed": false
   },
   "outputs": [],
   "source": [
    "s2 = cpf.find_S12(s2e, s2i, **s2_params._asdict())"
   ]
  },
  {
   "cell_type": "code",
   "execution_count": 19,
   "metadata": {
    "collapsed": false
   },
   "outputs": [
    {
     "data": {
      "text/plain": [
       "{0: [array([ 589082.5 ,  590112.5 ,  591112.5 ,  592112.5 ,  593112.5 ,\n",
       "          594112.5 ,  595112.5 ,  596112.5 ,  597112.5 ,  598112.5 ,\n",
       "          599120.  ,  599981.25]),\n",
       "  array([  67.44696143,  186.23150788,  339.80177223,  540.70461138,\n",
       "          811.36222512,  904.94458646,  896.51120421,  714.30080047,\n",
       "          424.6148206 ,  201.59348417,   86.34136163,   21.83577793])]}"
      ]
     },
     "execution_count": 19,
     "metadata": {},
     "output_type": "execute_result"
    }
   ],
   "source": [
    "s2"
   ]
  },
  {
   "cell_type": "code",
   "execution_count": 20,
   "metadata": {
    "collapsed": true
   },
   "outputs": [],
   "source": [
    "sipms = cpf.select_sipm(sis)"
   ]
  },
  {
   "cell_type": "code",
   "execution_count": 21,
   "metadata": {
    "collapsed": false
   },
   "outputs": [],
   "source": [
    "S2Si = pf.sipm_s2_dict(sipms, s2, thr = 30.)"
   ]
  },
  {
   "cell_type": "code",
   "execution_count": 31,
   "metadata": {
    "collapsed": false
   },
   "outputs": [],
   "source": [
    "t, e = s2[0]"
   ]
  },
  {
   "cell_type": "code",
   "execution_count": 32,
   "metadata": {
    "collapsed": false
   },
   "outputs": [
    {
     "data": {
      "text/plain": [
       "array([ 589082.5 ,  590112.5 ,  591112.5 ,  592112.5 ,  593112.5 ,\n",
       "        594112.5 ,  595112.5 ,  596112.5 ,  597112.5 ,  598112.5 ,\n",
       "        599120.  ,  599981.25])"
      ]
     },
     "execution_count": 32,
     "metadata": {},
     "output_type": "execute_result"
    }
   ],
   "source": [
    "t"
   ]
  },
  {
   "cell_type": "code",
   "execution_count": 40,
   "metadata": {
    "collapsed": false
   },
   "outputs": [
    {
     "data": {
      "text/plain": [
       "array([ 1030.  ,  1000.  ,  1000.  ,  1000.  ,  1000.  ,  1000.  ,\n",
       "        1000.  ,  1000.  ,  1000.  ,  1007.5 ,   861.25])"
      ]
     },
     "execution_count": 40,
     "metadata": {},
     "output_type": "execute_result"
    }
   ],
   "source": [
    "np.diff(t)"
   ]
  },
  {
   "cell_type": "code",
   "execution_count": 43,
   "metadata": {
    "collapsed": false
   },
   "outputs": [
    {
     "data": {
      "text/plain": [
       "(array([  67.44696143,  186.23150788,  339.80177223,  540.70461138,\n",
       "         811.36222512,  904.94458646,  896.51120421,  714.30080047,\n",
       "         424.6148206 ,  201.59348417,   86.34136163,   21.83577793]),\n",
       " array([  67.,  186.,  340.,  541.,  811.,  905.,  897.,  714.,  425.,\n",
       "         202.,   86.,   22.]))"
      ]
     },
     "execution_count": 43,
     "metadata": {},
     "output_type": "execute_result"
    }
   ],
   "source": [
    "e, np.round(e)"
   ]
  },
  {
   "cell_type": "code",
   "execution_count": 34,
   "metadata": {
    "collapsed": true
   },
   "outputs": [],
   "source": [
    "T = t // units.mus"
   ]
  },
  {
   "cell_type": "code",
   "execution_count": 35,
   "metadata": {
    "collapsed": false
   },
   "outputs": [
    {
     "data": {
      "text/plain": [
       "array([ 589.,  590.,  591.,  592.,  593.,  594.,  595.,  596.,  597.,\n",
       "        598.,  599.,  599.])"
      ]
     },
     "execution_count": 35,
     "metadata": {},
     "output_type": "execute_result"
    }
   ],
   "source": [
    "T"
   ]
  },
  {
   "cell_type": "code",
   "execution_count": 36,
   "metadata": {
    "collapsed": false
   },
   "outputs": [
    {
     "data": {
      "text/plain": [
       "(589, 600)"
      ]
     },
     "execution_count": 36,
     "metadata": {},
     "output_type": "execute_result"
    }
   ],
   "source": [
    "int(T[0]), int(T[-1]) + 1"
   ]
  },
  {
   "cell_type": "code",
   "execution_count": 37,
   "metadata": {
    "collapsed": false
   },
   "outputs": [
    {
     "data": {
      "text/plain": [
       "11"
      ]
     },
     "execution_count": 37,
     "metadata": {},
     "output_type": "execute_result"
    }
   ],
   "source": [
    "600 - 589"
   ]
  },
  {
   "cell_type": "code",
   "execution_count": 56,
   "metadata": {
    "collapsed": false
   },
   "outputs": [
    {
     "data": {
      "text/plain": [
       "array([589, 590, 591, 592, 593, 594, 595, 596, 597, 598, 599])"
      ]
     },
     "execution_count": 56,
     "metadata": {},
     "output_type": "execute_result"
    }
   ],
   "source": [
    "a = np.arange(589, 600)\n",
    "a"
   ]
  },
  {
   "cell_type": "code",
   "execution_count": 57,
   "metadata": {
    "collapsed": false
   },
   "outputs": [
    {
     "data": {
      "text/plain": [
       "array([593, 594])"
      ]
     },
     "execution_count": 57,
     "metadata": {},
     "output_type": "execute_result"
    }
   ],
   "source": [
    "x = a[4:6].astype(np.int)\n",
    "x"
   ]
  },
  {
   "cell_type": "code",
   "execution_count": 58,
   "metadata": {
    "collapsed": false
   },
   "outputs": [
    {
     "data": {
      "text/plain": [
       "array([589, 590, 591, 592,   0,   0, 595, 596, 597, 598, 599])"
      ]
     },
     "execution_count": 58,
     "metadata": {},
     "output_type": "execute_result"
    }
   ],
   "source": [
    "a[4:6] = 0\n",
    "a"
   ]
  },
  {
   "cell_type": "code",
   "execution_count": 59,
   "metadata": {
    "collapsed": false
   },
   "outputs": [
    {
     "data": {
      "text/plain": [
       "array([593, 594])"
      ]
     },
     "execution_count": 59,
     "metadata": {},
     "output_type": "execute_result"
    }
   ],
   "source": [
    "x"
   ]
  },
  {
   "cell_type": "code",
   "execution_count": 68,
   "metadata": {
    "collapsed": true
   },
   "outputs": [],
   "source": [
    "import matplotlib.pyplot as plt\n",
    "%matplotlib inline"
   ]
  },
  {
   "cell_type": "code",
   "execution_count": 60,
   "metadata": {
    "collapsed": true
   },
   "outputs": [],
   "source": [
    "import tables as tb\n",
    "h5f = tb.open_file(\"/Users/Gonzalo/github/NEXTdata/Kr2016/mar/rwf/dst_NEXT_v0_08_09_Kr_ACTIVE_0_0_7bar_RWF_10000.root.h5\")"
   ]
  },
  {
   "cell_type": "code",
   "execution_count": 70,
   "metadata": {
    "collapsed": true
   },
   "outputs": [],
   "source": [
    "import invisible_cities.database.load_db as DB\n",
    "pmt = DB.DataPMT()"
   ]
  },
  {
   "cell_type": "code",
   "execution_count": 82,
   "metadata": {
    "collapsed": false
   },
   "outputs": [],
   "source": [
    "sumwf = np.sum((h5f.root.RD.pmtrwf[36, :] - np.mean(h5f.root.RD.pmtrwf[36, :], axis=1).reshape(12,1)) / pmt.adc_to_pes.values.reshape(12, 1), axis=0)"
   ]
  },
  {
   "cell_type": "code",
   "execution_count": 102,
   "metadata": {
    "collapsed": false
   },
   "outputs": [
    {
     "data": {
      "text/plain": [
       "(597000, 600000)"
      ]
     },
     "execution_count": 102,
     "metadata": {},
     "output_type": "execute_result"
    },
    {
     "data": {
      "image/png": "[encoded data removed]",
      "text/plain": [
       "<matplotlib.figure.Figure at 0x114e8f320>"
      ]
     },
     "metadata": {},
     "output_type": "display_data"
    }
   ],
   "source": [
    "plt.scatter(np.argwhere(sumwf>-2) * 25, sumwf[sumwf>-2])\n",
    "plt.xlim(597000, 600000)"
   ]
  },
  {
   "cell_type": "code",
   "execution_count": 105,
   "metadata": {
    "collapsed": false
   },
   "outputs": [
    {
     "data": {
      "text/plain": [
       "(-5, 0)"
      ]
     },
     "execution_count": 105,
     "metadata": {},
     "output_type": "execute_result"
    },
    {
     "data": {
      "image/png": "[encoded data removed]",
      "text/plain": [
       "<matplotlib.figure.Figure at 0x114a81a20>"
      ]
     },
     "metadata": {},
     "output_type": "display_data"
    }
   ],
   "source": [
    "plt.scatter(np.arange(len(sumwf))*25, sumwf)\n",
    "plt.xlim(599000, 600000)\n",
    "plt.ylim(-5, 0)"
   ]
  },
  {
   "cell_type": "code",
   "execution_count": null,
   "metadata": {
    "collapsed": true
   },
   "outputs": [],
   "source": []
  }
 ],
 "metadata": {
  "kernelspec": {
   "display_name": "Python 3",
   "language": "python",
   "name": "python3"
  },
  "language_info": {
   "codemirror_mode": {
    "name": "ipython",
    "version": 3
   },
   "file_extension": ".py",
   "mimetype": "text/x-python",
   "name": "python",
   "nbconvert_exporter": "python",
   "pygments_lexer": "ipython3",
   "version": "3.5.2"
  }
 },
 "nbformat": 4,
 "nbformat_minor": 2
}
