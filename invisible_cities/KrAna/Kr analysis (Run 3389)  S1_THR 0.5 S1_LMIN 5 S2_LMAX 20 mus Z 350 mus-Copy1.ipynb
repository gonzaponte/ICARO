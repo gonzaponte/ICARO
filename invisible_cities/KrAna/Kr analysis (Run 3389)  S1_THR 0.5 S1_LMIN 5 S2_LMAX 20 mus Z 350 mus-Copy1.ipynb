{
 "cells": [
  {
   "cell_type": "markdown",
   "metadata": {},
   "source": [
    "# Kr analysis (MC)"
   ]
  },
  {
   "cell_type": "code",
   "execution_count": 1,
   "metadata": {
    "collapsed": false
   },
   "outputs": [
    {
     "name": "stdout",
     "output_type": "stream",
     "text": [
      "Running on  Tue Mar 28 19:32:01 2017\n"
     ]
    }
   ],
   "source": [
    "from __future__ import print_function, division\n",
    "\n",
    "import os\n",
    "import operator\n",
    "import functools\n",
    "import copy\n",
    "import time\n",
    "import glob\n",
    "print(\"Running on \", time.asctime())\n",
    "\n",
    "import numpy as np\n",
    "import tables as tb\n",
    "import matplotlib.pyplot as plt\n",
    "from matplotlib.colors import LogNorm\n",
    "%matplotlib inline\n",
    "\n",
    "import invisible_cities.database.load_db as DB\n",
    "import invisible_cities.core.system_of_units_c as SystemOfUnits\n",
    "import invisible_cities.reco.pmaps_functions as pmapf\n",
    "import invisible_cities.core.fit_functions as fitf\n",
    "\n",
    "DataPMT = DB.DataPMT()\n",
    "DataSiPM = DB.DataSiPM()\n",
    "units = SystemOfUnits.SystemOfUnits()\n",
    "pi = np.pi\n"
   ]
  },
  {
   "cell_type": "markdown",
   "metadata": {},
   "source": [
    "#### General plotting options"
   ]
  },
  {
   "cell_type": "code",
   "execution_count": 2,
   "metadata": {
    "collapsed": true
   },
   "outputs": [],
   "source": [
    "plt.rcParams[\"figure.figsize\"]          = 8, 6\n",
    "plt.rcParams[\"font.size\"]               = 15\n",
    "plt.rcParams[\"figure.max_open_warning\"] = 100\n",
    "\n",
    "profOpt = \"--k\"\n",
    "fitOpt  = \"r\"\n",
    "\n",
    "outputfolder = \"plots/MC2/\"\n",
    "if not os.path.exists(outputfolder):\n",
    "    os.mkdir(outputfolder)"
   ]
  },
  {
   "cell_type": "markdown",
   "metadata": {},
   "source": [
    "#### Useful functions"
   ]
  },
  {
   "cell_type": "code",
   "execution_count": 3,
   "metadata": {
    "collapsed": false
   },
   "outputs": [],
   "source": [
    "def width(times, to_mus=False):\n",
    "    \"\"\"\n",
    "    Compute peak width.\n",
    "    \"\"\"\n",
    "    w = (np.max(times) - np.min(times)) if np.any(times) else 0.\n",
    "    return w * units.ns/units.mus if to_mus else w\n",
    "\n",
    "\n",
    "def timefunc(f):\n",
    "    \"\"\"\n",
    "    Decorator for function timing.\n",
    "    \"\"\"\n",
    "    def time_f(*args, **kwargs):\n",
    "        t0 = time.time()\n",
    "        output = f(*args, **kwargs)\n",
    "        print(\"Time spent in {}: {} s\".format(f.__name__,\n",
    "                                              time.time() - t0))\n",
    "        return output\n",
    "    return time_f\n",
    "\n",
    "\n",
    "def integrate_charge(d):\n",
    "    \"\"\"\n",
    "    Integrate charge from a SiPM dictionary.\n",
    "    \"\"\"\n",
    "    newd = dict((key, np.sum(value)) for key, value in d.items())\n",
    "    return map(np.array, list(zip(*newd.items())))\n",
    "\n",
    "\n",
    "def flat(nested_list):\n",
    "    while hasattr(nested_list[0], \"__iter__\"):\n",
    "        nested_list = [item for inner_list in nested_list for item in inner_list]\n",
    "    return np.array(nested_list)\n",
    "\n",
    "\n",
    "def labels(xlabel, ylabel):\n",
    "    \"\"\"\n",
    "    Set x and y labels.\n",
    "    \"\"\"\n",
    "    plt.xlabel(xlabel)\n",
    "    plt.ylabel(ylabel)\n",
    "\n",
    "\n",
    "def hist(*args, **kwargs):\n",
    "    \"\"\"\n",
    "    Create a figure and then the histogram\n",
    "    \"\"\"\n",
    "    plt.figure()\n",
    "    return plt.hist(*args, **kwargs)\n",
    "\n",
    "\n",
    "def doublehist(data1, data2, lbls, *args, **kwargs):\n",
    "    \"\"\"\n",
    "    Create a figure and then the histogram\n",
    "    \"\"\"\n",
    "    plt.figure()\n",
    "    h1 = plt.hist(data1, *args, label=lbls[0], alpha=0.5, normed=True, **kwargs)\n",
    "    h2 = plt.hist(data2, *args, label=lbls[1], alpha=0.5, normed=True, **kwargs)\n",
    "    return h1, h2, plt.legend()\n",
    "\n",
    "    \n",
    "def hist2d(*args, **kwargs):\n",
    "    \"\"\"\n",
    "    Create a figure and then the histogram\n",
    "    \"\"\"\n",
    "    plt.figure()\n",
    "    return plt.hist2d(*args, **kwargs)\n",
    "\n",
    "    \n",
    "def pdf(data, *args, **kwargs):\n",
    "    \"\"\"\n",
    "    Create a normalized histogram with appropiate range.\n",
    "    \"\"\"\n",
    "    data = np.array(data)\n",
    "    h = hist(data, *args, **kwargs, weights=np.ones_like(data)/len(data))\n",
    "    plt.yscale(\"log\")\n",
    "    plt.ylim(1e-4, 1.)\n",
    "    return h\n",
    "    \n",
    "def scatter(*args, **kwargs):\n",
    "    \"\"\"\n",
    "    Create a figure and then a scatter plot\n",
    "    \"\"\"\n",
    "    plt.figure()\n",
    "    return plt.scatter(*args, **kwargs)\n",
    "\n",
    "\n",
    "def doublescatter(x1, y1, x2, y2, lbls, *args, **kwargs):\n",
    "    \"\"\"\n",
    "    Create a figure and then a scatter plot\n",
    "    \"\"\"\n",
    "    plt.figure()\n",
    "    sc1 = plt.scatter(x1, y1, *args, label=lbls[0], **kwargs)\n",
    "    sc2 = plt.scatter(x2, y2, *args, label=lbls[1], **kwargs)\n",
    "    return sc1, sc2, plt.legend()\n",
    "\n",
    "\n",
    "def save_to_folder(outputfolder, name):\n",
    "    \"\"\"\n",
    "    Set title and save plot in folder.\n",
    "    \"\"\"\n",
    "    plt.title(name)\n",
    "    plt.savefig(\"{}/{}.png\".format(outputfolder, name), dpi=100)\n",
    "\n",
    "save = functools.partial(save_to_folder, outputfolder)"
   ]
  },
  {
   "cell_type": "markdown",
   "metadata": {},
   "source": [
    "### Input data"
   ]
  },
  {
   "cell_type": "code",
   "execution_count": 4,
   "metadata": {
    "collapsed": true
   },
   "outputs": [],
   "source": [
    "# Comment out this line if your data is in $IC_DATA\n",
    "os.environ[\"IC_DATA\"] = os.environ[\"IC_DATA\"] + \"/Kr2016/mar/\""
   ]
  },
  {
   "cell_type": "code",
   "execution_count": 5,
   "metadata": {
    "collapsed": false
   },
   "outputs": [
    {
     "name": "stdout",
     "output_type": "stream",
     "text": [
      "# files: 18\n"
     ]
    }
   ],
   "source": [
    "pattern = \"$IC_DATA/*.h5\"\n",
    "ifiles  = glob.glob(os.path.expandvars(pattern))\n",
    "print(\"# files:\", len(ifiles))"
   ]
  },
  {
   "cell_type": "markdown",
   "metadata": {},
   "source": [
    "### Define event class"
   ]
  },
  {
   "cell_type": "code",
   "execution_count": 6,
   "metadata": {
    "collapsed": true
   },
   "outputs": [],
   "source": [
    "class Event:\n",
    "    \"\"\"\n",
    "    Store for relevant event info.\n",
    "    \"\"\"\n",
    "    def __init__(self):\n",
    "        self.nS1   = 0\n",
    "        self.S1w   = []\n",
    "        self.S1h   = []\n",
    "        self.S1i   = []\n",
    "        self.S1t   = []\n",
    "\n",
    "        self.nS2   = 0\n",
    "        self.S2w   = []\n",
    "        self.S2h   = []\n",
    "        self.S2i   = []\n",
    "        self.S2t   = []\n",
    "\n",
    "        self.Nsipm = []\n",
    "        self.Q     = []\n",
    "        self.Qsipm = []\n",
    "        self.Xt    = np.nan\n",
    "        self.Yt    = np.nan\n",
    "        self.X     = np.nan\n",
    "        self.Y     = np.nan\n",
    "        self.Xrms  = np.nan\n",
    "        self.Yrms  = np.nan\n",
    "        self.Z     = np.nan\n",
    "        self.R     = np.nan\n",
    "        self.Phi   = np.nan\n",
    "\n",
    "        self.T     = -1\n",
    "        self.ok    = False"
   ]
  },
  {
   "cell_type": "markdown",
   "metadata": {},
   "source": [
    "### Define dataset class"
   ]
  },
  {
   "cell_type": "code",
   "execution_count": 7,
   "metadata": {
    "collapsed": false
   },
   "outputs": [],
   "source": [
    "class Dataset:\n",
    "    \"\"\"\n",
    "    Trick for accesing event properties as an attribute of the dataset.\n",
    "    \"\"\"\n",
    "    def __init__(self, evts):\n",
    "        self.evts = np.array(evts, dtype=object)\n",
    "        self._create_attrs()\n",
    "    \n",
    "    @timefunc\n",
    "    def _create_attrs(self):\n",
    "        for attr in filter(lambda x: not x.endswith(\"__\"), Event().__dict__):\n",
    "            setattr(self, attr, np.array([getattr(evt, attr) for evt in self.evts]))\n",
    "\n",
    "    def __getitem__(self, sel):\n",
    "        return Dataset(self.evts[sel])"
   ]
  },
  {
   "cell_type": "markdown",
   "metadata": {},
   "source": [
    "## Functions to fill the event and dataset classes"
   ]
  },
  {
   "cell_type": "code",
   "execution_count": 8,
   "metadata": {
    "collapsed": true
   },
   "outputs": [],
   "source": [
    "#@timefunc\n",
    "def fill_evts(s1s, s2s, sis, evts_out, times, ifile=None):    \n",
    "    evts = set(list(s1s.keys()) +\n",
    "               list(s2s.keys()) +\n",
    "               list(sis.keys()))\n",
    "    nevt = len(evts)\n",
    "    print(ifile, nevt)\n",
    "    for i, evt_number in enumerate(evts):\n",
    "        evt = Event()\n",
    "        s1  = s1s.get(evt_number, dict())\n",
    "        s2  = s2s.get(evt_number, dict())\n",
    "        si  = sis.get(evt_number, dict())\n",
    "        \n",
    "        evt.nS1 = 0\n",
    "        evt.nS2 = 0\n",
    "\n",
    "        s1time = 0\n",
    "        for peak, (t, e) in s1.items():\n",
    "            sel  = e > 0.5\n",
    "            t, e = t[sel], e[sel]\n",
    "            if t.size < 5:\n",
    "                continue\n",
    "            evt.nS1 += 1\n",
    "            evt.S1w.append(width(t))\n",
    "            evt.S1h.append(np.max(e))\n",
    "            evt.S1i.append(np.sum(e))\n",
    "            s1time = t[np.argmax(e)]\n",
    "            evt.S1t.append(s1time)\n",
    "        \n",
    "        s2time = 0\n",
    "        for peak, (t, e) in s2.items():\n",
    "            w = width(t, to_mus=True)\n",
    "            if w>20:\n",
    "                continue\n",
    "            evt.nS2 += 1\n",
    "            evt.S2w.append(w)\n",
    "            evt.S2h.append(np.max(e))\n",
    "            evt.S2i.append(np.sum(e))\n",
    "            s2time = t[np.argmax(e)]\n",
    "            evt.S2t.append(s2time)\n",
    "            \n",
    "            IDs, Qs = integrate_charge(si[peak]) if peak in si else ([], [])\n",
    "            Qpeak   = np.sum(Qs)\n",
    "            xsipms  = DataSiPM.X.values[IDs]\n",
    "            ysipms  = DataSiPM.Y.values[IDs]\n",
    "\n",
    "            evt.Qsipm.append(Qs)\n",
    "            evt.Nsipm.append(len(IDs))\n",
    "            evt.Q    .append(Qpeak)\n",
    "            evt.X    = np.average(xsipms, weights=Qs) if np.any(Qs) else np.nan\n",
    "            evt.Y    = np.average(ysipms, weights=Qs) if np.any(Qs) else np.nan\n",
    "            evt.Xrms = (np.sum(Qs * (xsipms-evt.X)**2) / (Qpeak - 1))**0.5 if np.any(Qs) else np.nan\n",
    "            evt.Yrms = (np.sum(Qs * (ysipms-evt.Y)**2) / (Qpeak - 1))**0.5 if np.any(Qs) else np.nan\n",
    "            evt.R    = (evt.X**2 + evt.Y**2)**0.5 if np.any(Qs) else np.nan\n",
    "            evt.Phi  = np.arctan2(evt.Y, evt.X) if np.any(Qs) else np.nan\n",
    "\n",
    "        evt.T  = times[i]\n",
    "        evt.ok = evt.nS1 == evt.nS2 == 1\n",
    "        if evt.ok:\n",
    "            evt.Z = (s2time - s1time) * units.ns / units.mus\n",
    "        evts_out.append(evt)\n",
    "\n",
    "\n",
    "@timefunc\n",
    "def build_dataset(inputfiles):\n",
    "    evts_out = []\n",
    "    for ifile in inputfiles:\n",
    "        s1s, s2s, sis = pmapf.read_pmaps(ifile)\n",
    "#        with tb.open_file(ifile) as h5f:\n",
    "#            times = h5f.root.Run.events.cols.timestamp[:] * 1e-3\n",
    "        times = np.linspace(0, 1, 10000)\n",
    "        fill_evts(pmapf.df_to_pmaps_dict(s1s),\n",
    "                  pmapf.df_to_pmaps_dict(s2s),\n",
    "                  pmapf.df_to_s2si_dict (sis),\n",
    "                  evts_out, times - np.min(times), ifile)\n",
    "    return Dataset(evts_out)\n"
   ]
  },
  {
   "cell_type": "markdown",
   "metadata": {},
   "source": [
    "# Read data"
   ]
  },
  {
   "cell_type": "code",
   "execution_count": 9,
   "metadata": {
    "collapsed": false,
    "scrolled": true
   },
   "outputs": [
    {
     "name": "stdout",
     "output_type": "stream",
     "text": [
      "/Users/Gonzalo/github/NEXTdata//Kr2016/mar/dst_NEXT_v0_08_09_Kr_ACTIVE_0_0_7bar_pmaps_10000.root.h5 9987\n",
      "/Users/Gonzalo/github/NEXTdata//Kr2016/mar/dst_NEXT_v0_08_09_Kr_ACTIVE_10_0_7bar_pmaps_10000.root.h5 9992\n",
      "/Users/Gonzalo/github/NEXTdata//Kr2016/mar/dst_NEXT_v0_08_09_Kr_ACTIVE_11_0_7bar_pmaps_10000.root.h5 9994\n",
      "/Users/Gonzalo/github/NEXTdata//Kr2016/mar/dst_NEXT_v0_08_09_Kr_ACTIVE_13_0_7bar_pmaps_10000.root.h5 9992\n",
      "/Users/Gonzalo/github/NEXTdata//Kr2016/mar/dst_NEXT_v0_08_09_Kr_ACTIVE_14_0_7bar_pmaps_10000.root.h5 9994\n",
      "/Users/Gonzalo/github/NEXTdata//Kr2016/mar/dst_NEXT_v0_08_09_Kr_ACTIVE_15_0_7bar_pmaps_10000.root.h5 9996\n",
      "/Users/Gonzalo/github/NEXTdata//Kr2016/mar/dst_NEXT_v0_08_09_Kr_ACTIVE_16_0_7bar_pmaps_10000.root.h5 9994\n",
      "/Users/Gonzalo/github/NEXTdata//Kr2016/mar/dst_NEXT_v0_08_09_Kr_ACTIVE_18_0_7bar_pmaps_10000.root.h5 9991\n",
      "/Users/Gonzalo/github/NEXTdata//Kr2016/mar/dst_NEXT_v0_08_09_Kr_ACTIVE_19_0_7bar_pmaps_10000.root.h5 9992\n",
      "/Users/Gonzalo/github/NEXTdata//Kr2016/mar/dst_NEXT_v0_08_09_Kr_ACTIVE_1_0_7bar_pmaps_10000.root.h5 9992\n",
      "/Users/Gonzalo/github/NEXTdata//Kr2016/mar/dst_NEXT_v0_08_09_Kr_ACTIVE_2_0_7bar_pmaps_10000.root.h5 9994\n",
      "/Users/Gonzalo/github/NEXTdata//Kr2016/mar/dst_NEXT_v0_08_09_Kr_ACTIVE_3_0_7bar_pmaps_10000.root.h5 9990\n",
      "/Users/Gonzalo/github/NEXTdata//Kr2016/mar/dst_NEXT_v0_08_09_Kr_ACTIVE_4_0_7bar_pmaps_10000.root.h5 9992\n",
      "/Users/Gonzalo/github/NEXTdata//Kr2016/mar/dst_NEXT_v0_08_09_Kr_ACTIVE_5_0_7bar_pmaps_10000.root.h5 9995\n",
      "/Users/Gonzalo/github/NEXTdata//Kr2016/mar/dst_NEXT_v0_08_09_Kr_ACTIVE_7_0_7bar_pmaps_10000.root.h5 9998\n"
     ]
    },
    {
     "ename": "ValueError",
     "evalue": "Buffer dtype mismatch, expected 'int' but got 'double'",
     "output_type": "error",
     "traceback": [
      "\u001b[0;31m---------------------------------------------------------------------------\u001b[0m",
      "\u001b[0;31mValueError\u001b[0m                                Traceback (most recent call last)",
      "\u001b[0;32m<ipython-input-9-689f87318ea1>\u001b[0m in \u001b[0;36m<module>\u001b[0;34m()\u001b[0m\n\u001b[0;32m----> 1\u001b[0;31m \u001b[0mfull\u001b[0m \u001b[0;34m=\u001b[0m \u001b[0mbuild_dataset\u001b[0m\u001b[0;34m(\u001b[0m\u001b[0mifiles\u001b[0m\u001b[0;34m)\u001b[0m\u001b[0;34m\u001b[0m\u001b[0m\n\u001b[0m",
      "\u001b[0;32m<ipython-input-3-205005dd10ef>\u001b[0m in \u001b[0;36mtime_f\u001b[0;34m(*args, **kwargs)\u001b[0m\n\u001b[1;32m     13\u001b[0m     \u001b[0;32mdef\u001b[0m \u001b[0mtime_f\u001b[0m\u001b[0;34m(\u001b[0m\u001b[0;34m*\u001b[0m\u001b[0margs\u001b[0m\u001b[0;34m,\u001b[0m \u001b[0;34m**\u001b[0m\u001b[0mkwargs\u001b[0m\u001b[0;34m)\u001b[0m\u001b[0;34m:\u001b[0m\u001b[0;34m\u001b[0m\u001b[0m\n\u001b[1;32m     14\u001b[0m         \u001b[0mt0\u001b[0m \u001b[0;34m=\u001b[0m \u001b[0mtime\u001b[0m\u001b[0;34m.\u001b[0m\u001b[0mtime\u001b[0m\u001b[0;34m(\u001b[0m\u001b[0;34m)\u001b[0m\u001b[0;34m\u001b[0m\u001b[0m\n\u001b[0;32m---> 15\u001b[0;31m         \u001b[0moutput\u001b[0m \u001b[0;34m=\u001b[0m \u001b[0mf\u001b[0m\u001b[0;34m(\u001b[0m\u001b[0;34m*\u001b[0m\u001b[0margs\u001b[0m\u001b[0;34m,\u001b[0m \u001b[0;34m**\u001b[0m\u001b[0mkwargs\u001b[0m\u001b[0;34m)\u001b[0m\u001b[0;34m\u001b[0m\u001b[0m\n\u001b[0m\u001b[1;32m     16\u001b[0m         print(\"Time spent in {}: {} s\".format(f.__name__,\n\u001b[1;32m     17\u001b[0m                                               time.time() - t0))\n",
      "\u001b[0;32m<ipython-input-8-05008a53133b>\u001b[0m in \u001b[0;36mbuild_dataset\u001b[0;34m(inputfiles)\u001b[0m\n\u001b[1;32m     70\u001b[0m \u001b[0;31m#            times = h5f.root.Run.events.cols.timestamp[:] * 1e-3\u001b[0m\u001b[0;34m\u001b[0m\u001b[0;34m\u001b[0m\u001b[0m\n\u001b[1;32m     71\u001b[0m         \u001b[0mtimes\u001b[0m \u001b[0;34m=\u001b[0m \u001b[0mnp\u001b[0m\u001b[0;34m.\u001b[0m\u001b[0mlinspace\u001b[0m\u001b[0;34m(\u001b[0m\u001b[0;36m0\u001b[0m\u001b[0;34m,\u001b[0m \u001b[0;36m1\u001b[0m\u001b[0;34m,\u001b[0m \u001b[0;36m10000\u001b[0m\u001b[0;34m)\u001b[0m\u001b[0;34m\u001b[0m\u001b[0m\n\u001b[0;32m---> 72\u001b[0;31m         fill_evts(pmapf.df_to_pmaps_dict(s1s),\n\u001b[0m\u001b[1;32m     73\u001b[0m                   \u001b[0mpmapf\u001b[0m\u001b[0;34m.\u001b[0m\u001b[0mdf_to_pmaps_dict\u001b[0m\u001b[0;34m(\u001b[0m\u001b[0ms2s\u001b[0m\u001b[0;34m)\u001b[0m\u001b[0;34m,\u001b[0m\u001b[0;34m\u001b[0m\u001b[0m\n\u001b[1;32m     74\u001b[0m                   \u001b[0mpmapf\u001b[0m\u001b[0;34m.\u001b[0m\u001b[0mdf_to_s2si_dict\u001b[0m \u001b[0;34m(\u001b[0m\u001b[0msis\u001b[0m\u001b[0;34m)\u001b[0m\u001b[0;34m,\u001b[0m\u001b[0;34m\u001b[0m\u001b[0m\n",
      "\u001b[0;32m/Users/Gonzalo/github/IC/invisible_cities/reco/pmaps_functions_c.pyx\u001b[0m in \u001b[0;36minvisible_cities.reco.pmaps_functions_c.df_to_pmaps_dict (invisible_cities/reco/pmaps_functions_c.c:3200)\u001b[0;34m()\u001b[0m\n",
      "\u001b[0;32m/Users/Gonzalo/github/IC/invisible_cities/reco/pmaps_functions_c.pyx\u001b[0m in \u001b[0;36minvisible_cities.reco.pmaps_functions_c.df_to_pmaps_dict (invisible_cities/reco/pmaps_functions_c.c:2312)\u001b[0;34m()\u001b[0m\n",
      "\u001b[0;31mValueError\u001b[0m: Buffer dtype mismatch, expected 'int' but got 'double'"
     ]
    }
   ],
   "source": [
    "full = build_dataset(ifiles)"
   ]
  },
  {
   "cell_type": "markdown",
   "metadata": {},
   "source": [
    "## General plots about S1 and S2 (no selections applied)"
   ]
  },
  {
   "cell_type": "code",
   "execution_count": null,
   "metadata": {
    "collapsed": true
   },
   "outputs": [],
   "source": [
    "data = full"
   ]
  },
  {
   "cell_type": "markdown",
   "metadata": {},
   "source": [
    "#### Number of S1 and S2 signals"
   ]
  },
  {
   "cell_type": "code",
   "execution_count": null,
   "metadata": {
    "collapsed": false
   },
   "outputs": [],
   "source": [
    "pdf(data.nS1, 10, range=(0, 10))\n",
    "labels(\"# S1\", \"Entries\")\n",
    "save(\"NS1\")\n",
    "\n",
    "################################\n",
    "pdf(data.nS2,  5, range=(0, 5))\n",
    "labels(\"# S2\", \"Entries\")\n",
    "save(\"NS2\")\n"
   ]
  },
  {
   "cell_type": "code",
   "execution_count": null,
   "metadata": {
    "collapsed": false
   },
   "outputs": [],
   "source": [
    "hist(data.T, 100);"
   ]
  },
  {
   "cell_type": "markdown",
   "metadata": {},
   "source": [
    "<b>\n",
    "1. With the current configuration, the probability of having more than one S2 if ~20%.\n",
    "\n",
    "2. On the other hand, the ratio of events with exactly one S1 is ~60%\n",
    "</b>"
   ]
  },
  {
   "cell_type": "markdown",
   "metadata": {},
   "source": [
    "## From now on the study is focused on those events with exactly one S1 and one S2"
   ]
  },
  {
   "cell_type": "code",
   "execution_count": null,
   "metadata": {
    "collapsed": false
   },
   "outputs": [],
   "source": [
    "oneS1oneS2 = full[full.ok]\n",
    "data = oneS1oneS2\n",
    "print(\"Full set   :\", full.evts.size, \"events\")\n",
    "print(\"Reduced set:\", data.evts.size, \"events\")\n",
    "print(\"Ratio      :\", data.evts.size/full.evts.size)"
   ]
  },
  {
   "cell_type": "markdown",
   "metadata": {},
   "source": [
    "<b>\n",
    "The ratio of \"reliable\" to total events is ~51.3%\n",
    "</b>"
   ]
  },
  {
   "cell_type": "markdown",
   "metadata": {},
   "source": [
    "# Distribution of events in Z"
   ]
  },
  {
   "cell_type": "code",
   "execution_count": null,
   "metadata": {
    "collapsed": false
   },
   "outputs": [],
   "source": [
    "hist(flat(data.Z), 100, (0, 600))\n",
    "labels(\"Drift time ($\\mu$s)\", \"Entries\")"
   ]
  },
  {
   "cell_type": "markdown",
   "metadata": {},
   "source": [
    "<b>\n",
    "Looks like there is an accumulation of events for Z < 200 $\\mu$s and a flat distribution for Z > 200 $\\mu$s.\n",
    "</b>"
   ]
  },
  {
   "cell_type": "markdown",
   "metadata": {},
   "source": [
    "# Comparison between Z < 350 and Z > 350"
   ]
  },
  {
   "cell_type": "code",
   "execution_count": null,
   "metadata": {
    "collapsed": false
   },
   "outputs": [],
   "source": [
    "closeToAnode   = oneS1oneS2[flat(oneS1oneS2.Z < 350)]\n",
    "closeToCathode = oneS1oneS2[flat(oneS1oneS2.Z > 350)]\n",
    "\n",
    "z_anode     = flat(closeToAnode.Z)\n",
    "z_cathode   = flat(closeToCathode.Z)\n",
    "\n",
    "lbls = [\"Anode\", \"Cathode\"]"
   ]
  },
  {
   "cell_type": "markdown",
   "metadata": {},
   "source": [
    "# S1"
   ]
  },
  {
   "cell_type": "code",
   "execution_count": null,
   "metadata": {
    "collapsed": false
   },
   "outputs": [],
   "source": [
    "s1w_anode   = flat(closeToAnode.S1w)\n",
    "s1w_cathode = flat(closeToCathode.S1w)\n",
    "\n",
    "################################\n",
    "doublehist(s1w_anode, s1w_cathode, lbls, 20, range=(0, 500))\n",
    "labels(\"S1 width (ns)\", \"Entries\")\n",
    "save(\"S1width\")\n",
    "\n",
    "################################\n",
    "doublescatter(z_anode, s1w_anode, z_cathode, s1w_cathode, lbls)\n",
    "x, y, _ = fitf.profileX(z_anode, s1w_anode, 30)\n",
    "plt.plot(x, y, profOpt)\n",
    "x, y, _ = fitf.profileX(z_cathode, s1w_cathode, 30)\n",
    "plt.plot(x, y, profOpt)\n",
    "labels(\"Drift time ($\\mu$s)\", \"S1 width (ns)\")\n",
    "save(\"S1widthvsZ\")"
   ]
  },
  {
   "cell_type": "code",
   "execution_count": null,
   "metadata": {
    "collapsed": false
   },
   "outputs": [],
   "source": [
    "s1h_anode   = flat(closeToAnode.S1h)\n",
    "s1h_cathode = flat(closeToCathode.S1h)\n",
    "\n",
    "ylim = 0, 30\n",
    "################################\n",
    "doublehist(s1h_anode, s1h_cathode, lbls, 40, range=ylim, log=True)\n",
    "labels(\"S1 height (pes)\", \"Entries\")\n",
    "save(\"S1height\")\n",
    "\n",
    "################################\n",
    "doublescatter(z_anode, s1h_anode, z_cathode, s1h_cathode, lbls)\n",
    "plt.ylim(ylim)\n",
    "x, y, _ = fitf.profileX(z_anode, s1h_anode, 30, yrange=ylim)\n",
    "plt.plot(x, y, profOpt)\n",
    "x, y, _ = fitf.profileX(z_cathode, s1h_cathode, 30, yrange=ylim)\n",
    "plt.plot(x, y, profOpt)\n",
    "labels(\"Drift time ($\\mu$s)\", \"S1 height (pes)\")\n",
    "save(\"S1heightvsZ\")"
   ]
  },
  {
   "cell_type": "code",
   "execution_count": null,
   "metadata": {
    "collapsed": false
   },
   "outputs": [],
   "source": [
    "s1i_anode   = flat(closeToAnode.S1i)\n",
    "s1i_cathode = flat(closeToCathode.S1i)\n",
    "\n",
    "ylim = 0, 30\n",
    "################################\n",
    "doublehist(s1i_anode, s1i_cathode, lbls, 40, range=ylim)\n",
    "labels(\"S1 energy (pes)\", \"Entries\")\n",
    "save(\"S1energy\")\n",
    "\n",
    "################################\n",
    "doublescatter(z_anode, s1i_anode, z_cathode, s1i_cathode, lbls)\n",
    "plt.ylim(ylim)\n",
    "x, y, _ = fitf.profileX(z_anode, s1i_anode, 30, yrange=ylim)\n",
    "plt.plot(x, y, profOpt)\n",
    "x, y, _ = fitf.profileX(z_cathode, s1i_cathode, 30, yrange=ylim)\n",
    "plt.plot(x, y, profOpt)\n",
    "labels(\"Drift time ($\\mu$s)\", \"S1 energy (pes)\")\n",
    "save(\"S1energyvsZ\")"
   ]
  },
  {
   "cell_type": "code",
   "execution_count": null,
   "metadata": {
    "collapsed": false
   },
   "outputs": [],
   "source": [
    "S1_ratio_anode   = s1h_anode/s1i_anode\n",
    "S1_ratio_cathode = s1h_cathode/s1i_cathode\n",
    "\n",
    "################################\n",
    "doublehist(S1_ratio_anode, S1_ratio_cathode, lbls, 40)\n",
    "labels(\"Peak to area ratio\", \"Entries\")\n",
    "save(\"S1peak2area\")"
   ]
  },
  {
   "cell_type": "markdown",
   "metadata": {},
   "source": [
    "# S2"
   ]
  },
  {
   "cell_type": "code",
   "execution_count": null,
   "metadata": {
    "collapsed": false
   },
   "outputs": [],
   "source": [
    "s2w_anode   = flat(closeToAnode.S2w)\n",
    "s2w_cathode = flat(closeToCathode.S2w)\n",
    "\n",
    "################################\n",
    "doublehist(s2w_anode, s2w_cathode, lbls, 20, range=(0, 20))\n",
    "labels(\"S2 width ($\\mu$s)\", \"Entries\")\n",
    "save(\"S2width\")\n",
    "\n",
    "################################\n",
    "doublescatter(z_anode, s2w_anode, z_cathode, s2w_cathode, lbls)\n",
    "x, y, _ = fitf.profileX(z_anode, s2w_anode, 30)\n",
    "plt.plot(x, y, profOpt)\n",
    "x, y, _ = fitf.profileX(z_cathode, s2w_cathode, 30)\n",
    "plt.plot(x, y, profOpt)\n",
    "labels(\"Drift time ($\\mu$s)\", \"S2 width ($\\mu$s)\")\n",
    "save(\"S2widthvsZ\")"
   ]
  },
  {
   "cell_type": "code",
   "execution_count": null,
   "metadata": {
    "collapsed": false
   },
   "outputs": [],
   "source": [
    "s2h_anode   = flat(closeToAnode.S2h)\n",
    "s2h_cathode = flat(closeToCathode.S2h)\n",
    "\n",
    "ylim = 0, 6e3\n",
    "################################\n",
    "doublehist(s2h_anode, s2h_cathode, lbls, 40, range=ylim)\n",
    "labels(\"S2 height (pes)\", \"Entries\")\n",
    "save(\"S2height\")\n",
    "\n",
    "################################\n",
    "doublescatter(z_anode, s2h_anode, z_cathode, s2h_cathode, lbls)\n",
    "plt.ylim(ylim)\n",
    "x, y, _ = fitf.profileX(z_anode, s2h_anode, 30, yrange=ylim)\n",
    "plt.plot(x, y, profOpt)\n",
    "x, y, _ = fitf.profileX(z_cathode, s2h_cathode, 30, yrange=ylim)\n",
    "plt.plot(x, y, profOpt)\n",
    "labels(\"Drift time ($\\mu$s)\", \"S2 height (pes)\")\n",
    "save(\"S2heightvsZ\")"
   ]
  },
  {
   "cell_type": "code",
   "execution_count": null,
   "metadata": {
    "collapsed": false
   },
   "outputs": [],
   "source": [
    "s2i_anode   = flat(closeToAnode.S2i)\n",
    "s2i_cathode = flat(closeToCathode.S2i)\n",
    "\n",
    "ylim = 3e3, 10e3\n",
    "################################\n",
    "doublehist(s2i_anode, s2i_cathode, lbls, 80, range=ylim)\n",
    "labels(\"S2 energy (pes)\", \"Entries\")\n",
    "save(\"S2energy\")\n",
    "\n",
    "################################\n",
    "doublescatter(z_anode, s2i_anode, z_cathode, s2i_cathode, lbls)\n",
    "plt.ylim(ylim)\n",
    "x, y, _ = fitf.profileX(z_anode, s2i_anode, 30, yrange=ylim)\n",
    "plt.plot(x, y, profOpt)\n",
    "x, y, _ = fitf.profileX(z_cathode, s2i_cathode, 30, yrange=ylim)\n",
    "plt.plot(x, y, profOpt)\n",
    "labels(\"Drift time ($\\mu$s)\", \"S2 energy (pes)\")\n",
    "save(\"S2energyvsZ\")"
   ]
  },
  {
   "cell_type": "code",
   "execution_count": null,
   "metadata": {
    "collapsed": false
   },
   "outputs": [],
   "source": [
    "S2_ratio_anode   = s2h_anode/s2i_anode\n",
    "S2_ratio_cathode = s2h_cathode/s2i_cathode\n",
    "\n",
    "################################\n",
    "doublehist(S2_ratio_anode, S2_ratio_cathode, lbls, 50, range=(0.1, 0.5))\n",
    "labels(\"Peak to area ratio\", \"Entries\")\n",
    "save(\"S2peak2area\")"
   ]
  },
  {
   "cell_type": "code",
   "execution_count": null,
   "metadata": {
    "collapsed": false
   },
   "outputs": [],
   "source": [
    "doublescatter(s1i_anode, s2i_anode, s1i_cathode, s2i_cathode, lbls)\n",
    "xlim = 0, 30\n",
    "ylim = 3e3, 12e3\n",
    "plt.xlim(xlim)\n",
    "plt.ylim(ylim)\n",
    "x, y, _ = fitf.profileX(s1i_anode, s2i_anode, 30, xrange=xlim, yrange=ylim)\n",
    "plt.plot(x, y, profOpt)\n",
    "x, y, _ = fitf.profileX(s1i_cathode, s2i_cathode, 30, xrange=xlim, yrange=ylim)\n",
    "plt.plot(x, y, profOpt)\n",
    "labels(\"S1 energy (pes)\", \"S2 energy (pes)\")\n",
    "save(\"S2vsS1\")"
   ]
  },
  {
   "cell_type": "markdown",
   "metadata": {},
   "source": [
    "# Further selections: S1width < 160 ns"
   ]
  },
  {
   "cell_type": "code",
   "execution_count": null,
   "metadata": {
    "collapsed": false
   },
   "outputs": [],
   "source": [
    "closeToAnodeShortS1   = closeToAnode[flat(closeToAnode.S1w < 160)]\n",
    "closeToCathodeShortS1 = closeToCathode[flat(closeToCathode.S1w < 160)]\n",
    "\n",
    "z_anode   = flat(closeToAnodeShortS1.Z)\n",
    "z_cathode = flat(closeToCathodeShortS1.Z)\n",
    "\n",
    "lbls = [\"Anode\", \"Cathode\"]"
   ]
  },
  {
   "cell_type": "markdown",
   "metadata": {},
   "source": [
    "# S1"
   ]
  },
  {
   "cell_type": "code",
   "execution_count": null,
   "metadata": {
    "collapsed": false
   },
   "outputs": [],
   "source": [
    "s1w_anode   = flat(closeToAnodeShortS1.S1w)\n",
    "s1w_cathode = flat(closeToCathodeShortS1.S1w)\n",
    "\n",
    "################################\n",
    "doublehist(s1w_anode, s1w_cathode, lbls, 20, range=(0, 500))\n",
    "labels(\"S1 width (ns)\", \"Entries\")\n",
    "save(\"S1width\")\n",
    "\n",
    "################################\n",
    "doublescatter(z_anode, s1w_anode, z_cathode, s1w_cathode, lbls)\n",
    "x, y, _ = fitf.profileX(z_anode, s1w_anode, 30)\n",
    "plt.plot(x, y, profOpt)\n",
    "x, y, _ = fitf.profileX(z_cathode, s1w_cathode, 30)\n",
    "plt.plot(x, y, profOpt)\n",
    "labels(\"Drift time ($\\mu$s)\", \"S1 width (ns)\")\n",
    "save(\"S1widthvsZ\")"
   ]
  },
  {
   "cell_type": "code",
   "execution_count": null,
   "metadata": {
    "collapsed": false
   },
   "outputs": [],
   "source": [
    "s1h_anode   = flat(closeToAnodeShortS1.S1h)\n",
    "s1h_cathode = flat(closeToCathodeShortS1.S1h)\n",
    "\n",
    "ylim = 0, 30\n",
    "################################\n",
    "doublehist(s1h_anode, s1h_cathode, lbls, 40, range=ylim, log=True)\n",
    "labels(\"S1 height (pes)\", \"Entries\")\n",
    "save(\"S1height\")\n",
    "\n",
    "################################\n",
    "doublescatter(z_anode, s1h_anode, z_cathode, s1h_cathode, lbls)\n",
    "plt.ylim(ylim)\n",
    "x, y, _ = fitf.profileX(z_anode, s1h_anode, 30, yrange=ylim)\n",
    "plt.plot(x, y, profOpt)\n",
    "x, y, _ = fitf.profileX(z_cathode, s1h_cathode, 30, yrange=ylim)\n",
    "plt.plot(x, y, profOpt)\n",
    "labels(\"Drift time ($\\mu$s)\", \"S1 height (pes)\")\n",
    "save(\"S1heightvsZ\")"
   ]
  },
  {
   "cell_type": "code",
   "execution_count": null,
   "metadata": {
    "collapsed": false
   },
   "outputs": [],
   "source": [
    "s1i_anode   = flat(closeToAnodeShortS1.S1i)\n",
    "s1i_cathode = flat(closeToCathodeShortS1.S1i)\n",
    "\n",
    "ylim = 0, 30\n",
    "################################\n",
    "doublehist(s1i_anode, s1i_cathode, lbls, 40, range=ylim)\n",
    "labels(\"S1 energy (pes)\", \"Entries\")\n",
    "save(\"S1energy\")\n",
    "\n",
    "################################\n",
    "doublescatter(z_anode, s1i_anode, z_cathode, s1i_cathode, lbls)\n",
    "plt.ylim(ylim)\n",
    "x, y, _ = fitf.profileX(z_anode, s1i_anode, 30, yrange=ylim)\n",
    "plt.plot(x, y, profOpt)\n",
    "x, y, _ = fitf.profileX(z_cathode, s1i_cathode, 30, yrange=ylim)\n",
    "plt.plot(x, y, profOpt)\n",
    "labels(\"Drift time ($\\mu$s)\", \"S1 energy (pes)\")\n",
    "save(\"S1energyvsZ\")"
   ]
  },
  {
   "cell_type": "code",
   "execution_count": null,
   "metadata": {
    "collapsed": false
   },
   "outputs": [],
   "source": [
    "S1_ratio_anode   = s1h_anode/s1i_anode\n",
    "S1_ratio_cathode = s1h_cathode/s1i_cathode\n",
    "\n",
    "################################\n",
    "doublehist(S1_ratio_anode, S1_ratio_cathode, lbls, 40)\n",
    "labels(\"Peak to area ratio\", \"Entries\")\n",
    "save(\"S1peak2area\")"
   ]
  },
  {
   "cell_type": "markdown",
   "metadata": {},
   "source": [
    "# S2"
   ]
  },
  {
   "cell_type": "code",
   "execution_count": null,
   "metadata": {
    "collapsed": false
   },
   "outputs": [],
   "source": [
    "s2w_anode   = flat(closeToAnodeShortS1.S2w)\n",
    "s2w_cathode = flat(closeToCathodeShortS1.S2w)\n",
    "\n",
    "################################\n",
    "doublehist(s2w_anode, s2w_cathode, lbls, 20, range=(0, 20))\n",
    "labels(\"S2 width ($\\mu$s)\", \"Entries\")\n",
    "save(\"S2width\")\n",
    "\n",
    "################################\n",
    "doublescatter(z_anode, s2w_anode, z_cathode, s2w_cathode, lbls)\n",
    "x, y, _ = fitf.profileX(z_anode, s2w_anode, 30)\n",
    "plt.plot(x, y, profOpt)\n",
    "x, y, _ = fitf.profileX(z_cathode, s2w_cathode, 30)\n",
    "plt.plot(x, y, profOpt)\n",
    "labels(\"Drift time ($\\mu$s)\", \"S2 width ($\\mu$s)\")\n",
    "save(\"S2widthvsZ\")"
   ]
  },
  {
   "cell_type": "code",
   "execution_count": null,
   "metadata": {
    "collapsed": false
   },
   "outputs": [],
   "source": [
    "s2h_anode   = flat(closeToAnodeShortS1.S2h)\n",
    "s2h_cathode = flat(closeToCathodeShortS1.S2h)\n",
    "\n",
    "ylim = 0, 6e3\n",
    "################################\n",
    "doublehist(s2h_anode, s2h_cathode, lbls, 40, range=ylim)\n",
    "labels(\"S2 height (pes)\", \"Entries\")\n",
    "save(\"S2height\")\n",
    "\n",
    "################################\n",
    "doublescatter(z_anode, s2h_anode, z_cathode, s2h_cathode, lbls)\n",
    "plt.ylim(ylim)\n",
    "x, y, _ = fitf.profileX(z_anode, s2h_anode, 30, yrange=ylim)\n",
    "plt.plot(x, y, profOpt)\n",
    "x, y, _ = fitf.profileX(z_cathode, s2h_cathode, 30, yrange=ylim)\n",
    "plt.plot(x, y, profOpt)\n",
    "labels(\"Drift time ($\\mu$s)\", \"S2 height (pes)\")\n",
    "save(\"S2heightvsZ\")"
   ]
  },
  {
   "cell_type": "code",
   "execution_count": null,
   "metadata": {
    "collapsed": false
   },
   "outputs": [],
   "source": [
    "s2i_anode   = flat(closeToAnodeShortS1.S2i)\n",
    "s2i_cathode = flat(closeToCathodeShortS1.S2i)\n",
    "\n",
    "ylim = 3e3, 10e3\n",
    "################################\n",
    "doublehist(s2i_anode, s2i_cathode, lbls, 80, range=ylim)\n",
    "labels(\"S2 energy (pes)\", \"Entries\")\n",
    "save(\"S2energy\")\n",
    "\n",
    "################################\n",
    "doublescatter(z_anode, s2i_anode, z_cathode, s2i_cathode, lbls)\n",
    "plt.ylim(ylim)\n",
    "x, y, _ = fitf.profileX(z_anode, s2i_anode, 30, yrange=ylim)\n",
    "plt.plot(x, y, profOpt)\n",
    "x, y, _ = fitf.profileX(z_cathode, s2i_cathode, 30, yrange=ylim)\n",
    "plt.plot(x, y, profOpt)\n",
    "labels(\"Drift time ($\\mu$s)\", \"S2 energy (pes)\")\n",
    "save(\"S2energyvsZ\")"
   ]
  },
  {
   "cell_type": "code",
   "execution_count": null,
   "metadata": {
    "collapsed": false
   },
   "outputs": [],
   "source": [
    "S2_ratio_anode   = s2h_anode/s2i_anode\n",
    "S2_ratio_cathode = s2h_cathode/s2i_cathode\n",
    "\n",
    "################################\n",
    "doublehist(S2_ratio_anode, S2_ratio_cathode, lbls, 50, range=(0.1, 0.5))\n",
    "labels(\"Peak to area ratio\", \"Entries\")\n",
    "save(\"S2peak2area\")"
   ]
  },
  {
   "cell_type": "code",
   "execution_count": null,
   "metadata": {
    "collapsed": false
   },
   "outputs": [],
   "source": [
    "doublescatter(s1i_anode, s2i_anode, s1i_cathode, s2i_cathode, lbls)\n",
    "xlim = 0, 30\n",
    "ylim = 3e3, 12e3\n",
    "plt.xlim(xlim)\n",
    "plt.ylim(ylim)\n",
    "x, y, _ = fitf.profileX(s1i_anode, s2i_anode, 30, xrange=xlim, yrange=ylim)\n",
    "plt.plot(x, y, profOpt)\n",
    "x, y, _ = fitf.profileX(s1i_cathode, s2i_cathode, 30, xrange=xlim, yrange=ylim)\n",
    "plt.plot(x, y, profOpt)\n",
    "labels(\"S1 energy (pes)\", \"S2 energy (pes)\")\n",
    "save(\"S2vsS1\")"
   ]
  },
  {
   "cell_type": "markdown",
   "metadata": {},
   "source": [
    "# Further selections: S1height < 5 pes"
   ]
  },
  {
   "cell_type": "code",
   "execution_count": null,
   "metadata": {
    "collapsed": false
   },
   "outputs": [],
   "source": [
    "closeToAnodeShortTinyS1   = closeToAnodeShortS1[flat(closeToAnodeShortS1.S1h < 5)]\n",
    "closeToCathodeShortTinyS1 = closeToCathodeShortS1[flat(closeToCathodeShortS1.S1h < 5)]\n",
    "\n",
    "z_anode   = flat(closeToAnodeShortTinyS1.Z)\n",
    "z_cathode = flat(closeToCathodeShortTinyS1.Z)\n",
    "\n",
    "lbls = [\"Anode\", \"Cathode\"]"
   ]
  },
  {
   "cell_type": "markdown",
   "metadata": {},
   "source": [
    "# S1"
   ]
  },
  {
   "cell_type": "code",
   "execution_count": null,
   "metadata": {
    "collapsed": false
   },
   "outputs": [],
   "source": [
    "s1w_anode   = flat(closeToAnodeShortTinyS1.S1w)\n",
    "s1w_cathode = flat(closeToCathodeShortTinyS1.S1w)\n",
    "\n",
    "################################\n",
    "doublehist(s1w_anode, s1w_cathode, lbls, 20, range=(0, 500))\n",
    "labels(\"S1 width (ns)\", \"Entries\")\n",
    "save(\"S1width\")\n",
    "\n",
    "################################\n",
    "doublescatter(z_anode, s1w_anode, z_cathode, s1w_cathode, lbls)\n",
    "x, y, _ = fitf.profileX(z_anode, s1w_anode, 30)\n",
    "plt.plot(x, y, profOpt)\n",
    "x, y, _ = fitf.profileX(z_cathode, s1w_cathode, 30)\n",
    "plt.plot(x, y, profOpt)\n",
    "labels(\"Drift time ($\\mu$s)\", \"S1 width (ns)\")\n",
    "save(\"S1widthvsZ\")"
   ]
  },
  {
   "cell_type": "code",
   "execution_count": null,
   "metadata": {
    "collapsed": false
   },
   "outputs": [],
   "source": [
    "s1h_anode   = flat(closeToAnodeShortTinyS1.S1h)\n",
    "s1h_cathode = flat(closeToCathodeShortTinyS1.S1h)\n",
    "\n",
    "ylim = 0, 10\n",
    "################################\n",
    "doublehist(s1h_anode, s1h_cathode, lbls, 40, range=ylim, log=True)\n",
    "labels(\"S1 height (pes)\", \"Entries\")\n",
    "save(\"S1height\")\n",
    "\n",
    "################################\n",
    "doublescatter(z_anode, s1h_anode, z_cathode, s1h_cathode, lbls)\n",
    "plt.ylim(ylim)\n",
    "x, y, _ = fitf.profileX(z_anode, s1h_anode, 30, yrange=ylim)\n",
    "plt.plot(x, y, profOpt)\n",
    "x, y, _ = fitf.profileX(z_cathode, s1h_cathode, 30, yrange=ylim)\n",
    "plt.plot(x, y, profOpt)\n",
    "labels(\"Drift time ($\\mu$s)\", \"S1 height (pes)\")\n",
    "save(\"S1heightvsZ\")"
   ]
  },
  {
   "cell_type": "code",
   "execution_count": null,
   "metadata": {
    "collapsed": false
   },
   "outputs": [],
   "source": [
    "s1i_anode   = flat(closeToAnodeShortTinyS1.S1i)\n",
    "s1i_cathode = flat(closeToCathodeShortTinyS1.S1i)\n",
    "\n",
    "ylim = 0, 30\n",
    "################################\n",
    "doublehist(s1i_anode, s1i_cathode, lbls, 40, range=ylim)\n",
    "labels(\"S1 energy (pes)\", \"Entries\")\n",
    "save(\"S1energy\")\n",
    "\n",
    "################################\n",
    "doublescatter(z_anode, s1i_anode, z_cathode, s1i_cathode, lbls)\n",
    "plt.ylim(ylim)\n",
    "x, y, _ = fitf.profileX(z_anode, s1i_anode, 30, yrange=ylim)\n",
    "plt.plot(x, y, profOpt)\n",
    "x, y, _ = fitf.profileX(z_cathode, s1i_cathode, 30, yrange=ylim)\n",
    "plt.plot(x, y, profOpt)\n",
    "labels(\"Drift time ($\\mu$s)\", \"S1 energy (pes)\")\n",
    "save(\"S1energyvsZ\")"
   ]
  },
  {
   "cell_type": "code",
   "execution_count": null,
   "metadata": {
    "collapsed": false
   },
   "outputs": [],
   "source": [
    "S1_ratio_anode   = s1h_anode/s1i_anode\n",
    "S1_ratio_cathode = s1h_cathode/s1i_cathode\n",
    "\n",
    "################################\n",
    "doublehist(S1_ratio_anode, S1_ratio_cathode, lbls, 40)\n",
    "labels(\"Peak to area ratio\", \"Entries\")\n",
    "save(\"S1peak2area\")"
   ]
  },
  {
   "cell_type": "markdown",
   "metadata": {},
   "source": [
    "# S2"
   ]
  },
  {
   "cell_type": "code",
   "execution_count": null,
   "metadata": {
    "collapsed": false
   },
   "outputs": [],
   "source": [
    "s2w_anode   = flat(closeToAnodeShortTinyS1.S2w)\n",
    "s2w_cathode = flat(closeToCathodeShortTinyS1.S2w)\n",
    "\n",
    "################################\n",
    "doublehist(s2w_anode, s2w_cathode, lbls, 20, range=(0, 20))\n",
    "labels(\"S2 width ($\\mu$s)\", \"Entries\")\n",
    "save(\"S2width\")\n",
    "\n",
    "################################\n",
    "doublescatter(z_anode, s2w_anode, z_cathode, s2w_cathode, lbls)\n",
    "x, y, _ = fitf.profileX(z_anode, s2w_anode, 30)\n",
    "plt.plot(x, y, profOpt)\n",
    "x, y, _ = fitf.profileX(z_cathode, s2w_cathode, 30)\n",
    "plt.plot(x, y, profOpt)\n",
    "labels(\"Drift time ($\\mu$s)\", \"S2 width ($\\mu$s)\")\n",
    "save(\"S2widthvsZ\")"
   ]
  },
  {
   "cell_type": "code",
   "execution_count": null,
   "metadata": {
    "collapsed": false
   },
   "outputs": [],
   "source": [
    "s2h_anode   = flat(closeToAnodeShortTinyS1.S2h)\n",
    "s2h_cathode = flat(closeToCathodeShortTinyS1.S2h)\n",
    "\n",
    "ylim = 0, 6e3\n",
    "################################\n",
    "doublehist(s2h_anode, s2h_cathode, lbls, 40, range=ylim)\n",
    "labels(\"S2 height (pes)\", \"Entries\")\n",
    "save(\"S2height\")\n",
    "\n",
    "################################\n",
    "doublescatter(z_anode, s2h_anode, z_cathode, s2h_cathode, lbls)\n",
    "plt.ylim(ylim)\n",
    "x, y, _ = fitf.profileX(z_anode, s2h_anode, 30, yrange=ylim)\n",
    "plt.plot(x, y, profOpt)\n",
    "x, y, _ = fitf.profileX(z_cathode, s2h_cathode, 30, yrange=ylim)\n",
    "plt.plot(x, y, profOpt)\n",
    "labels(\"Drift time ($\\mu$s)\", \"S2 height (pes)\")\n",
    "save(\"S2heightvsZ\")"
   ]
  },
  {
   "cell_type": "code",
   "execution_count": null,
   "metadata": {
    "collapsed": false
   },
   "outputs": [],
   "source": [
    "s2i_anode   = flat(closeToAnodeShortTinyS1.S2i)\n",
    "s2i_cathode = flat(closeToCathodeShortTinyS1.S2i)\n",
    "\n",
    "ylim = 3e3, 10e3\n",
    "################################\n",
    "doublehist(s2i_anode, s2i_cathode, lbls, 50, range=ylim)\n",
    "labels(\"S2 energy (pes)\", \"Entries\")\n",
    "save(\"S2energy\")\n",
    "\n",
    "################################\n",
    "doublescatter(z_anode, s2i_anode, z_cathode, s2i_cathode, lbls)\n",
    "plt.ylim(ylim)\n",
    "x, y, _ = fitf.profileX(z_anode, s2i_anode, 30, yrange=ylim)\n",
    "plt.plot(x, y, profOpt)\n",
    "x, y, _ = fitf.profileX(z_cathode, s2i_cathode, 30, yrange=ylim)\n",
    "plt.plot(x, y, profOpt)\n",
    "labels(\"Drift time ($\\mu$s)\", \"S2 energy (pes)\")\n",
    "save(\"S2energyvsZ\")"
   ]
  },
  {
   "cell_type": "code",
   "execution_count": null,
   "metadata": {
    "collapsed": false
   },
   "outputs": [],
   "source": [
    "S2_ratio_anode   = s2h_anode/s2i_anode\n",
    "S2_ratio_cathode = s2h_cathode/s2i_cathode\n",
    "\n",
    "################################\n",
    "doublehist(S2_ratio_anode, S2_ratio_cathode, lbls, 50, range=(0.1, 0.5))\n",
    "labels(\"Peak to area ratio\", \"Entries\")\n",
    "save(\"S2peak2area\")"
   ]
  },
  {
   "cell_type": "code",
   "execution_count": null,
   "metadata": {
    "collapsed": false
   },
   "outputs": [],
   "source": [
    "doublescatter(s1i_anode, s2i_anode, s1i_cathode, s2i_cathode, lbls)\n",
    "xlim = 0, 30\n",
    "ylim = 3e3, 12e3\n",
    "plt.xlim(xlim)\n",
    "plt.ylim(ylim)\n",
    "x, y, _ = fitf.profileX(s1i_anode, s2i_anode, 30, xrange=xlim, yrange=ylim)\n",
    "plt.plot(x, y, profOpt)\n",
    "x, y, _ = fitf.profileX(s1i_cathode, s2i_cathode, 30, xrange=xlim, yrange=ylim)\n",
    "plt.plot(x, y, profOpt)\n",
    "labels(\"S1 energy (pes)\", \"S2 energy (pes)\")\n",
    "save(\"S2vsS1\")"
   ]
  },
  {
   "cell_type": "markdown",
   "metadata": {},
   "source": [
    "# Take small peak to area ratio in S1"
   ]
  },
  {
   "cell_type": "code",
   "execution_count": null,
   "metadata": {
    "collapsed": false
   },
   "outputs": [],
   "source": [
    "#closeToAnodeShortTinyS1SmallP2A   = closeToAnodeShortTinyS1[(flat(closeToAnodeShortTinyS1.S1h)/flat(closeToAnodeShortTinyS1.S1i) > 0.25) & (flat(closeToAnodeShortTinyS1.S1h)/flat(closeToAnodeShortTinyS1.S1i) < 0.27)]\n",
    "#closeToCathodeShortTinyS1SmallP2A = closeToCathodeShortTinyS1[(flat(closeToCathodeShortTinyS1.S1h)/flat(closeToCathodeShortTinyS1.S1i) > 0.25) & (flat(closeToCathodeShortTinyS1.S1h)/flat(closeToCathodeShortTinyS1.S1i) < 0.27)]\n",
    "\n",
    "closeToAnodeShortTinyS1SmallP2A   = closeToAnodeShortTinyS1[flat(closeToAnodeShortTinyS1.S1h)/flat(closeToAnodeShortTinyS1.S1i) < 0.25]\n",
    "closeToCathodeShortTinyS1SmallP2A = closeToCathodeShortTinyS1[flat(closeToCathodeShortTinyS1.S1h)/flat(closeToCathodeShortTinyS1.S1i) < 0.25]\n",
    "\n",
    "z_anode   = flat(closeToAnodeShortTinyS1SmallP2A.Z)\n",
    "z_cathode = flat(closeToCathodeShortTinyS1SmallP2A.Z)\n",
    "\n",
    "lbls = [\"Anode\", \"Cathode\"]"
   ]
  },
  {
   "cell_type": "markdown",
   "metadata": {},
   "source": [
    "# S1"
   ]
  },
  {
   "cell_type": "code",
   "execution_count": null,
   "metadata": {
    "collapsed": false
   },
   "outputs": [],
   "source": [
    "s1w_anode   = flat(closeToAnodeShortTinyS1SmallP2A.S1w)\n",
    "s1w_cathode = flat(closeToCathodeShortTinyS1SmallP2A.S1w)\n",
    "\n",
    "################################\n",
    "doublehist(s1w_anode, s1w_cathode, lbls, 20, range=(0, 500))\n",
    "labels(\"S1 width (ns)\", \"Entries\")\n",
    "save(\"S1width\")\n",
    "\n",
    "################################\n",
    "doublescatter(z_anode, s1w_anode, z_cathode, s1w_cathode, lbls)\n",
    "x, y, _ = fitf.profileX(z_anode, s1w_anode, 30)\n",
    "plt.plot(x, y, profOpt)\n",
    "x, y, _ = fitf.profileX(z_cathode, s1w_cathode, 30)\n",
    "plt.plot(x, y, profOpt)\n",
    "labels(\"Drift time ($\\mu$s)\", \"S1 width (ns)\")\n",
    "save(\"S1widthvsZ\")"
   ]
  },
  {
   "cell_type": "code",
   "execution_count": null,
   "metadata": {
    "collapsed": false
   },
   "outputs": [],
   "source": [
    "s1h_anode   = flat(closeToAnodeShortTinyS1SmallP2A.S1h)\n",
    "s1h_cathode = flat(closeToCathodeShortTinyS1SmallP2A.S1h)\n",
    "\n",
    "ylim = 0, 10\n",
    "################################\n",
    "doublehist(s1h_anode, s1h_cathode, lbls, 40, range=ylim, log=True)\n",
    "labels(\"S1 height (pes)\", \"Entries\")\n",
    "save(\"S1height\")\n",
    "\n",
    "################################\n",
    "doublescatter(z_anode, s1h_anode, z_cathode, s1h_cathode, lbls)\n",
    "plt.ylim(ylim)\n",
    "x, y, _ = fitf.profileX(z_anode, s1h_anode, 30, yrange=ylim)\n",
    "plt.plot(x, y, profOpt)\n",
    "x, y, _ = fitf.profileX(z_cathode, s1h_cathode, 30, yrange=ylim)\n",
    "plt.plot(x, y, profOpt)\n",
    "labels(\"Drift time ($\\mu$s)\", \"S1 height (pes)\")\n",
    "save(\"S1heightvsZ\")"
   ]
  },
  {
   "cell_type": "code",
   "execution_count": null,
   "metadata": {
    "collapsed": false
   },
   "outputs": [],
   "source": [
    "s1i_anode   = flat(closeToAnodeShortTinyS1SmallP2A.S1i)\n",
    "s1i_cathode = flat(closeToCathodeShortTinyS1SmallP2A.S1i)\n",
    "\n",
    "ylim = 0, 30\n",
    "################################\n",
    "doublehist(s1i_anode, s1i_cathode, lbls, 40, range=ylim)\n",
    "labels(\"S1 energy (pes)\", \"Entries\")\n",
    "save(\"S1energy\")\n",
    "\n",
    "################################\n",
    "doublescatter(z_anode, s1i_anode, z_cathode, s1i_cathode, lbls)\n",
    "plt.ylim(ylim)\n",
    "x, y, _ = fitf.profileX(z_anode, s1i_anode, 30, yrange=ylim)\n",
    "plt.plot(x, y, profOpt)\n",
    "x, y, _ = fitf.profileX(z_cathode, s1i_cathode, 30, yrange=ylim)\n",
    "plt.plot(x, y, profOpt)\n",
    "labels(\"Drift time ($\\mu$s)\", \"S1 energy (pes)\")\n",
    "save(\"S1energyvsZ\")"
   ]
  },
  {
   "cell_type": "code",
   "execution_count": null,
   "metadata": {
    "collapsed": false
   },
   "outputs": [],
   "source": [
    "S1_ratio_anode   = s1h_anode/s1i_anode\n",
    "S1_ratio_cathode = s1h_cathode/s1i_cathode\n",
    "\n",
    "################################\n",
    "doublehist(S1_ratio_anode, S1_ratio_cathode, lbls, 40)\n",
    "labels(\"Peak to area ratio\", \"Entries\")\n",
    "save(\"S1peak2area\")"
   ]
  },
  {
   "cell_type": "markdown",
   "metadata": {},
   "source": [
    "# S2"
   ]
  },
  {
   "cell_type": "code",
   "execution_count": null,
   "metadata": {
    "collapsed": false
   },
   "outputs": [],
   "source": [
    "s2w_anode   = flat(closeToAnodeShortTinyS1SmallP2A.S2w)\n",
    "s2w_cathode = flat(closeToCathodeShortTinyS1SmallP2A.S2w)\n",
    "\n",
    "################################\n",
    "doublehist(s2w_anode, s2w_cathode, lbls, 20, range=(0, 20))\n",
    "labels(\"S2 width ($\\mu$s)\", \"Entries\")\n",
    "save(\"S2width\")\n",
    "\n",
    "################################\n",
    "doublescatter(z_anode, s2w_anode, z_cathode, s2w_cathode, lbls)\n",
    "x, y, _ = fitf.profileX(z_anode, s2w_anode, 30)\n",
    "plt.plot(x, y, profOpt)\n",
    "x, y, _ = fitf.profileX(z_cathode, s2w_cathode, 30)\n",
    "plt.plot(x, y, profOpt)\n",
    "labels(\"Drift time ($\\mu$s)\", \"S2 width ($\\mu$s)\")\n",
    "save(\"S2widthvsZ\")"
   ]
  },
  {
   "cell_type": "code",
   "execution_count": null,
   "metadata": {
    "collapsed": false
   },
   "outputs": [],
   "source": [
    "s2h_anode   = flat(closeToAnodeShortTinyS1SmallP2A.S2h)\n",
    "s2h_cathode = flat(closeToCathodeShortTinyS1SmallP2A.S2h)\n",
    "\n",
    "ylim = 0, 6e3\n",
    "################################\n",
    "doublehist(s2h_anode, s2h_cathode, lbls, 40, range=ylim)\n",
    "labels(\"S2 height (pes)\", \"Entries\")\n",
    "save(\"S2height\")\n",
    "\n",
    "################################\n",
    "doublescatter(z_anode, s2h_anode, z_cathode, s2h_cathode, lbls)\n",
    "plt.ylim(ylim)\n",
    "x, y, _ = fitf.profileX(z_anode, s2h_anode, 30, yrange=ylim)\n",
    "plt.plot(x, y, profOpt)\n",
    "x, y, _ = fitf.profileX(z_cathode, s2h_cathode, 30, yrange=ylim)\n",
    "plt.plot(x, y, profOpt)\n",
    "labels(\"Drift time ($\\mu$s)\", \"S2 height (pes)\")\n",
    "save(\"S2heightvsZ\")"
   ]
  },
  {
   "cell_type": "code",
   "execution_count": null,
   "metadata": {
    "collapsed": false
   },
   "outputs": [],
   "source": [
    "s2i_anode   = flat(closeToAnodeShortTinyS1SmallP2A.S2i)\n",
    "s2i_cathode = flat(closeToCathodeShortTinyS1SmallP2A.S2i)\n",
    "\n",
    "ylim = 3e3, 10e3\n",
    "################################\n",
    "doublehist(s2i_anode, s2i_cathode, lbls, 40, range=ylim)\n",
    "labels(\"S2 energy (pes)\", \"Entries\")\n",
    "save(\"S2energy\")\n",
    "\n",
    "################################\n",
    "doublescatter(z_anode, s2i_anode, z_cathode, s2i_cathode, lbls)\n",
    "plt.ylim(ylim)\n",
    "x, y, _ = fitf.profileX(z_anode, s2i_anode, 30, yrange=ylim)\n",
    "plt.plot(x, y, profOpt)\n",
    "x, y, _ = fitf.profileX(z_cathode, s2i_cathode, 30, yrange=ylim)\n",
    "plt.plot(x, y, profOpt)\n",
    "labels(\"Drift time ($\\mu$s)\", \"S2 energy (pes)\")\n",
    "save(\"S2energyvsZ\")"
   ]
  },
  {
   "cell_type": "code",
   "execution_count": null,
   "metadata": {
    "collapsed": false
   },
   "outputs": [],
   "source": [
    "S2_ratio_anode   = s2h_anode/s2i_anode\n",
    "S2_ratio_cathode = s2h_cathode/s2i_cathode\n",
    "\n",
    "################################\n",
    "doublehist(S2_ratio_anode, S2_ratio_cathode, lbls, 50, range=(0.1, 0.5))\n",
    "labels(\"Peak to area ratio\", \"Entries\")\n",
    "save(\"S2peak2area\")"
   ]
  },
  {
   "cell_type": "code",
   "execution_count": null,
   "metadata": {
    "collapsed": false
   },
   "outputs": [],
   "source": [
    "doublescatter(s1i_anode, s2i_anode, s1i_cathode, s2i_cathode, lbls)\n",
    "xlim = 0, 30\n",
    "ylim = 3e3, 12e3\n",
    "plt.xlim(xlim)\n",
    "plt.ylim(ylim)\n",
    "x, y, _ = fitf.profileX(s1i_anode, s2i_anode, 30, xrange=xlim, yrange=ylim)\n",
    "plt.plot(x, y, profOpt)\n",
    "x, y, _ = fitf.profileX(s1i_cathode, s2i_cathode, 30, xrange=xlim, yrange=ylim)\n",
    "plt.plot(x, y, profOpt)\n",
    "labels(\"S1 energy (pes)\", \"S2 energy (pes)\")\n",
    "save(\"S2vsS1\")"
   ]
  },
  {
   "cell_type": "markdown",
   "metadata": {},
   "source": [
    "# Take low S1 energy (< 7 pes)"
   ]
  },
  {
   "cell_type": "code",
   "execution_count": null,
   "metadata": {
    "collapsed": false
   },
   "outputs": [],
   "source": [
    "closeToAnodeShortTinyS1SmallP2ALow   = closeToAnodeShortTinyS1SmallP2A[flat(closeToAnodeShortTinyS1SmallP2A.S1i) < 6]\n",
    "closeToCathodeShortTinyS1SmallP2ALow = closeToCathodeShortTinyS1SmallP2A[flat(closeToCathodeShortTinyS1SmallP2A.S1i) < 6]\n",
    "\n",
    "z_anode   = flat(closeToAnodeShortTinyS1SmallP2ALow.Z)\n",
    "z_cathode = flat(closeToCathodeShortTinyS1SmallP2ALow.Z)\n",
    "\n",
    "lbls = [\"Anode\", \"Cathode\"]"
   ]
  },
  {
   "cell_type": "markdown",
   "metadata": {},
   "source": [
    "# S1"
   ]
  },
  {
   "cell_type": "code",
   "execution_count": null,
   "metadata": {
    "collapsed": false
   },
   "outputs": [],
   "source": [
    "s1w_anode   = flat(closeToAnodeShortTinyS1SmallP2ALow.S1w)\n",
    "s1w_cathode = flat(closeToCathodeShortTinyS1SmallP2ALow.S1w)\n",
    "\n",
    "################################\n",
    "doublehist(s1w_anode, s1w_cathode, lbls, 20, range=(0, 500))\n",
    "labels(\"S1 width (ns)\", \"Entries\")\n",
    "save(\"S1width\")\n",
    "\n",
    "################################\n",
    "doublescatter(z_anode, s1w_anode, z_cathode, s1w_cathode, lbls)\n",
    "x, y, _ = fitf.profileX(z_anode, s1w_anode, 30)\n",
    "plt.plot(x, y, profOpt)\n",
    "x, y, _ = fitf.profileX(z_cathode, s1w_cathode, 30)\n",
    "plt.plot(x, y, profOpt)\n",
    "labels(\"Drift time ($\\mu$s)\", \"S1 width (ns)\")\n",
    "save(\"S1widthvsZ\")"
   ]
  },
  {
   "cell_type": "code",
   "execution_count": null,
   "metadata": {
    "collapsed": false
   },
   "outputs": [],
   "source": [
    "s1h_anode   = flat(closeToAnodeShortTinyS1SmallP2ALow.S1h)\n",
    "s1h_cathode = flat(closeToCathodeShortTinyS1SmallP2ALow.S1h)\n",
    "\n",
    "ylim = 0, 10\n",
    "################################\n",
    "doublehist(s1h_anode, s1h_cathode, lbls, 40, range=ylim, log=True)\n",
    "labels(\"S1 height (pes)\", \"Entries\")\n",
    "save(\"S1height\")\n",
    "\n",
    "################################\n",
    "doublescatter(z_anode, s1h_anode, z_cathode, s1h_cathode, lbls)\n",
    "plt.ylim(ylim)\n",
    "x, y, _ = fitf.profileX(z_anode, s1h_anode, 30, yrange=ylim)\n",
    "plt.plot(x, y, profOpt)\n",
    "x, y, _ = fitf.profileX(z_cathode, s1h_cathode, 30, yrange=ylim)\n",
    "plt.plot(x, y, profOpt)\n",
    "labels(\"Drift time ($\\mu$s)\", \"S1 height (pes)\")\n",
    "save(\"S1heightvsZ\")"
   ]
  },
  {
   "cell_type": "code",
   "execution_count": null,
   "metadata": {
    "collapsed": false
   },
   "outputs": [],
   "source": [
    "s1i_anode   = flat(closeToAnodeShortTinyS1SmallP2ALow.S1i)\n",
    "s1i_cathode = flat(closeToCathodeShortTinyS1SmallP2ALow.S1i)\n",
    "\n",
    "ylim = 0, 30\n",
    "################################\n",
    "doublehist(s1i_anode, s1i_cathode, lbls, 40, range=ylim)\n",
    "labels(\"S1 energy (pes)\", \"Entries\")\n",
    "save(\"S1energy\")\n",
    "\n",
    "################################\n",
    "doublescatter(z_anode, s1i_anode, z_cathode, s1i_cathode, lbls)\n",
    "plt.ylim(ylim)\n",
    "x, y, _ = fitf.profileX(z_anode, s1i_anode, 30, yrange=ylim)\n",
    "plt.plot(x, y, profOpt)\n",
    "x, y, _ = fitf.profileX(z_cathode, s1i_cathode, 30, yrange=ylim)\n",
    "plt.plot(x, y, profOpt)\n",
    "labels(\"Drift time ($\\mu$s)\", \"S1 energy (pes)\")\n",
    "save(\"S1energyvsZ\")"
   ]
  },
  {
   "cell_type": "code",
   "execution_count": null,
   "metadata": {
    "collapsed": false
   },
   "outputs": [],
   "source": [
    "S1_ratio_anode   = s1h_anode/s1i_anode\n",
    "S1_ratio_cathode = s1h_cathode/s1i_cathode\n",
    "\n",
    "################################\n",
    "doublehist(S1_ratio_anode, S1_ratio_cathode, lbls, 40)\n",
    "labels(\"Peak to area ratio\", \"Entries\")\n",
    "save(\"S1peak2area\")"
   ]
  },
  {
   "cell_type": "markdown",
   "metadata": {},
   "source": [
    "# S2"
   ]
  },
  {
   "cell_type": "code",
   "execution_count": null,
   "metadata": {
    "collapsed": false
   },
   "outputs": [],
   "source": [
    "s2w_anode   = flat(closeToAnodeShortTinyS1SmallP2ALow.S2w)\n",
    "s2w_cathode = flat(closeToCathodeShortTinyS1SmallP2ALow.S2w)\n",
    "\n",
    "################################\n",
    "doublehist(s2w_anode, s2w_cathode, lbls, 20, range=(0, 20))\n",
    "labels(\"S2 width ($\\mu$s)\", \"Entries\")\n",
    "save(\"S2width\")\n",
    "\n",
    "################################\n",
    "doublescatter(z_anode, s2w_anode, z_cathode, s2w_cathode, lbls)\n",
    "x, y, _ = fitf.profileX(z_anode, s2w_anode, 30)\n",
    "plt.plot(x, y, profOpt)\n",
    "x, y, _ = fitf.profileX(z_cathode, s2w_cathode, 30)\n",
    "plt.plot(x, y, profOpt)\n",
    "labels(\"Drift time ($\\mu$s)\", \"S2 width ($\\mu$s)\")\n",
    "save(\"S2widthvsZ\")"
   ]
  },
  {
   "cell_type": "code",
   "execution_count": null,
   "metadata": {
    "collapsed": false
   },
   "outputs": [],
   "source": [
    "s2h_anode   = flat(closeToAnodeShortTinyS1SmallP2ALow.S2h)\n",
    "s2h_cathode = flat(closeToCathodeShortTinyS1SmallP2ALow.S2h)\n",
    "\n",
    "ylim = 0, 6e3\n",
    "################################\n",
    "doublehist(s2h_anode, s2h_cathode, lbls, 40, range=ylim)\n",
    "labels(\"S2 height (pes)\", \"Entries\")\n",
    "save(\"S2height\")\n",
    "\n",
    "################################\n",
    "doublescatter(z_anode, s2h_anode, z_cathode, s2h_cathode, lbls)\n",
    "plt.ylim(ylim)\n",
    "x, y, _ = fitf.profileX(z_anode, s2h_anode, 30, yrange=ylim)\n",
    "plt.plot(x, y, profOpt)\n",
    "x, y, _ = fitf.profileX(z_cathode, s2h_cathode, 30, yrange=ylim)\n",
    "plt.plot(x, y, profOpt)\n",
    "labels(\"Drift time ($\\mu$s)\", \"S2 height (pes)\")\n",
    "save(\"S2heightvsZ\")"
   ]
  },
  {
   "cell_type": "code",
   "execution_count": null,
   "metadata": {
    "collapsed": false
   },
   "outputs": [],
   "source": [
    "s2i_anode   = flat(closeToAnodeShortTinyS1SmallP2ALow.S2i)\n",
    "s2i_cathode = flat(closeToCathodeShortTinyS1SmallP2ALow.S2i)\n",
    "\n",
    "ylim = 3e3, 10e3\n",
    "################################\n",
    "doublehist(s2i_anode, s2i_cathode, lbls, 50, range=ylim)\n",
    "labels(\"S2 energy (pes)\", \"Entries\")\n",
    "save(\"S2energy\")\n",
    "\n",
    "################################\n",
    "doublescatter(z_anode, s2i_anode, z_cathode, s2i_cathode, lbls)\n",
    "plt.ylim(ylim)\n",
    "x, y, _ = fitf.profileX(z_anode, s2i_anode, 30, yrange=ylim)\n",
    "plt.plot(x, y, profOpt)\n",
    "x, y, _ = fitf.profileX(z_cathode, s2i_cathode, 30, yrange=ylim)\n",
    "plt.plot(x, y, profOpt)\n",
    "labels(\"Drift time ($\\mu$s)\", \"S2 energy (pes)\")\n",
    "save(\"S2energyvsZ\")"
   ]
  },
  {
   "cell_type": "code",
   "execution_count": null,
   "metadata": {
    "collapsed": false
   },
   "outputs": [],
   "source": [
    "################################\n",
    "y, x, _ = hist(s2i_cathode, 53, range=(3e3, 8e3))\n",
    "x = x[:-1] + np.diff(x)\n",
    "sel = fitf.in_range(x, 5100, 8000)\n",
    "x, y = x[sel], y[sel]\n",
    "fun = lambda x, *args: fitf.expo(x, *args[:2]) + fitf.gauss(x, *args[2:])\n",
    "f = fitf.fit(fun, x, y, (1e3, -1e3, 100, 6200, 500))\n",
    "x = np.linspace(np.min(x), np.max(x), 1000)\n",
    "plt.plot(x, f.fn(x), fitOpt)\n",
    "reso = 2.35 * f.values[4]/f.values[3] * 100\n",
    "reso = f.values.tolist()[3:] + [reso, reso * (41.5/2458)**0.5]\n",
    "plt.text(3e3, 25, \"$\\mu$ = {:.2f} pes\\n$\\sigma$ = {:.1f} pes\\nR = {:.3f} %\\nRbb = {:.2f} %\".format(*reso))\n",
    "labels(\"S2 energy (pes)\", \"Entries\")\n",
    "save(\"S2energyReso\")\n"
   ]
  },
  {
   "cell_type": "code",
   "execution_count": null,
   "metadata": {
    "collapsed": false
   },
   "outputs": [],
   "source": [
    "S2_ratio_anode   = s2h_anode/s2i_anode\n",
    "S2_ratio_cathode = s2h_cathode/s2i_cathode\n",
    "\n",
    "################################\n",
    "doublehist(S2_ratio_anode, S2_ratio_cathode, lbls, 50, range=(0.1, 0.5))\n",
    "labels(\"Peak to area ratio\", \"Entries\")\n",
    "save(\"S2peak2area\")"
   ]
  },
  {
   "cell_type": "code",
   "execution_count": null,
   "metadata": {
    "collapsed": false
   },
   "outputs": [],
   "source": [
    "doublescatter(s1i_anode, s2i_anode, s1i_cathode, s2i_cathode, lbls)\n",
    "xlim = 0, 30\n",
    "ylim = 3e3, 12e3\n",
    "plt.xlim(xlim)\n",
    "plt.ylim(ylim)\n",
    "x, y, _ = fitf.profileX(s1i_anode, s2i_anode, 30, xrange=xlim, yrange=ylim)\n",
    "plt.plot(x, y, profOpt)\n",
    "x, y, _ = fitf.profileX(s1i_cathode, s2i_cathode, 30, xrange=xlim, yrange=ylim)\n",
    "plt.plot(x, y, profOpt)\n",
    "labels(\"S1 energy (pes)\", \"S2 energy (pes)\")\n",
    "save(\"S2vsS1\")"
   ]
  },
  {
   "cell_type": "code",
   "execution_count": null,
   "metadata": {
    "collapsed": true
   },
   "outputs": [],
   "source": []
  },
  {
   "cell_type": "code",
   "execution_count": null,
   "metadata": {
    "collapsed": true
   },
   "outputs": [],
   "source": []
  }
 ],
 "metadata": {
  "kernelspec": {
   "display_name": "Python 3",
   "language": "python",
   "name": "python3"
  },
  "language_info": {
   "codemirror_mode": {
    "name": "ipython",
    "version": 3
   },
   "file_extension": ".py",
   "mimetype": "text/x-python",
   "name": "python",
   "nbconvert_exporter": "python",
   "pygments_lexer": "ipython3",
   "version": "3.5.2"
  }
 },
 "nbformat": 4,
 "nbformat_minor": 2
}
