{
 "cells": [
  {
   "cell_type": "markdown",
   "metadata": {},
   "source": [
    "# Kr analysis (run 3389 short Z)"
   ]
  },
  {
   "cell_type": "code",
   "execution_count": 1,
   "metadata": {
    "collapsed": false
   },
   "outputs": [
    {
     "name": "stdout",
     "output_type": "stream",
     "text": [
      "Running on  Wed Mar 29 15:06:56 2017\n"
     ]
    }
   ],
   "source": [
    "from __future__ import print_function, division\n",
    "\n",
    "import os\n",
    "import operator\n",
    "import functools\n",
    "import copy\n",
    "import time\n",
    "import glob\n",
    "print(\"Running on \", time.asctime())\n",
    "\n",
    "import numpy as np\n",
    "import tables as tb\n",
    "import matplotlib.pyplot as plt\n",
    "from matplotlib.colors import LogNorm\n",
    "%matplotlib inline\n",
    "\n",
    "import invisible_cities.database.load_db as DB\n",
    "import invisible_cities.core.system_of_units_c as SystemOfUnits\n",
    "import invisible_cities.reco.pmaps_functions as pmapf\n",
    "import invisible_cities.core.fit_functions as fitf\n",
    "\n",
    "DataPMT = DB.DataPMT()\n",
    "DataSiPM = DB.DataSiPM()\n",
    "units = SystemOfUnits.SystemOfUnits()\n",
    "pi = np.pi\n"
   ]
  },
  {
   "cell_type": "markdown",
   "metadata": {},
   "source": [
    "#### General plotting options"
   ]
  },
  {
   "cell_type": "code",
   "execution_count": 2,
   "metadata": {
    "collapsed": true
   },
   "outputs": [],
   "source": [
    "plt.rcParams[\"figure.figsize\"]          = 8, 6\n",
    "plt.rcParams[\"font.size\"]               = 15\n",
    "plt.rcParams[\"figure.max_open_warning\"] = 100\n",
    "\n",
    "profOpt = \"--k\"\n",
    "fitOpt  = \"r\"\n",
    "\n",
    "outputfolder = \"plots/run3389sub/\"\n",
    "if not os.path.exists(outputfolder):\n",
    "    os.mkdir(outputfolder)"
   ]
  },
  {
   "cell_type": "markdown",
   "metadata": {},
   "source": [
    "#### Useful functions"
   ]
  },
  {
   "cell_type": "code",
   "execution_count": 3,
   "metadata": {
    "collapsed": false
   },
   "outputs": [],
   "source": [
    "def width(times, to_mus=False):\n",
    "    \"\"\"\n",
    "    Compute peak width.\n",
    "    \"\"\"\n",
    "    w = (np.max(times) - np.min(times)) if np.any(times) else 0.\n",
    "    return w * units.ns/units.mus if to_mus else w\n",
    "\n",
    "\n",
    "def timefunc(f):\n",
    "    \"\"\"\n",
    "    Decorator for function timing.\n",
    "    \"\"\"\n",
    "    def time_f(*args, **kwargs):\n",
    "        t0 = time.time()\n",
    "        output = f(*args, **kwargs)\n",
    "        print(\"Time spent in {}: {} s\".format(f.__name__,\n",
    "                                              time.time() - t0))\n",
    "        return output\n",
    "    return time_f\n",
    "\n",
    "\n",
    "def integrate_charge(d):\n",
    "    \"\"\"\n",
    "    Integrate charge from a SiPM dictionary.\n",
    "    \"\"\"\n",
    "    newd = dict((key, np.sum(value)) for key, value in d.items())\n",
    "    return map(np.array, list(zip(*newd.items())))\n",
    "\n",
    "\n",
    "def flat(nested_list):\n",
    "    while hasattr(nested_list[0], \"__iter__\"):\n",
    "        nested_list = [item for inner_list in nested_list for item in inner_list]\n",
    "    return np.array(nested_list)\n",
    "\n",
    "\n",
    "def labels(xlabel, ylabel):\n",
    "    \"\"\"\n",
    "    Set x and y labels.\n",
    "    \"\"\"\n",
    "    plt.xlabel(xlabel)\n",
    "    plt.ylabel(ylabel)\n",
    "\n",
    "\n",
    "def hist(*args, **kwargs):\n",
    "    \"\"\"\n",
    "    Create a figure and then the histogram\n",
    "    \"\"\"\n",
    "    plt.figure()\n",
    "    return plt.hist(*args, **kwargs)\n",
    "\n",
    "\n",
    "def doublehist(data1, data2, lbls, *args, **kwargs):\n",
    "    \"\"\"\n",
    "    Create a figure and then the histogram\n",
    "    \"\"\"\n",
    "    plt.figure()\n",
    "    h1 = plt.hist(data1, *args, label=lbls[0], alpha=0.5, normed=True, **kwargs)\n",
    "    h2 = plt.hist(data2, *args, label=lbls[1], alpha=0.5, normed=True, **kwargs)\n",
    "    return h1, h2, plt.legend()\n",
    "\n",
    "\n",
    "def subhist(data1, data2, bins, *args, **kwargs):\n",
    "    \"\"\"\n",
    "    Create a figure and then the histogram\n",
    "    \"\"\"\n",
    "    plt.figure()\n",
    "    y1, x1 = np.histogram(data1, bins)\n",
    "    y2, x2 = np.histogram(data2, bins, normed=True)\n",
    "    y2 = y2 * np.sum(y1)\n",
    "    h1 = plt.bar(x1[:-1], y1     , np.diff(x1), label=\"Kr\")\n",
    "    h2 = plt.bar(x2[:-1], y1 - y2, np.diff(x2), label=\"Kr - bkg\")\n",
    "\n",
    "    return h1, h2, plt.legend()\n",
    "\n",
    "    \n",
    "def hist2d(*args, **kwargs):\n",
    "    \"\"\"\n",
    "    Create a figure and then the histogram\n",
    "    \"\"\"\n",
    "    plt.figure()\n",
    "    return plt.hist2d(*args, **kwargs)\n",
    "\n",
    "    \n",
    "def pdf(data, *args, **kwargs):\n",
    "    \"\"\"\n",
    "    Create a normalized histogram with appropiate range.\n",
    "    \"\"\"\n",
    "    data = np.array(data)\n",
    "    h = hist(data, *args, **kwargs, weights=np.ones_like(data)/len(data))\n",
    "    plt.yscale(\"log\")\n",
    "    plt.ylim(1e-4, 1.)\n",
    "    return h\n",
    "    \n",
    "def scatter(*args, **kwargs):\n",
    "    \"\"\"\n",
    "    Create a figure and then a scatter plot\n",
    "    \"\"\"\n",
    "    plt.figure()\n",
    "    return plt.scatter(*args, **kwargs)\n",
    "\n",
    "\n",
    "def doublescatter(x1, y1, x2, y2, lbls, *args, **kwargs):\n",
    "    \"\"\"\n",
    "    Create a figure and then a scatter plot\n",
    "    \"\"\"\n",
    "    plt.figure()\n",
    "    sc1 = plt.scatter(x1, y1, *args, label=lbls[0], **kwargs)\n",
    "    sc2 = plt.scatter(x2, y2, *args, label=lbls[1], **kwargs)\n",
    "    return sc1, sc2, plt.legend()\n",
    "\n",
    "\n",
    "def save_to_folder(outputfolder, name):\n",
    "    \"\"\"\n",
    "    Set title and save plot in folder.\n",
    "    \"\"\"\n",
    "    plt.title(name)\n",
    "    plt.savefig(\"{}/{}.png\".format(outputfolder, name), dpi=100)\n",
    "\n",
    "save = functools.partial(save_to_folder, outputfolder)"
   ]
  },
  {
   "cell_type": "markdown",
   "metadata": {},
   "source": [
    "### Input data"
   ]
  },
  {
   "cell_type": "code",
   "execution_count": 4,
   "metadata": {
    "collapsed": true
   },
   "outputs": [],
   "source": [
    "# Comment out this line if your data is in $IC_DATA\n",
    "os.environ[\"IC_DATA\"] = os.environ[\"IC_DATA\"] + \"/Kr2016/data/3389/\""
   ]
  },
  {
   "cell_type": "code",
   "execution_count": 5,
   "metadata": {
    "collapsed": false
   },
   "outputs": [
    {
     "name": "stdout",
     "output_type": "stream",
     "text": [
      "# files: 2997\n"
     ]
    }
   ],
   "source": [
    "ifiles  = glob.glob(os.path.expandvars(\"$IC_DATA/*.h5\"))\n",
    "print(\"# files:\", len(ifiles))"
   ]
  },
  {
   "cell_type": "markdown",
   "metadata": {},
   "source": [
    "### Define event class"
   ]
  },
  {
   "cell_type": "code",
   "execution_count": 6,
   "metadata": {
    "collapsed": true
   },
   "outputs": [],
   "source": [
    "class Event:\n",
    "    \"\"\"\n",
    "    Store for relevant event info.\n",
    "    \"\"\"\n",
    "    def __init__(self):\n",
    "        self.nS1   = 0\n",
    "        self.S1w   = []\n",
    "        self.S1h   = []\n",
    "        self.S1i   = []\n",
    "        self.S1t   = []\n",
    "\n",
    "        self.nS2   = 0\n",
    "        self.S2w   = []\n",
    "        self.S2h   = []\n",
    "        self.S2i   = []\n",
    "        self.S2t   = []\n",
    "\n",
    "        self.Nsipm = []\n",
    "        self.Q     = []\n",
    "        self.Qsipm = []\n",
    "        self.Xt    = np.nan\n",
    "        self.Yt    = np.nan\n",
    "        self.X     = np.nan\n",
    "        self.Y     = np.nan\n",
    "        self.Xrms  = np.nan\n",
    "        self.Yrms  = np.nan\n",
    "        self.Z     = np.nan\n",
    "        self.R     = np.nan\n",
    "        self.Phi   = np.nan\n",
    "\n",
    "        self.T     = -1\n",
    "        self.ok    = False"
   ]
  },
  {
   "cell_type": "markdown",
   "metadata": {},
   "source": [
    "### Define dataset class"
   ]
  },
  {
   "cell_type": "code",
   "execution_count": 7,
   "metadata": {
    "collapsed": false
   },
   "outputs": [],
   "source": [
    "class Dataset:\n",
    "    \"\"\"\n",
    "    Trick for accesing event properties as an attribute of the dataset.\n",
    "    \"\"\"\n",
    "    def __init__(self, evts):\n",
    "        self.evts = np.array(evts, dtype=object)\n",
    "        self._create_attrs()\n",
    "    \n",
    "    @timefunc\n",
    "    def _create_attrs(self):\n",
    "        for attr in filter(lambda x: not x.endswith(\"__\"), Event().__dict__):\n",
    "            setattr(self, attr, np.array([getattr(evt, attr) for evt in self.evts]))\n",
    "\n",
    "    def __getitem__(self, sel):\n",
    "        return Dataset(self.evts[sel])"
   ]
  },
  {
   "cell_type": "markdown",
   "metadata": {},
   "source": [
    "## Functions to fill the event and dataset classes"
   ]
  },
  {
   "cell_type": "code",
   "execution_count": 8,
   "metadata": {
    "collapsed": true
   },
   "outputs": [],
   "source": [
    "#@timefunc\n",
    "def fill_evts(s1s, s2s, sis, evts_out, times, ifile=None):    \n",
    "    evts = set(list(s1s.keys()) +\n",
    "               list(s2s.keys()) +\n",
    "               list(sis.keys()))\n",
    "    nevt = len(evts)\n",
    "    print(ifile, nevt)\n",
    "    for i, evt_number in enumerate(evts):\n",
    "        evt = Event()\n",
    "        s1  = s1s.get(evt_number, dict())\n",
    "        s2  = s2s.get(evt_number, dict())\n",
    "        si  = sis.get(evt_number, dict())\n",
    "        \n",
    "        evt.nS1 = 0\n",
    "        evt.nS2 = 0\n",
    "\n",
    "        s1time = 0\n",
    "        for peak, (t, e) in s1.items():\n",
    "            sel  = e > 0.5\n",
    "            t, e = t[sel], e[sel]\n",
    "            if t.size < 5:\n",
    "                continue\n",
    "            evt.nS1 += 1\n",
    "            evt.S1w.append(width(t))\n",
    "            evt.S1h.append(np.max(e))\n",
    "            evt.S1i.append(np.sum(e))\n",
    "            s1time = t[np.argmax(e)]\n",
    "            evt.S1t.append(s1time)\n",
    "        \n",
    "        s2time = 0\n",
    "        for peak, (t, e) in s2.items():\n",
    "            w = width(t, to_mus=True)\n",
    "            if w>20:\n",
    "                continue\n",
    "            evt.nS2 += 1\n",
    "            evt.S2w.append(w)\n",
    "            evt.S2h.append(np.max(e))\n",
    "            evt.S2i.append(np.sum(e))\n",
    "            s2time = t[np.argmax(e)]\n",
    "            evt.S2t.append(s2time)\n",
    "            \n",
    "            IDs, Qs = integrate_charge(si[peak]) if peak in si else ([], [])\n",
    "            Qpeak   = np.sum(Qs)\n",
    "            xsipms  = DataSiPM.X.values[IDs]\n",
    "            ysipms  = DataSiPM.Y.values[IDs]\n",
    "\n",
    "            evt.Qsipm.append(Qs)\n",
    "            evt.Nsipm.append(len(IDs))\n",
    "            evt.Q    .append(Qpeak)\n",
    "            evt.X    = np.average(xsipms, weights=Qs) if np.any(Qs) else np.nan\n",
    "            evt.Y    = np.average(ysipms, weights=Qs) if np.any(Qs) else np.nan\n",
    "            evt.Xrms = (np.sum(Qs * (xsipms-evt.X)**2) / (Qpeak - 1))**0.5 if np.any(Qs) else np.nan\n",
    "            evt.Yrms = (np.sum(Qs * (ysipms-evt.Y)**2) / (Qpeak - 1))**0.5 if np.any(Qs) else np.nan\n",
    "            evt.R    = (evt.X**2 + evt.Y**2)**0.5 if np.any(Qs) else np.nan\n",
    "            evt.Phi  = np.arctan2(evt.Y, evt.X) if np.any(Qs) else np.nan\n",
    "\n",
    "        evt.T  = times[i]\n",
    "        evt.ok = evt.nS1 == evt.nS2 == 1\n",
    "        if evt.ok:\n",
    "            evt.Z = (s2time - s1time) * units.ns / units.mus\n",
    "        evts_out.append(evt)\n",
    "\n",
    "\n",
    "@timefunc\n",
    "def build_dataset(inputfiles):\n",
    "    evts_out = []\n",
    "    for ifile in inputfiles:\n",
    "        s1s, s2s, sis = pmapf.read_pmaps(ifile)\n",
    "        with tb.open_file(ifile) as h5f:\n",
    "            times = h5f.root.Run.events.cols.timestamp[:] * 1e-3\n",
    "        fill_evts(pmapf.df_to_pmaps_dict(s1s),\n",
    "                  pmapf.df_to_pmaps_dict(s2s),\n",
    "                  pmapf.df_to_s2si_dict (sis),\n",
    "                  evts_out, times - np.min(times), ifile)\n",
    "    return Dataset(evts_out)\n"
   ]
  },
  {
   "cell_type": "markdown",
   "metadata": {},
   "source": [
    "# Read data"
   ]
  },
  {
   "cell_type": "code",
   "execution_count": 9,
   "metadata": {
    "collapsed": false,
    "scrolled": true
   },
   "outputs": [
    {
     "name": "stdout",
     "output_type": "stream",
     "text": [
      "/Users/Gonzalo/github/NEXTdata//Kr2016/data/3389/pmaps_waves.gdcsnext.000_3389.root.h5 163\n",
      "/Users/Gonzalo/github/NEXTdata//Kr2016/data/3389/pmaps_waves.gdcsnext.001_3389.root.h5 163\n",
      "/Users/Gonzalo/github/NEXTdata//Kr2016/data/3389/pmaps_waves.gdcsnext.002_3389.root.h5 163\n",
      "/Users/Gonzalo/github/NEXTdata//Kr2016/data/3389/pmaps_waves.gdcsnext.003_3389.root.h5 163\n",
      "/Users/Gonzalo/github/NEXTdata//Kr2016/data/3389/pmaps_waves.gdcsnext.004_3389.root.h5 163\n",
      "/Users/Gonzalo/github/NEXTdata//Kr2016/data/3389/pmaps_waves.gdcsnext.005_3389.root.h5 163\n",
      "/Users/Gonzalo/github/NEXTdata//Kr2016/data/3389/pmaps_waves.gdcsnext.006_3389.root.h5 163\n",
      "/Users/Gonzalo/github/NEXTdata//Kr2016/data/3389/pmaps_waves.gdcsnext.007_3389.root.h5 163\n",
      "/Users/Gonzalo/github/NEXTdata//Kr2016/data/3389/pmaps_waves.gdcsnext.008_3389.root.h5 163\n",
      "/Users/Gonzalo/github/NEXTdata//Kr2016/data/3389/pmaps_waves.gdcsnext.009_3389.root.h5 163\n",
      "/Users/Gonzalo/github/NEXTdata//Kr2016/data/3389/pmaps_waves.gdcsnext.010_3389.root.h5 163\n",
      "/Users/Gonzalo/github/NEXTdata//Kr2016/data/3389/pmaps_waves.gdcsnext.011_3389.root.h5 163\n",
      "/Users/Gonzalo/github/NEXTdata//Kr2016/data/3389/pmaps_waves.gdcsnext.012_3389.root.h5 163\n",
      "/Users/Gonzalo/github/NEXTdata//Kr2016/data/3389/pmaps_waves.gdcsnext.013_3389.root.h5 163\n",
      "/Users/Gonzalo/github/NEXTdata//Kr2016/data/3389/pmaps_waves.gdcsnext.014_3389.root.h5 163\n",
      "/Users/Gonzalo/github/NEXTdata//Kr2016/data/3389/pmaps_waves.gdcsnext.015_3389.root.h5 163\n",
      "/Users/Gonzalo/github/NEXTdata//Kr2016/data/3389/pmaps_waves.gdcsnext.016_3389.root.h5 163\n",
      "/Users/Gonzalo/github/NEXTdata//Kr2016/data/3389/pmaps_waves.gdcsnext.017_3389.root.h5 163\n",
      "/Users/Gonzalo/github/NEXTdata//Kr2016/data/3389/pmaps_waves.gdcsnext.018_3389.root.h5 163\n",
      "/Users/Gonzalo/github/NEXTdata//Kr2016/data/3389/pmaps_waves.gdcsnext.019_3389.root.h5 163\n",
      "/Users/Gonzalo/github/NEXTdata//Kr2016/data/3389/pmaps_waves.gdcsnext.020_3389.root.h5 163\n",
      "/Users/Gonzalo/github/NEXTdata//Kr2016/data/3389/pmaps_waves.gdcsnext.021_3389.root.h5 163\n",
      "/Users/Gonzalo/github/NEXTdata//Kr2016/data/3389/pmaps_waves.gdcsnext.022_3389.root.h5 163\n",
      "/Users/Gonzalo/github/NEXTdata//Kr2016/data/3389/pmaps_waves.gdcsnext.023_3389.root.h5 163\n",
      "/Users/Gonzalo/github/NEXTdata//Kr2016/data/3389/pmaps_waves.gdcsnext.024_3389.root.h5 163\n",
      "/Users/Gonzalo/github/NEXTdata//Kr2016/data/3389/pmaps_waves.gdcsnext.025_3389.root.h5 163\n",
      "/Users/Gonzalo/github/NEXTdata//Kr2016/data/3389/pmaps_waves.gdcsnext.026_3389.root.h5 163\n",
      "/Users/Gonzalo/github/NEXTdata//Kr2016/data/3389/pmaps_waves.gdcsnext.027_3389.root.h5 163\n",
      "/Users/Gonzalo/github/NEXTdata//Kr2016/data/3389/pmaps_waves.gdcsnext.028_3389.root.h5 163\n",
      "/Users/Gonzalo/github/NEXTdata//Kr2016/data/3389/pmaps_waves.gdcsnext.029_3389.root.h5 163\n",
      "/Users/Gonzalo/github/NEXTdata//Kr2016/data/3389/pmaps_waves.gdcsnext.030_3389.root.h5 163\n",
      "/Users/Gonzalo/github/NEXTdata//Kr2016/data/3389/pmaps_waves.gdcsnext.031_3389.root.h5 163\n",
      "/Users/Gonzalo/github/NEXTdata//Kr2016/data/3389/pmaps_waves.gdcsnext.032_3389.root.h5 163\n",
      "/Users/Gonzalo/github/NEXTdata//Kr2016/data/3389/pmaps_waves.gdcsnext.033_3389.root.h5 163\n",
      "/Users/Gonzalo/github/NEXTdata//Kr2016/data/3389/pmaps_waves.gdcsnext.034_3389.root.h5 163\n",
      "/Users/Gonzalo/github/NEXTdata//Kr2016/data/3389/pmaps_waves.gdcsnext.035_3389.root.h5 163\n",
      "/Users/Gonzalo/github/NEXTdata//Kr2016/data/3389/pmaps_waves.gdcsnext.036_3389.root.h5 163\n",
      "/Users/Gonzalo/github/NEXTdata//Kr2016/data/3389/pmaps_waves.gdcsnext.037_3389.root.h5 163\n",
      "/Users/Gonzalo/github/NEXTdata//Kr2016/data/3389/pmaps_waves.gdcsnext.038_3389.root.h5 163\n",
      "/Users/Gonzalo/github/NEXTdata//Kr2016/data/3389/pmaps_waves.gdcsnext.039_3389.root.h5 163\n",
      "/Users/Gonzalo/github/NEXTdata//Kr2016/data/3389/pmaps_waves.gdcsnext.040_3389.root.h5 163\n",
      "/Users/Gonzalo/github/NEXTdata//Kr2016/data/3389/pmaps_waves.gdcsnext.041_3389.root.h5 163\n",
      "/Users/Gonzalo/github/NEXTdata//Kr2016/data/3389/pmaps_waves.gdcsnext.042_3389.root.h5 163\n",
      "/Users/Gonzalo/github/NEXTdata//Kr2016/data/3389/pmaps_waves.gdcsnext.043_3389.root.h5 163\n",
      "/Users/Gonzalo/github/NEXTdata//Kr2016/data/3389/pmaps_waves.gdcsnext.044_3389.root.h5 163\n",
      "/Users/Gonzalo/github/NEXTdata//Kr2016/data/3389/pmaps_waves.gdcsnext.045_3389.root.h5 163\n",
      "/Users/Gonzalo/github/NEXTdata//Kr2016/data/3389/pmaps_waves.gdcsnext.046_3389.root.h5 163\n",
      "/Users/Gonzalo/github/NEXTdata//Kr2016/data/3389/pmaps_waves.gdcsnext.047_3389.root.h5 163\n",
      "/Users/Gonzalo/github/NEXTdata//Kr2016/data/3389/pmaps_waves.gdcsnext.048_3389.root.h5 163\n",
      "/Users/Gonzalo/github/NEXTdata//Kr2016/data/3389/pmaps_waves.gdcsnext.049_3389.root.h5 163\n",
      "/Users/Gonzalo/github/NEXTdata//Kr2016/data/3389/pmaps_waves.gdcsnext.050_3389.root.h5 163\n",
      "/Users/Gonzalo/github/NEXTdata//Kr2016/data/3389/pmaps_waves.gdcsnext.051_3389.root.h5 163\n",
      "/Users/Gonzalo/github/NEXTdata//Kr2016/data/3389/pmaps_waves.gdcsnext.052_3389.root.h5 163\n",
      "/Users/Gonzalo/github/NEXTdata//Kr2016/data/3389/pmaps_waves.gdcsnext.053_3389.root.h5 163\n",
      "/Users/Gonzalo/github/NEXTdata//Kr2016/data/3389/pmaps_waves.gdcsnext.054_3389.root.h5 163\n",
      "/Users/Gonzalo/github/NEXTdata//Kr2016/data/3389/pmaps_waves.gdcsnext.055_3389.root.h5 163\n",
      "/Users/Gonzalo/github/NEXTdata//Kr2016/data/3389/pmaps_waves.gdcsnext.056_3389.root.h5 163\n",
      "/Users/Gonzalo/github/NEXTdata//Kr2016/data/3389/pmaps_waves.gdcsnext.057_3389.root.h5 163\n",
      "/Users/Gonzalo/github/NEXTdata//Kr2016/data/3389/pmaps_waves.gdcsnext.058_3389.root.h5 163\n",
      "/Users/Gonzalo/github/NEXTdata//Kr2016/data/3389/pmaps_waves.gdcsnext.059_3389.root.h5 163\n",
      "/Users/Gonzalo/github/NEXTdata//Kr2016/data/3389/pmaps_waves.gdcsnext.060_3389.root.h5 163\n",
      "/Users/Gonzalo/github/NEXTdata//Kr2016/data/3389/pmaps_waves.gdcsnext.061_3389.root.h5 163\n",
      "/Users/Gonzalo/github/NEXTdata//Kr2016/data/3389/pmaps_waves.gdcsnext.062_3389.root.h5 163\n",
      "/Users/Gonzalo/github/NEXTdata//Kr2016/data/3389/pmaps_waves.gdcsnext.063_3389.root.h5 163\n",
      "/Users/Gonzalo/github/NEXTdata//Kr2016/data/3389/pmaps_waves.gdcsnext.064_3389.root.h5 163\n",
      "/Users/Gonzalo/github/NEXTdata//Kr2016/data/3389/pmaps_waves.gdcsnext.065_3389.root.h5 163\n",
      "/Users/Gonzalo/github/NEXTdata//Kr2016/data/3389/pmaps_waves.gdcsnext.066_3389.root.h5 163\n",
      "/Users/Gonzalo/github/NEXTdata//Kr2016/data/3389/pmaps_waves.gdcsnext.067_3389.root.h5 163\n",
      "/Users/Gonzalo/github/NEXTdata//Kr2016/data/3389/pmaps_waves.gdcsnext.068_3389.root.h5 163\n",
      "/Users/Gonzalo/github/NEXTdata//Kr2016/data/3389/pmaps_waves.gdcsnext.069_3389.root.h5 163\n",
      "/Users/Gonzalo/github/NEXTdata//Kr2016/data/3389/pmaps_waves.gdcsnext.070_3389.root.h5 163\n",
      "/Users/Gonzalo/github/NEXTdata//Kr2016/data/3389/pmaps_waves.gdcsnext.071_3389.root.h5 163\n",
      "/Users/Gonzalo/github/NEXTdata//Kr2016/data/3389/pmaps_waves.gdcsnext.072_3389.root.h5 163\n",
      "/Users/Gonzalo/github/NEXTdata//Kr2016/data/3389/pmaps_waves.gdcsnext.073_3389.root.h5 163\n",
      "/Users/Gonzalo/github/NEXTdata//Kr2016/data/3389/pmaps_waves.gdcsnext.074_3389.root.h5 163\n",
      "/Users/Gonzalo/github/NEXTdata//Kr2016/data/3389/pmaps_waves.gdcsnext.075_3389.root.h5 163\n",
      "/Users/Gonzalo/github/NEXTdata//Kr2016/data/3389/pmaps_waves.gdcsnext.076_3389.root.h5 163\n",
      "/Users/Gonzalo/github/NEXTdata//Kr2016/data/3389/pmaps_waves.gdcsnext.077_3389.root.h5 163\n",
      "/Users/Gonzalo/github/NEXTdata//Kr2016/data/3389/pmaps_waves.gdcsnext.078_3389.root.h5 163\n",
      "/Users/Gonzalo/github/NEXTdata//Kr2016/data/3389/pmaps_waves.gdcsnext.079_3389.root.h5 163\n",
      "/Users/Gonzalo/github/NEXTdata//Kr2016/data/3389/pmaps_waves.gdcsnext.080_3389.root.h5 163\n",
      "/Users/Gonzalo/github/NEXTdata//Kr2016/data/3389/pmaps_waves.gdcsnext.081_3389.root.h5 163\n",
      "/Users/Gonzalo/github/NEXTdata//Kr2016/data/3389/pmaps_waves.gdcsnext.082_3389.root.h5 163\n",
      "/Users/Gonzalo/github/NEXTdata//Kr2016/data/3389/pmaps_waves.gdcsnext.083_3389.root.h5 163\n",
      "/Users/Gonzalo/github/NEXTdata//Kr2016/data/3389/pmaps_waves.gdcsnext.084_3389.root.h5 163\n",
      "/Users/Gonzalo/github/NEXTdata//Kr2016/data/3389/pmaps_waves.gdcsnext.085_3389.root.h5 163\n",
      "/Users/Gonzalo/github/NEXTdata//Kr2016/data/3389/pmaps_waves.gdcsnext.086_3389.root.h5 163\n",
      "/Users/Gonzalo/github/NEXTdata//Kr2016/data/3389/pmaps_waves.gdcsnext.087_3389.root.h5 163\n",
      "/Users/Gonzalo/github/NEXTdata//Kr2016/data/3389/pmaps_waves.gdcsnext.088_3389.root.h5 163\n",
      "/Users/Gonzalo/github/NEXTdata//Kr2016/data/3389/pmaps_waves.gdcsnext.089_3389.root.h5 163\n",
      "/Users/Gonzalo/github/NEXTdata//Kr2016/data/3389/pmaps_waves.gdcsnext.090_3389.root.h5 163\n",
      "/Users/Gonzalo/github/NEXTdata//Kr2016/data/3389/pmaps_waves.gdcsnext.091_3389.root.h5 163\n",
      "/Users/Gonzalo/github/NEXTdata//Kr2016/data/3389/pmaps_waves.gdcsnext.092_3389.root.h5 163\n",
      "/Users/Gonzalo/github/NEXTdata//Kr2016/data/3389/pmaps_waves.gdcsnext.093_3389.root.h5 163\n",
      "/Users/Gonzalo/github/NEXTdata//Kr2016/data/3389/pmaps_waves.gdcsnext.094_3389.root.h5 163\n",
      "/Users/Gonzalo/github/NEXTdata//Kr2016/data/3389/pmaps_waves.gdcsnext.095_3389.root.h5 163\n",
      "/Users/Gonzalo/github/NEXTdata//Kr2016/data/3389/pmaps_waves.gdcsnext.096_3389.root.h5 163\n",
      "/Users/Gonzalo/github/NEXTdata//Kr2016/data/3389/pmaps_waves.gdcsnext.097_3389.root.h5 163\n",
      "/Users/Gonzalo/github/NEXTdata//Kr2016/data/3389/pmaps_waves.gdcsnext.098_3389.root.h5 163\n",
      "/Users/Gonzalo/github/NEXTdata//Kr2016/data/3389/pmaps_waves.gdcsnext.099_3389.root.h5 163\n",
      "/Users/Gonzalo/github/NEXTdata//Kr2016/data/3389/pmaps_waves.gdcsnext.1000_3389.root.h5 163\n",
      "/Users/Gonzalo/github/NEXTdata//Kr2016/data/3389/pmaps_waves.gdcsnext.1001_3389.root.h5 163\n",
      "/Users/Gonzalo/github/NEXTdata//Kr2016/data/3389/pmaps_waves.gdcsnext.1002_3389.root.h5 163\n",
      "/Users/Gonzalo/github/NEXTdata//Kr2016/data/3389/pmaps_waves.gdcsnext.1003_3389.root.h5 163\n",
      "/Users/Gonzalo/github/NEXTdata//Kr2016/data/3389/pmaps_waves.gdcsnext.1004_3389.root.h5 163\n",
      "/Users/Gonzalo/github/NEXTdata//Kr2016/data/3389/pmaps_waves.gdcsnext.1005_3389.root.h5 163\n",
      "/Users/Gonzalo/github/NEXTdata//Kr2016/data/3389/pmaps_waves.gdcsnext.1006_3389.root.h5 163\n",
      "/Users/Gonzalo/github/NEXTdata//Kr2016/data/3389/pmaps_waves.gdcsnext.1007_3389.root.h5 163\n",
      "/Users/Gonzalo/github/NEXTdata//Kr2016/data/3389/pmaps_waves.gdcsnext.1008_3389.root.h5 163\n",
      "/Users/Gonzalo/github/NEXTdata//Kr2016/data/3389/pmaps_waves.gdcsnext.1009_3389.root.h5 163\n",
      "/Users/Gonzalo/github/NEXTdata//Kr2016/data/3389/pmaps_waves.gdcsnext.100_3389.root.h5 163\n",
      "/Users/Gonzalo/github/NEXTdata//Kr2016/data/3389/pmaps_waves.gdcsnext.1010_3389.root.h5 163\n",
      "/Users/Gonzalo/github/NEXTdata//Kr2016/data/3389/pmaps_waves.gdcsnext.1011_3389.root.h5 163\n",
      "/Users/Gonzalo/github/NEXTdata//Kr2016/data/3389/pmaps_waves.gdcsnext.1012_3389.root.h5 163\n",
      "/Users/Gonzalo/github/NEXTdata//Kr2016/data/3389/pmaps_waves.gdcsnext.1013_3389.root.h5 163\n",
      "/Users/Gonzalo/github/NEXTdata//Kr2016/data/3389/pmaps_waves.gdcsnext.1014_3389.root.h5 163\n",
      "/Users/Gonzalo/github/NEXTdata//Kr2016/data/3389/pmaps_waves.gdcsnext.1015_3389.root.h5 163\n",
      "/Users/Gonzalo/github/NEXTdata//Kr2016/data/3389/pmaps_waves.gdcsnext.1016_3389.root.h5 163\n",
      "/Users/Gonzalo/github/NEXTdata//Kr2016/data/3389/pmaps_waves.gdcsnext.1017_3389.root.h5 163\n",
      "/Users/Gonzalo/github/NEXTdata//Kr2016/data/3389/pmaps_waves.gdcsnext.1018_3389.root.h5 163\n",
      "/Users/Gonzalo/github/NEXTdata//Kr2016/data/3389/pmaps_waves.gdcsnext.1019_3389.root.h5 163\n",
      "/Users/Gonzalo/github/NEXTdata//Kr2016/data/3389/pmaps_waves.gdcsnext.101_3389.root.h5 163\n",
      "/Users/Gonzalo/github/NEXTdata//Kr2016/data/3389/pmaps_waves.gdcsnext.1020_3389.root.h5 163\n",
      "/Users/Gonzalo/github/NEXTdata//Kr2016/data/3389/pmaps_waves.gdcsnext.1021_3389.root.h5 163\n",
      "/Users/Gonzalo/github/NEXTdata//Kr2016/data/3389/pmaps_waves.gdcsnext.1022_3389.root.h5 163\n",
      "/Users/Gonzalo/github/NEXTdata//Kr2016/data/3389/pmaps_waves.gdcsnext.1023_3389.root.h5 163\n",
      "/Users/Gonzalo/github/NEXTdata//Kr2016/data/3389/pmaps_waves.gdcsnext.1024_3389.root.h5 163\n",
      "/Users/Gonzalo/github/NEXTdata//Kr2016/data/3389/pmaps_waves.gdcsnext.1025_3389.root.h5 163\n",
      "/Users/Gonzalo/github/NEXTdata//Kr2016/data/3389/pmaps_waves.gdcsnext.1026_3389.root.h5 163\n",
      "/Users/Gonzalo/github/NEXTdata//Kr2016/data/3389/pmaps_waves.gdcsnext.1027_3389.root.h5 163\n",
      "/Users/Gonzalo/github/NEXTdata//Kr2016/data/3389/pmaps_waves.gdcsnext.1028_3389.root.h5 163\n",
      "/Users/Gonzalo/github/NEXTdata//Kr2016/data/3389/pmaps_waves.gdcsnext.1029_3389.root.h5 163\n",
      "/Users/Gonzalo/github/NEXTdata//Kr2016/data/3389/pmaps_waves.gdcsnext.102_3389.root.h5 163\n",
      "/Users/Gonzalo/github/NEXTdata//Kr2016/data/3389/pmaps_waves.gdcsnext.1030_3389.root.h5 163\n",
      "/Users/Gonzalo/github/NEXTdata//Kr2016/data/3389/pmaps_waves.gdcsnext.1031_3389.root.h5 163\n",
      "/Users/Gonzalo/github/NEXTdata//Kr2016/data/3389/pmaps_waves.gdcsnext.1032_3389.root.h5 163\n",
      "/Users/Gonzalo/github/NEXTdata//Kr2016/data/3389/pmaps_waves.gdcsnext.1033_3389.root.h5 163\n",
      "/Users/Gonzalo/github/NEXTdata//Kr2016/data/3389/pmaps_waves.gdcsnext.1034_3389.root.h5 163\n",
      "/Users/Gonzalo/github/NEXTdata//Kr2016/data/3389/pmaps_waves.gdcsnext.1035_3389.root.h5 163\n",
      "/Users/Gonzalo/github/NEXTdata//Kr2016/data/3389/pmaps_waves.gdcsnext.1036_3389.root.h5 163\n",
      "/Users/Gonzalo/github/NEXTdata//Kr2016/data/3389/pmaps_waves.gdcsnext.1037_3389.root.h5 163\n",
      "/Users/Gonzalo/github/NEXTdata//Kr2016/data/3389/pmaps_waves.gdcsnext.1038_3389.root.h5 163\n",
      "/Users/Gonzalo/github/NEXTdata//Kr2016/data/3389/pmaps_waves.gdcsnext.1039_3389.root.h5 163\n",
      "/Users/Gonzalo/github/NEXTdata//Kr2016/data/3389/pmaps_waves.gdcsnext.103_3389.root.h5 163\n",
      "/Users/Gonzalo/github/NEXTdata//Kr2016/data/3389/pmaps_waves.gdcsnext.1040_3389.root.h5 163\n",
      "/Users/Gonzalo/github/NEXTdata//Kr2016/data/3389/pmaps_waves.gdcsnext.1041_3389.root.h5 163\n",
      "/Users/Gonzalo/github/NEXTdata//Kr2016/data/3389/pmaps_waves.gdcsnext.1042_3389.root.h5 163\n",
      "/Users/Gonzalo/github/NEXTdata//Kr2016/data/3389/pmaps_waves.gdcsnext.1043_3389.root.h5 163\n",
      "/Users/Gonzalo/github/NEXTdata//Kr2016/data/3389/pmaps_waves.gdcsnext.1044_3389.root.h5 163\n",
      "/Users/Gonzalo/github/NEXTdata//Kr2016/data/3389/pmaps_waves.gdcsnext.1045_3389.root.h5 163\n",
      "/Users/Gonzalo/github/NEXTdata//Kr2016/data/3389/pmaps_waves.gdcsnext.1046_3389.root.h5 163\n",
      "/Users/Gonzalo/github/NEXTdata//Kr2016/data/3389/pmaps_waves.gdcsnext.1047_3389.root.h5 163\n",
      "/Users/Gonzalo/github/NEXTdata//Kr2016/data/3389/pmaps_waves.gdcsnext.1048_3389.root.h5 163\n",
      "/Users/Gonzalo/github/NEXTdata//Kr2016/data/3389/pmaps_waves.gdcsnext.1049_3389.root.h5 163\n",
      "/Users/Gonzalo/github/NEXTdata//Kr2016/data/3389/pmaps_waves.gdcsnext.104_3389.root.h5 163\n",
      "/Users/Gonzalo/github/NEXTdata//Kr2016/data/3389/pmaps_waves.gdcsnext.1050_3389.root.h5 163\n",
      "/Users/Gonzalo/github/NEXTdata//Kr2016/data/3389/pmaps_waves.gdcsnext.1051_3389.root.h5 163\n",
      "/Users/Gonzalo/github/NEXTdata//Kr2016/data/3389/pmaps_waves.gdcsnext.1052_3389.root.h5 163\n",
      "/Users/Gonzalo/github/NEXTdata//Kr2016/data/3389/pmaps_waves.gdcsnext.1053_3389.root.h5 163\n",
      "/Users/Gonzalo/github/NEXTdata//Kr2016/data/3389/pmaps_waves.gdcsnext.1054_3389.root.h5 163\n",
      "/Users/Gonzalo/github/NEXTdata//Kr2016/data/3389/pmaps_waves.gdcsnext.1055_3389.root.h5 163\n",
      "/Users/Gonzalo/github/NEXTdata//Kr2016/data/3389/pmaps_waves.gdcsnext.1056_3389.root.h5 163\n",
      "/Users/Gonzalo/github/NEXTdata//Kr2016/data/3389/pmaps_waves.gdcsnext.1057_3389.root.h5 163\n",
      "/Users/Gonzalo/github/NEXTdata//Kr2016/data/3389/pmaps_waves.gdcsnext.1058_3389.root.h5 163\n",
      "/Users/Gonzalo/github/NEXTdata//Kr2016/data/3389/pmaps_waves.gdcsnext.1059_3389.root.h5 163\n",
      "/Users/Gonzalo/github/NEXTdata//Kr2016/data/3389/pmaps_waves.gdcsnext.105_3389.root.h5 163\n",
      "/Users/Gonzalo/github/NEXTdata//Kr2016/data/3389/pmaps_waves.gdcsnext.1060_3389.root.h5 163\n",
      "/Users/Gonzalo/github/NEXTdata//Kr2016/data/3389/pmaps_waves.gdcsnext.1061_3389.root.h5 163\n",
      "/Users/Gonzalo/github/NEXTdata//Kr2016/data/3389/pmaps_waves.gdcsnext.1062_3389.root.h5 163\n",
      "/Users/Gonzalo/github/NEXTdata//Kr2016/data/3389/pmaps_waves.gdcsnext.1063_3389.root.h5 163\n",
      "/Users/Gonzalo/github/NEXTdata//Kr2016/data/3389/pmaps_waves.gdcsnext.1064_3389.root.h5 163\n",
      "/Users/Gonzalo/github/NEXTdata//Kr2016/data/3389/pmaps_waves.gdcsnext.1065_3389.root.h5 163\n",
      "/Users/Gonzalo/github/NEXTdata//Kr2016/data/3389/pmaps_waves.gdcsnext.1066_3389.root.h5 163\n",
      "/Users/Gonzalo/github/NEXTdata//Kr2016/data/3389/pmaps_waves.gdcsnext.1067_3389.root.h5 163\n",
      "/Users/Gonzalo/github/NEXTdata//Kr2016/data/3389/pmaps_waves.gdcsnext.1068_3389.root.h5 163\n",
      "/Users/Gonzalo/github/NEXTdata//Kr2016/data/3389/pmaps_waves.gdcsnext.1069_3389.root.h5 163\n",
      "/Users/Gonzalo/github/NEXTdata//Kr2016/data/3389/pmaps_waves.gdcsnext.106_3389.root.h5 163\n",
      "/Users/Gonzalo/github/NEXTdata//Kr2016/data/3389/pmaps_waves.gdcsnext.1070_3389.root.h5 163\n",
      "/Users/Gonzalo/github/NEXTdata//Kr2016/data/3389/pmaps_waves.gdcsnext.1071_3389.root.h5 163\n",
      "/Users/Gonzalo/github/NEXTdata//Kr2016/data/3389/pmaps_waves.gdcsnext.1072_3389.root.h5 163\n",
      "/Users/Gonzalo/github/NEXTdata//Kr2016/data/3389/pmaps_waves.gdcsnext.1073_3389.root.h5 163\n",
      "/Users/Gonzalo/github/NEXTdata//Kr2016/data/3389/pmaps_waves.gdcsnext.1074_3389.root.h5 163\n",
      "/Users/Gonzalo/github/NEXTdata//Kr2016/data/3389/pmaps_waves.gdcsnext.1075_3389.root.h5 163\n",
      "/Users/Gonzalo/github/NEXTdata//Kr2016/data/3389/pmaps_waves.gdcsnext.1076_3389.root.h5 163\n",
      "/Users/Gonzalo/github/NEXTdata//Kr2016/data/3389/pmaps_waves.gdcsnext.1077_3389.root.h5 163\n",
      "/Users/Gonzalo/github/NEXTdata//Kr2016/data/3389/pmaps_waves.gdcsnext.1078_3389.root.h5 163\n",
      "/Users/Gonzalo/github/NEXTdata//Kr2016/data/3389/pmaps_waves.gdcsnext.1079_3389.root.h5 163\n",
      "/Users/Gonzalo/github/NEXTdata//Kr2016/data/3389/pmaps_waves.gdcsnext.107_3389.root.h5 163\n",
      "/Users/Gonzalo/github/NEXTdata//Kr2016/data/3389/pmaps_waves.gdcsnext.1080_3389.root.h5 163\n",
      "/Users/Gonzalo/github/NEXTdata//Kr2016/data/3389/pmaps_waves.gdcsnext.1081_3389.root.h5 163\n",
      "/Users/Gonzalo/github/NEXTdata//Kr2016/data/3389/pmaps_waves.gdcsnext.1082_3389.root.h5 163\n",
      "/Users/Gonzalo/github/NEXTdata//Kr2016/data/3389/pmaps_waves.gdcsnext.1083_3389.root.h5 163\n",
      "/Users/Gonzalo/github/NEXTdata//Kr2016/data/3389/pmaps_waves.gdcsnext.1084_3389.root.h5 163\n",
      "/Users/Gonzalo/github/NEXTdata//Kr2016/data/3389/pmaps_waves.gdcsnext.1085_3389.root.h5 163\n",
      "/Users/Gonzalo/github/NEXTdata//Kr2016/data/3389/pmaps_waves.gdcsnext.1086_3389.root.h5 163\n",
      "/Users/Gonzalo/github/NEXTdata//Kr2016/data/3389/pmaps_waves.gdcsnext.1087_3389.root.h5 163\n",
      "/Users/Gonzalo/github/NEXTdata//Kr2016/data/3389/pmaps_waves.gdcsnext.1088_3389.root.h5 163\n",
      "/Users/Gonzalo/github/NEXTdata//Kr2016/data/3389/pmaps_waves.gdcsnext.1089_3389.root.h5 163\n",
      "/Users/Gonzalo/github/NEXTdata//Kr2016/data/3389/pmaps_waves.gdcsnext.108_3389.root.h5 163\n",
      "/Users/Gonzalo/github/NEXTdata//Kr2016/data/3389/pmaps_waves.gdcsnext.1090_3389.root.h5 163\n",
      "Time spent in _create_attrs: 0.6997950077056885 s\n",
      "Time spent in build_dataset: 39.50313711166382 s\n"
     ]
    }
   ],
   "source": [
    "full = build_dataset(ifiles[:200])"
   ]
  },
  {
   "cell_type": "markdown",
   "metadata": {},
   "source": [
    "# S2 Energy"
   ]
  },
  {
   "cell_type": "code",
   "execution_count": 24,
   "metadata": {
    "collapsed": false
   },
   "outputs": [
    {
     "name": "stdout",
     "output_type": "stream",
     "text": [
      "Time spent in _create_attrs: 0.6515390872955322 s\n",
      "Time spent in _create_attrs: 0.6762909889221191 s\n",
      "Time spent in _create_attrs: 0.19576597213745117 s\n"
     ]
    },
    {
     "name": "stderr",
     "output_type": "stream",
     "text": [
      "/Applications/anaconda3/envs/IC3.5/lib/python3.5/site-packages/ipykernel/__main__.py:3: RuntimeWarning: invalid value encountered in less\n",
      "  app.launch_new_instance()\n",
      "/Applications/anaconda3/envs/IC3.5/lib/python3.5/site-packages/numpy/core/_methods.py:59: RuntimeWarning: Mean of empty slice.\n",
      "  warnings.warn(\"Mean of empty slice.\", RuntimeWarning)\n",
      "/Applications/anaconda3/envs/IC3.5/lib/python3.5/site-packages/numpy/core/_methods.py:70: RuntimeWarning: invalid value encountered in double_scalars\n",
      "  ret = ret.dtype.type(ret / rcount)\n",
      "/Applications/anaconda3/envs/IC3.5/lib/python3.5/site-packages/numpy/core/_methods.py:82: RuntimeWarning: Degrees of freedom <= 0 for slice\n",
      "  warnings.warn(\"Degrees of freedom <= 0 for slice\", RuntimeWarning)\n",
      "/Applications/anaconda3/envs/IC3.5/lib/python3.5/site-packages/numpy/core/_methods.py:94: RuntimeWarning: invalid value encountered in true_divide\n",
      "  arrmean, rcount, out=arrmean, casting='unsafe', subok=False)\n",
      "/Applications/anaconda3/envs/IC3.5/lib/python3.5/site-packages/numpy/core/_methods.py:116: RuntimeWarning: invalid value encountered in double_scalars\n",
      "  ret = ret.dtype.type(ret / rcount)\n",
      "/Users/Gonzalo/github/IC/invisible_cities/core/fit_functions.py:119: RuntimeWarning: divide by zero encountered in true_divide\n",
      "  chi2 = np.sum(np.ma.masked_invalid((fitx - y)**2/y))\n"
     ]
    },
    {
     "data": {
      "image/png": "[encoded data removed]",
      "text/plain": [
       "<matplotlib.figure.Figure at 0x11767c6d8>"
      ]
     },
     "metadata": {},
     "output_type": "display_data"
    },
    {
     "data": {
      "image/png": "[encoded data removed]",
      "text/plain": [
       "<matplotlib.figure.Figure at 0x117d314a8>"
      ]
     },
     "metadata": {},
     "output_type": "display_data"
    },
    {
     "data": {
      "image/png": "[encoded data removed]",
      "text/plain": [
       "<matplotlib.figure.Figure at 0x113ea9cf8>"
      ]
     },
     "metadata": {},
     "output_type": "display_data"
    }
   ],
   "source": [
    "data = full[full.ok]\n",
    "data = data[data.Z < 250]\n",
    "data = data[data.R < 100]\n",
    "\n",
    "z = flat(data.Z)\n",
    "E = flat(data.S2i)\n",
    "\n",
    "Ebins = np.linspace(3e3, 12e3, 100)\n",
    "hist(E, Ebins)\n",
    "scatter(z, E)\n",
    "x, y, _ = fitf.profileX(z, E, 100, (25, 200))\n",
    "plt.plot(x, y, profOpt)\n",
    "f = fitf.fit(fitf.expo, x, y, (1e4, -1e2))\n",
    "plt.plot(x, f.fn(x), fitOpt)\n",
    "labels(\"Drift time ($\\mu$s)\", \"S2 energy (pes)\")\n",
    "\n",
    "Ecorr = E * f.fn(np.min(z))/f.fn(z)\n",
    "\n",
    "y, x, _ = hist(Ecorr, Ebins)\n",
    "x = x[:-1] + np.diff(x) * 0.5\n",
    "f = fitf.fit(fitf.gauss, x, y, (1e3, 1e4, 1e2))\n",
    "plt.plot(x, f.fn(x), fitOpt)\n",
    "#plt.text(4e3, 300, \"{:.3f}\")\n",
    "labels(\"Drift time ($\\mu$s)\", \"S2 energy (pes)\")"
   ]
  },
  {
   "cell_type": "markdown",
   "metadata": {},
   "source": [
    "## One S2"
   ]
  },
  {
   "cell_type": "code",
   "execution_count": 63,
   "metadata": {
    "collapsed": false
   },
   "outputs": [
    {
     "name": "stdout",
     "output_type": "stream",
     "text": [
      "Time spent in _create_attrs: 7.4185309410095215 s\n",
      "Time spent in _create_attrs: 0.4359889030456543 s\n"
     ]
    },
    {
     "data": {
      "image/png": "[encoded data removed]",
      "text/plain": [
       "<matplotlib.figure.Figure at 0x12a793be0>"
      ]
     },
     "metadata": {},
     "output_type": "display_data"
    }
   ],
   "source": [
    "data = full[full.nS1 == 1]\n",
    "bkg  = bkgd[bkgd.nS1 == 1]\n",
    "\n",
    "subhist(flat(data.S2i), flat(bkg.S2i), np.linspace(3e3, 1e4, 100))\n",
    "labels(\"S2 energy (pes)\", \"Entries\")"
   ]
  },
  {
   "cell_type": "markdown",
   "metadata": {},
   "source": [
    "# One S1 one S2"
   ]
  },
  {
   "cell_type": "code",
   "execution_count": 64,
   "metadata": {
    "collapsed": false
   },
   "outputs": [
    {
     "name": "stdout",
     "output_type": "stream",
     "text": [
      "Time spent in _create_attrs: 5.543844938278198 s\n",
      "Time spent in _create_attrs: 0.2961881160736084 s\n"
     ]
    },
    {
     "data": {
      "image/png": "[encoded data removed]",
      "text/plain": [
       "<matplotlib.figure.Figure at 0x118ed9588>"
      ]
     },
     "metadata": {},
     "output_type": "display_data"
    }
   ],
   "source": [
    "data = full[full.ok]\n",
    "bkg  = bkgd[bkgd.ok]\n",
    "\n",
    "subhist(flat(data.S2i), flat(bkg.S2i), np.linspace(3e3, 1e4, 100))\n",
    "labels(\"S2 energy (pes)\", \"Entries\")"
   ]
  },
  {
   "cell_type": "markdown",
   "metadata": {},
   "source": [
    "## One S1 one S2 fiducialized"
   ]
  },
  {
   "cell_type": "code",
   "execution_count": 65,
   "metadata": {
    "collapsed": false
   },
   "outputs": [
    {
     "name": "stderr",
     "output_type": "stream",
     "text": [
      "/Applications/anaconda3/envs/IC3.5/lib/python3.5/site-packages/ipykernel/__main__.py:1: RuntimeWarning: invalid value encountered in less\n",
      "  if __name__ == '__main__':\n"
     ]
    },
    {
     "name": "stdout",
     "output_type": "stream",
     "text": [
      "Time spent in _create_attrs: 2.0745599269866943 s\n",
      "Time spent in _create_attrs: 0.036334991455078125 s\n"
     ]
    },
    {
     "name": "stderr",
     "output_type": "stream",
     "text": [
      "/Applications/anaconda3/envs/IC3.5/lib/python3.5/site-packages/ipykernel/__main__.py:2: RuntimeWarning: invalid value encountered in less\n",
      "  from ipykernel import kernelapp as app\n"
     ]
    },
    {
     "data": {
      "image/png": "[encoded data removed]",
      "text/plain": [
       "<matplotlib.figure.Figure at 0x112780588>"
      ]
     },
     "metadata": {},
     "output_type": "display_data"
    }
   ],
   "source": [
    "data = full[full.ok & (full.R < 100)]\n",
    "bkg  = bkgd[bkgd.ok & (bkgd.R < 100)]\n",
    "\n",
    "subhist(flat(data.S2i), flat(bkg.S2i), np.linspace(3e3, 1e4, 100))\n",
    "labels(\"S2 energy (pes)\", \"Entries\")"
   ]
  },
  {
   "cell_type": "markdown",
   "metadata": {},
   "source": [
    "## One S1 one S2 fiducialized Z > 300 µs"
   ]
  },
  {
   "cell_type": "code",
   "execution_count": 66,
   "metadata": {
    "collapsed": false
   },
   "outputs": [
    {
     "name": "stderr",
     "output_type": "stream",
     "text": [
      "/Applications/anaconda3/envs/IC3.5/lib/python3.5/site-packages/ipykernel/__main__.py:1: RuntimeWarning: invalid value encountered in less\n",
      "  if __name__ == '__main__':\n",
      "/Applications/anaconda3/envs/IC3.5/lib/python3.5/site-packages/ipykernel/__main__.py:1: RuntimeWarning: invalid value encountered in greater\n",
      "  if __name__ == '__main__':\n",
      "/Applications/anaconda3/envs/IC3.5/lib/python3.5/site-packages/ipykernel/__main__.py:2: RuntimeWarning: invalid value encountered in less\n",
      "  from ipykernel import kernelapp as app\n",
      "/Applications/anaconda3/envs/IC3.5/lib/python3.5/site-packages/ipykernel/__main__.py:2: RuntimeWarning: invalid value encountered in greater\n",
      "  from ipykernel import kernelapp as app\n"
     ]
    },
    {
     "name": "stdout",
     "output_type": "stream",
     "text": [
      "Time spent in _create_attrs: 0.035964012145996094 s\n",
      "Time spent in _create_attrs: 0.0008969306945800781 s\n"
     ]
    },
    {
     "data": {
      "image/png": "[encoded data removed]",
      "text/plain": [
       "<matplotlib.figure.Figure at 0x11ff627f0>"
      ]
     },
     "metadata": {},
     "output_type": "display_data"
    }
   ],
   "source": [
    "data = full[full.ok & (full.R < 100) & flat(full.Z > 300)]\n",
    "bkg  = bkgd[bkgd.ok & (bkgd.R < 100) & flat(bkgd.Z > 300)]\n",
    "\n",
    "subhist(flat(data.S2i), flat(bkg.S2i), np.linspace(3e3, 1e4, 50))\n",
    "labels(\"S2 energy (pes)\", \"Entries\")"
   ]
  }
 ],
 "metadata": {
  "kernelspec": {
   "display_name": "Python 3",
   "language": "python",
   "name": "python3"
  },
  "language_info": {
   "codemirror_mode": {
    "name": "ipython",
    "version": 3
   },
   "file_extension": ".py",
   "mimetype": "text/x-python",
   "name": "python",
   "nbconvert_exporter": "python",
   "pygments_lexer": "ipython3",
   "version": "3.5.2"
  }
 },
 "nbformat": 4,
 "nbformat_minor": 2
}
