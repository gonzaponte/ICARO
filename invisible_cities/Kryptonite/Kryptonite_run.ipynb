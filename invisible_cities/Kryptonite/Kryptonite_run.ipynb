{
 "cells": [
  {
   "cell_type": "markdown",
   "metadata": {
    "collapsed": false
   },
   "source": [
    "### Kriptonite"
   ]
  },
  {
   "cell_type": "markdown",
   "metadata": {
    "collapsed": false
   },
   "source": [
    "A NB to drive Kryptonite.\n",
    "\n",
    "Kryptonite reads a PMAPS file, selects events with 1 S1 and a variable number of S2s (decided by configuration) and then writesa krypton-like DST.\n",
    "\n",
    "\"Krypton-like\" means literally that the events are assumed to be point-like, and thus each event can be characterized by its position and energ (x,y,z,E). The Kryptonite DST takes the following fields:\n",
    "\n",
    "        run          = run number\n",
    "        event        = absolute event_number\n",
    "        timestamp    = time stamp in ms\n",
    "        peak         = peak number (counts the number of S2 in the event)\n",
    "        s1_energy    = energy of S1 in PES\n",
    "        s2_energy    = energy of S2 in PES (corresponding to peak number)\n",
    "        s1_epeak     = energy of the S1 peak in PES (max of the energy for S1)\n",
    "        s2_epeak     = energy of the S2 peak in PES (max of the energy for S2)\n",
    "        s1_width     = width of S1 (in time units)\n",
    "        s2_width     = width of S2 (in time units)\n",
    "        n_s1_pmt     = number of S1 found in the PMTs that match the S1 found in the sum\n",
    "        n_sipm       = number of SiPM found in the event\n",
    "        x            = x coordinate (cartesian system)\n",
    "        y            = y coordinate (cartesian system)\n",
    "        z            = z coordinate (cartesian system)\n",
    "        r            = radial coordinate (cylindrical system)\n",
    "        phi          = azimuth coordinate (cylindrical system)"
   ]
  },
  {
   "cell_type": "code",
   "execution_count": null,
   "metadata": {
    "collapsed": false
   },
   "outputs": [],
   "source": [
    "import datetime\n",
    "print(datetime.datetime.now().strftime('%Y-%m-%d %H:%M:%S'))"
   ]
  },
  {
   "cell_type": "code",
   "execution_count": null,
   "metadata": {
    "collapsed": false
   },
   "outputs": [],
   "source": [
    "%matplotlib inline\n",
    "%load_ext autoreload\n",
    "%autoreload 2"
   ]
  },
  {
   "cell_type": "code",
   "execution_count": null,
   "metadata": {
    "collapsed": false
   },
   "outputs": [],
   "source": [
    "import sys\n",
    "import os\n",
    "import time\n",
    "import tables as tb\n",
    "import numpy as np\n",
    "import pandas as pd\n",
    "import operator\n",
    "import functools\n",
    "import copy\n",
    "import glob\n",
    "import math\n",
    "import textwrap\n",
    "import matplotlib.pyplot as plt\n",
    "from matplotlib.colors import LogNorm"
   ]
  },
  {
   "cell_type": "code",
   "execution_count": null,
   "metadata": {
    "collapsed": false
   },
   "outputs": [],
   "source": [
    "from   invisible_cities.core.system_of_units_c import units\n",
    "import invisible_cities.core.fit_functions as fitf"
   ]
  },
  {
   "cell_type": "code",
   "execution_count": null,
   "metadata": {
    "collapsed": false
   },
   "outputs": [],
   "source": [
    "import hst_functions as hst"
   ]
  },
  {
   "cell_type": "markdown",
   "metadata": {
    "collapsed": false
   },
   "source": [
    "### Useful functions"
   ]
  },
  {
   "cell_type": "code",
   "execution_count": null,
   "metadata": {
    "collapsed": false
   },
   "outputs": [],
   "source": [
    "plt.rcParams[\"figure.figsize\"]          = 6, 6\n",
    "plt.rcParams[\"font.size\"]               = 15\n",
    "plt.rcParams[\"figure.max_open_warning\"] = 100\n",
    "\n",
    "profOpt = \"--k\"\n",
    "fitOpt  = \"r\""
   ]
  },
  {
   "cell_type": "code",
   "execution_count": null,
   "metadata": {
    "collapsed": false
   },
   "outputs": [],
   "source": [
    "pi = np.pi"
   ]
  },
  {
   "cell_type": "markdown",
   "metadata": {
    "collapsed": false
   },
   "source": [
    "### run number"
   ]
  },
  {
   "cell_type": "code",
   "execution_count": null,
   "metadata": {
    "collapsed": false
   },
   "outputs": [],
   "source": [
    "run_number=3389"
   ]
  },
  {
   "cell_type": "markdown",
   "metadata": {
    "collapsed": false
   },
   "source": [
    "### Files"
   ]
  },
  {
   "cell_type": "code",
   "execution_count": null,
   "metadata": {
    "collapsed": false
   },
   "outputs": [],
   "source": [
    "input_file = os.path.join(os.environ['IC_DATA'],\n",
    "                        'LSC/pmaps/{}/kdst_{}_full.h5'.format(run_number, run_number))"
   ]
  },
  {
   "cell_type": "code",
   "execution_count": null,
   "metadata": {
    "collapsed": true
   },
   "outputs": [],
   "source": [
    "input_file = os.path.expandvars(\"$IC_DATA/kdst_3389_full.h5\")"
   ]
  },
  {
   "cell_type": "code",
   "execution_count": null,
   "metadata": {
    "collapsed": false
   },
   "outputs": [],
   "source": [
    "input_file"
   ]
  },
  {
   "cell_type": "markdown",
   "metadata": {
    "collapsed": false
   },
   "source": [
    "### data selection"
   ]
  },
  {
   "cell_type": "markdown",
   "metadata": {
    "collapsed": false
   },
   "source": [
    "{'n_tot': 489000, 's1_not_1': 178624, 's1_eq_1': 310284, 's2_eq_s2_mult': 309200, 'not_si': 3030, 's2_not_eq_s2_mult': 1084, 'not_s1': 92})"
   ]
  },
  {
   "cell_type": "markdown",
   "metadata": {
    "collapsed": false
   },
   "source": [
    "### Functions"
   ]
  },
  {
   "cell_type": "code",
   "execution_count": null,
   "metadata": {
    "collapsed": false
   },
   "outputs": [],
   "source": [
    "def read_kdst(kdst_file_name):\n",
    "    \"\"\"Return the kdst as PD DataFrames.\"\"\"\n",
    "    with tb.open_file(kdst_file_name, 'r') as h5f:\n",
    "        t   = h5f.root.KrEvent.KrEvent\n",
    "        \n",
    "        return (pd.DataFrame.from_records(t.read()))"
   ]
  },
  {
   "cell_type": "code",
   "execution_count": null,
   "metadata": {
    "collapsed": false
   },
   "outputs": [],
   "source": [
    "def trigger_rate(timestamp, event):\n",
    "    times = timestamp * 1e-3\n",
    "    t0 = np.min(times)\n",
    "    t1 = np.max(times)\n",
    "    e0 = np.min(event)\n",
    "    e1 = np.max(event) \n",
    "    print(\"First event = {} t = {} s\".format(e0,t0))\n",
    "    print(\"Last event = {} t = {} s\".format(e1,t1))\n",
    "    print(\"Dt = {}  s\".format(t1-t0))\n",
    "    print(\"Trigger rate: {} evts/s\".format((e1-e0)/(t1-t0)))"
   ]
  },
  {
   "cell_type": "markdown",
   "metadata": {
    "collapsed": false
   },
   "source": [
    "### Read DST"
   ]
  },
  {
   "cell_type": "code",
   "execution_count": null,
   "metadata": {
    "collapsed": false
   },
   "outputs": [],
   "source": [
    "kdst = read_kdst(input_file)"
   ]
  },
  {
   "cell_type": "code",
   "execution_count": null,
   "metadata": {
    "collapsed": false,
    "scrolled": true
   },
   "outputs": [],
   "source": [
    "kdst.head()"
   ]
  },
  {
   "cell_type": "code",
   "execution_count": null,
   "metadata": {
    "collapsed": false
   },
   "outputs": [],
   "source": [
    "trigger_rate(kdst.timestamp.values, kdst.event.values)"
   ]
  },
  {
   "cell_type": "code",
   "execution_count": null,
   "metadata": {
    "collapsed": false
   },
   "outputs": [],
   "source": [
    "def histo2d(x,y, xrange, yrange, xlabel, ylabel, nbin=(50, 50), log=False):\n",
    "    if log:\n",
    "        hst.hist2d(x, y, nbin, range=(xrange, yrange), norm=LogNorm())\n",
    "    else:\n",
    "        hst.hist2d(x, y, nbin, range=(xrange, yrange))\n",
    "    hst.labels(xlabel, ylabel)"
   ]
  },
  {
   "cell_type": "code",
   "execution_count": null,
   "metadata": {
    "collapsed": false
   },
   "outputs": [],
   "source": [
    "def histo_event_rate(timestamp, event):\n",
    "    \"\"\"Compute event rate\"\"\"\n",
    "    times = timestamp * 1e-3\n",
    "    T    = times \n",
    "    t0 = np.min(times)\n",
    "    t1 = np.max(times)\n",
    "    e0 = np.min(event)\n",
    "    e1 = np.max(event) \n",
    "    dt = (e1 - e0)/(t1-t0)\n",
    "    r = (T - t0)\n",
    "    hst.hist(r,100)\n",
    "    hst.labels(\"Time (sec)\", \"Event rate (({} sec)$^{{-1}}$)\".format(dt))\n",
    "    #save(\"EventRate\")\n",
    "\n",
    "    "
   ]
  },
  {
   "cell_type": "code",
   "execution_count": null,
   "metadata": {
    "collapsed": false
   },
   "outputs": [],
   "source": [
    "histo_event_rate(kdst.timestamp.values, kdst.event.values)"
   ]
  },
  {
   "cell_type": "markdown",
   "metadata": {
    "collapsed": false
   },
   "source": [
    "### S1 histos"
   ]
  },
  {
   "cell_type": "code",
   "execution_count": null,
   "metadata": {
    "collapsed": false
   },
   "outputs": [],
   "source": [
    "hst.hist(kdst.s1_energy, 100, (0, 50))\n",
    "hst.labels(\"S1 energy in pes\", \"# of events\")"
   ]
  },
  {
   "cell_type": "code",
   "execution_count": null,
   "metadata": {
    "collapsed": false
   },
   "outputs": [],
   "source": [
    "hst.hist(kdst.s1_epeak, 100, (0, 10))\n",
    "hst.labels(\"S1 epeak in pes\", \"# of events\")"
   ]
  },
  {
   "cell_type": "code",
   "execution_count": null,
   "metadata": {
    "collapsed": false
   },
   "outputs": [],
   "source": [
    "hst.hist(kdst.s1_tpeak.values/units.mus, 100, (0, 650))\n",
    "hst.labels(\"S1 time in $\\mu$s\", \"# of events\")"
   ]
  },
  {
   "cell_type": "code",
   "execution_count": null,
   "metadata": {
    "collapsed": false
   },
   "outputs": [],
   "source": [
    "hst.hist(kdst.s1_width.values/units.ns, 100, (0, 500))\n",
    "hst.labels(\"S1 width in ns\",\"# of events\")"
   ]
  },
  {
   "cell_type": "markdown",
   "metadata": {
    "collapsed": false
   },
   "source": [
    "### S2 histos"
   ]
  },
  {
   "cell_type": "code",
   "execution_count": null,
   "metadata": {
    "collapsed": false
   },
   "outputs": [],
   "source": [
    "hst.hist(kdst.s2_energy, 100, (0, 10000))\n",
    "hst.labels(\"S2 energy in pes\", \"# of events\")"
   ]
  },
  {
   "cell_type": "code",
   "execution_count": null,
   "metadata": {
    "collapsed": false
   },
   "outputs": [],
   "source": [
    "hst.hist(kdst.s2_epeak, 100, (500, 5000))\n",
    "hst.labels(\"S2 peak in pes\", \"# of events\")"
   ]
  },
  {
   "cell_type": "code",
   "execution_count": null,
   "metadata": {
    "collapsed": false
   },
   "outputs": [],
   "source": [
    "hst.hist(kdst.s2_tpeak.values/units.mus, 20, (600, 700))\n",
    "hst.labels(\"S2 time in $\\mu$s\", \"# of events\")"
   ]
  },
  {
   "cell_type": "code",
   "execution_count": null,
   "metadata": {
    "collapsed": false
   },
   "outputs": [],
   "source": [
    "hst.hist(kdst.s2_width.values/units.mus, 100, (0, 20))\n",
    "hst.labels(\"S1 width in $\\mu$s\",\"# of events\")"
   ]
  },
  {
   "cell_type": "markdown",
   "metadata": {
    "collapsed": false
   },
   "source": [
    "### event histos"
   ]
  },
  {
   "cell_type": "code",
   "execution_count": null,
   "metadata": {
    "collapsed": false
   },
   "outputs": [],
   "source": [
    "def drift_time(ts1, ts2):\n",
    "    return ts2 - ts1"
   ]
  },
  {
   "cell_type": "code",
   "execution_count": null,
   "metadata": {
    "collapsed": false
   },
   "outputs": [],
   "source": [
    "dt = drift_time(kdst.s1_tpeak.values/units.mus, kdst.s2_tpeak.values/units.mus)"
   ]
  },
  {
   "cell_type": "code",
   "execution_count": null,
   "metadata": {
    "collapsed": false
   },
   "outputs": [],
   "source": [
    "def histo_drift_time(ts1, ts2):\n",
    "    dt = drift_time(ts1, ts2)\n",
    "    hst.hist(dt, 100, (0, 600))\n",
    "    hst.labels(\"drift time in $\\mu$s\", \"# of events\")"
   ]
  },
  {
   "cell_type": "code",
   "execution_count": null,
   "metadata": {
    "collapsed": false
   },
   "outputs": [],
   "source": [
    "histo_drift_time(kdst.s1_tpeak.values/units.mus, kdst.s2_tpeak.values/units.mus)"
   ]
  },
  {
   "cell_type": "code",
   "execution_count": null,
   "metadata": {
    "collapsed": false
   },
   "outputs": [],
   "source": [
    "hst.hist(kdst.z/units.mm, 100, (0, 600))\n",
    "hst.labels(\"z mm\", \"# of events\")"
   ]
  },
  {
   "cell_type": "code",
   "execution_count": null,
   "metadata": {
    "collapsed": false
   },
   "outputs": [],
   "source": [
    "hst.hist(kdst.n_sipm, 20, (0, 10))\n",
    "hst.labels(\"# sipms with signal\", \"# of events\")"
   ]
  },
  {
   "cell_type": "code",
   "execution_count": null,
   "metadata": {
    "collapsed": false
   },
   "outputs": [],
   "source": [
    "hst.hist(kdst.Q_tp, 100, (0, 500))\n",
    "hst.labels(\"# charge in tracking plane\", \"# of events\")"
   ]
  },
  {
   "cell_type": "code",
   "execution_count": null,
   "metadata": {
    "collapsed": false
   },
   "outputs": [],
   "source": [
    "hst.hist(kdst.x, 100, (-220, 220))\n",
    "hst.labels(\"x (mm)\", \"# of events\")"
   ]
  },
  {
   "cell_type": "code",
   "execution_count": null,
   "metadata": {
    "collapsed": false
   },
   "outputs": [],
   "source": [
    "hst.hist(kdst.y, 100, (-220, 220))\n",
    "hst.labels(\"y (mm)\", \"# of events\")"
   ]
  },
  {
   "cell_type": "code",
   "execution_count": null,
   "metadata": {
    "collapsed": false
   },
   "outputs": [],
   "source": [
    "hst.hist(kdst.r, 50, (0, 220))\n",
    "hst.labels(\" r (mm)\", \"# of events\")"
   ]
  },
  {
   "cell_type": "code",
   "execution_count": null,
   "metadata": {
    "collapsed": false
   },
   "outputs": [],
   "source": [
    "hst.hist(kdst.phi, 50, (-pi, pi))\n",
    "hst.labels(\" phi (rad)\", \"# of events\")"
   ]
  },
  {
   "cell_type": "code",
   "execution_count": null,
   "metadata": {
    "collapsed": false
   },
   "outputs": [],
   "source": [
    "zrange = (0, 200)\n",
    "erange = (4e3, 9e3)\n",
    "histo2d(kdst.z, kdst.s2_energy, zrange, erange,'z (mm)','S2 energy (pes)')"
   ]
  },
  {
   "cell_type": "code",
   "execution_count": null,
   "metadata": {
    "collapsed": false
   },
   "outputs": [],
   "source": [
    "histo2d(dt, kdst.s2_energy, (0, 200), (4e3, 10e3),\"dt ($\\mu$s)\",\"S2 energy PES\")"
   ]
  },
  {
   "cell_type": "code",
   "execution_count": null,
   "metadata": {
    "collapsed": false
   },
   "outputs": [],
   "source": [
    "histo2d(kdst.x, kdst.y, (-215,215), (-215,215), 'x (mm)', 'y (mm)', log=False)"
   ]
  },
  {
   "cell_type": "markdown",
   "metadata": {
    "collapsed": false
   },
   "source": [
    "### Fiducial cut at R < 100, z < 220 (mm)"
   ]
  },
  {
   "cell_type": "code",
   "execution_count": null,
   "metadata": {
    "collapsed": false
   },
   "outputs": [],
   "source": [
    "rfid   = 100\n",
    "zfid   = 200\n",
    "xrange = (-rfid, rfid)\n",
    "yrange = (-rfid, rfid)\n",
    "zrange = (    0, zfid)\n",
    "rrange = (    0, rfid)\n",
    "prange = (  -pi,   pi)"
   ]
  },
  {
   "cell_type": "code",
   "execution_count": null,
   "metadata": {
    "collapsed": false
   },
   "outputs": [],
   "source": [
    "def fid_cut(kdst, r_cut=rrange[1], z_cut=zrange[1]):\n",
    "    kr = kdst.loc[kdst['r'] <= r_cut]\n",
    "    kz = kr.loc[kdst['z'] <= z_cut]\n",
    "    \n",
    "    return kz"
   ]
  },
  {
   "cell_type": "code",
   "execution_count": null,
   "metadata": {
    "collapsed": false
   },
   "outputs": [],
   "source": [
    "kfid = fid_cut(kdst, r_cut=rfid, z_cut=zfid)"
   ]
  },
  {
   "cell_type": "code",
   "execution_count": null,
   "metadata": {
    "collapsed": false
   },
   "outputs": [],
   "source": [
    "kfid.head()"
   ]
  },
  {
   "cell_type": "code",
   "execution_count": null,
   "metadata": {
    "collapsed": false
   },
   "outputs": [],
   "source": [
    "histo2d(kfid.x, kfid.y, (-215,215), (-215,215), 'x (mm)', 'y (mm)', log=False)"
   ]
  },
  {
   "cell_type": "code",
   "execution_count": null,
   "metadata": {
    "collapsed": false
   },
   "outputs": [],
   "source": [
    "hst.hist(kfid.z/units.mm, 100, (0, 600))\n",
    "hst.labels(\"z mm\", \"# of events\")"
   ]
  },
  {
   "cell_type": "markdown",
   "metadata": {
    "collapsed": false
   },
   "source": [
    "### Fit to S2 vs Z distribution"
   ]
  },
  {
   "cell_type": "code",
   "execution_count": null,
   "metadata": {
    "collapsed": false
   },
   "outputs": [],
   "source": [
    "def fit_xy_profile_to_exp(x, y, xrange, yrange, fit_bins, xfit, xlabel, ylabel, fit_par):\n",
    "    \"\"\"Fit the xy distribution to an expo and return correction function\"\"\"\n",
    "    \n",
    "    histo2d(x, y, xrange, yrange, xlabel, ylabel)\n",
    "    x, y, _ = fitf.profileX(x, y, fit_bins, xrange, yrange)\n",
    "    plt.plot(x, y, profOpt)\n",
    "\n",
    "    sel  = fitf.in_range(x, xfit[0], xfit[1])\n",
    "    x, y = x[sel], y[sel]\n",
    "\n",
    "    f = fitf.fit(fitf.expo, x, y, fit_par)\n",
    "    plt.plot(x, f.fn(x), fitOpt)\n",
    "    print(f.values)\n",
    "\n",
    "    zfun  = f.fn\n",
    "    zmin  = np.min(x)\n",
    "    zcorr = lambda z: zfun(zmin)/zfun(z)\n",
    "    return zcorr\n",
    "    "
   ]
  },
  {
   "cell_type": "code",
   "execution_count": null,
   "metadata": {
    "collapsed": false
   },
   "outputs": [],
   "source": [
    "zcorr = fit_xy_profile_to_exp(kfid.z, kfid.s2_energy, \n",
    "                              xrange   = zrange, \n",
    "                              yrange   = (4e3, 9.0e3), \n",
    "                              fit_bins = 50, \n",
    "                              xfit     = (50, 130), \n",
    "                              xlabel   = 'z (mm)',\n",
    "                              ylabel   = 'S2 energy (pes)', \n",
    "                              fit_par  = (1e4, -200))"
   ]
  },
  {
   "cell_type": "code",
   "execution_count": null,
   "metadata": {
    "collapsed": false
   },
   "outputs": [],
   "source": [
    "z = np.arange(0, 200)\n",
    "plt.plot(z, zcorr(z))"
   ]
  },
  {
   "cell_type": "code",
   "execution_count": null,
   "metadata": {
    "collapsed": false
   },
   "outputs": [],
   "source": [
    "def energy_correct_by_attachment(z, e, zcorr, erange, fitrange, fit_par):\n",
    "    ecorr = e * zcorr(z)\n",
    "    y, x, _ = hst.hist(ecorr, 100, range=erange)\n",
    "    x       = x[:-1] + np.diff(x) * 0.5\n",
    "    sel     = fitf.in_range(x, fitrange[0], fitrange[1])\n",
    "    x, y    = x[sel], y[sel]\n",
    "    f       = fitf.fit(fitf.gauss, x, y, fit_par)\n",
    "    plt.plot(x, f.fn(x), fitOpt)\n",
    "    plt.text(erange[0], max(y)/2, hst.gausstext(f.values))\n",
    "\n",
    "    hst.labels(\"S2 energy (pes)\", \"Entries\")"
   ]
  },
  {
   "cell_type": "code",
   "execution_count": null,
   "metadata": {
    "collapsed": false
   },
   "outputs": [],
   "source": [
    "energy_correct_by_attachment(kfid.z, kfid.s2_energy, zcorr, \n",
    "                             erange   = ( 5e3, 11e3),\n",
    "                             fitrange = (7500, 9100),\n",
    "                             fit_par  = (1e3, 7e3, 200))"
   ]
  },
  {
   "cell_type": "code",
   "execution_count": null,
   "metadata": {
    "collapsed": false
   },
   "outputs": [],
   "source": [
    "def e_z_corr(E, Z, zcorr):\n",
    "    return E * zcorr(Z)\n",
    "    "
   ]
  },
  {
   "cell_type": "code",
   "execution_count": null,
   "metadata": {
    "collapsed": false
   },
   "outputs": [],
   "source": [
    "Ez = e_z_corr(kfid.s2_energy, kfid.z, zcorr)"
   ]
  },
  {
   "cell_type": "code",
   "execution_count": null,
   "metadata": {
    "collapsed": false
   },
   "outputs": [],
   "source": [
    "zcorr2 = fit_xy_profile_to_exp(kfid.z, \n",
    "                               e_z_corr(kfid.s2_energy, kfid.z, zcorr), \n",
    "                               xrange   = (50, 150),\n",
    "                               yrange   = (4e3, 9.0e3), \n",
    "                               fit_bins = 50, \n",
    "                               xfit     = (70, 120),\n",
    "                               xlabel   = 'z (mm)',\n",
    "                               ylabel   = 'S2 z corr (pes)', \n",
    "                               fit_par  = (1e4, -200))"
   ]
  },
  {
   "cell_type": "code",
   "execution_count": null,
   "metadata": {
    "collapsed": false
   },
   "outputs": [],
   "source": [
    "z = np.arange(0, 200)\n",
    "plt.plot(z, zcorr2(z))"
   ]
  },
  {
   "cell_type": "code",
   "execution_count": null,
   "metadata": {
    "collapsed": false
   },
   "outputs": [],
   "source": [
    "energy_correct_by_attachment(kfid.z, \n",
    "                             Ez, \n",
    "                             zcorr2, \n",
    "                             erange   = ( 5e3, 11e3),\n",
    "                             fitrange = (7500, 9100),\n",
    "                             fit_par  = (1e3, 7e3, 200))"
   ]
  },
  {
   "cell_type": "markdown",
   "metadata": {
    "collapsed": false
   },
   "source": [
    "### Geometrical corrections"
   ]
  },
  {
   "cell_type": "markdown",
   "metadata": {
    "collapsed": false
   },
   "source": [
    "#### At least one SiPM with signal"
   ]
  },
  {
   "cell_type": "code",
   "execution_count": null,
   "metadata": {
    "collapsed": false
   },
   "outputs": [],
   "source": [
    "def nsipm_cut(kdst, n_cut=1):\n",
    "    return kdst.loc[kdst['n_sipm'] > n_cut]"
   ]
  },
  {
   "cell_type": "code",
   "execution_count": null,
   "metadata": {
    "collapsed": false
   },
   "outputs": [],
   "source": [
    "ksipm = nsipm_cut(kdst, n_cut=1)"
   ]
  },
  {
   "cell_type": "code",
   "execution_count": null,
   "metadata": {
    "collapsed": false
   },
   "outputs": [],
   "source": [
    "hst.hist(ksipm.Q_tp, 100, (0, 500))\n",
    "hst.labels(\"# charge in tracking plane\", \"# of events\")"
   ]
  },
  {
   "cell_type": "markdown",
   "metadata": {
    "collapsed": false
   },
   "source": [
    "#### Energy range"
   ]
  },
  {
   "cell_type": "code",
   "execution_count": null,
   "metadata": {
    "collapsed": false
   },
   "outputs": [],
   "source": [
    "Erange =  (1e3, 1e4)"
   ]
  },
  {
   "cell_type": "code",
   "execution_count": null,
   "metadata": {
    "collapsed": false
   },
   "outputs": [],
   "source": [
    "def energy_cut(kdst, Emin=4000, Emax=9000):\n",
    "    kmin = kdst.loc[kdst['s2_energy'] > Emin]\n",
    "    kmax = kmin.loc[kmin['s2_energy'] < Emax]\n",
    "    return kmax"
   ]
  },
  {
   "cell_type": "markdown",
   "metadata": {
    "collapsed": false
   },
   "source": [
    "### XY corrections"
   ]
  },
  {
   "cell_type": "code",
   "execution_count": null,
   "metadata": {
    "collapsed": false
   },
   "outputs": [],
   "source": [
    "kene = energy_cut(ksipm, Emin=Erange[0], Emax=Erange[1])"
   ]
  },
  {
   "cell_type": "code",
   "execution_count": null,
   "metadata": {
    "collapsed": true
   },
   "outputs": [],
   "source": [
    "kenefid = kene.loc[(kene.r < 180) & (kene.z < 200)]"
   ]
  },
  {
   "cell_type": "code",
   "execution_count": null,
   "metadata": {
    "collapsed": false
   },
   "outputs": [],
   "source": [
    "hst.hist2d(kenefid.r,\n",
    "           kenefid.s2_energy * zcorr(kenefid.z),\n",
    "           (50, 50), range=((0, 215),Erange))\n",
    "plt.colorbar().set_label(\"E (pes)\")\n",
    "hst.labels(\"x (mm)\", \"y (mm)\")"
   ]
  },
  {
   "cell_type": "code",
   "execution_count": null,
   "metadata": {
    "collapsed": false
   },
   "outputs": [],
   "source": [
    "pf, _, cb = hst.profile_and_scatter(kenefid.x.values, kenefid.y.values,\n",
    "                                    kenefid.s2_energy.values * zcorr(kenefid.z.values),\n",
    "                                    (50, 50), xrange=(-215, 215), yrange=(-215, 215))\n",
    "cb.set_label(\"E (pes)\")\n",
    "hst.labels(\"x (mm)\", \"y (mm)\")"
   ]
  },
  {
   "cell_type": "code",
   "execution_count": null,
   "metadata": {
    "collapsed": false
   },
   "outputs": [],
   "source": [
    "def get_xycorr(xs, ys, es, eref=None):\n",
    "    if eref is None:\n",
    "        eref = es[es.shape[0]//2, es.shape[1]//2]\n",
    "    xs   = xs.reshape(xs.size, 1)\n",
    "    ys   = ys.reshape(ys.size, 1)\n",
    "    print(eref)\n",
    "    def xycorr(x, y):\n",
    "        x_closest = np.apply_along_axis(np.argmin, 0, abs(x-xs))\n",
    "        y_closest = np.apply_along_axis(np.argmin, 0, abs(y-ys))\n",
    "        e         = es[x_closest, y_closest]\n",
    "        e[e<1e3]  = eref\n",
    "        return eref/ e\n",
    "    return xycorr\n",
    "xycorr = get_xycorr(*pf[:-1])"
   ]
  },
  {
   "cell_type": "markdown",
   "metadata": {
    "collapsed": false
   },
   "source": [
    "### xyz corrections"
   ]
  },
  {
   "cell_type": "code",
   "execution_count": null,
   "metadata": {
    "collapsed": false
   },
   "outputs": [],
   "source": [
    "def e_xy_corr(E, X, Y):\n",
    "    return E * xycorr(X, Y)\n",
    "\n",
    "def e_xyz_corr(E, X, Y, Z):\n",
    "    return E * zcorr(Z) * xycorr(X, Y)"
   ]
  },
  {
   "cell_type": "code",
   "execution_count": null,
   "metadata": {
    "collapsed": false
   },
   "outputs": [],
   "source": [
    "E  = e_xyz_corr(kenefid.s2_energy.values, kenefid.x.values, kenefid.y.values, kenefid.z.values)\n",
    "y, x, _ = \\\n",
    "hst.hist(E, 100, Erange)\n",
    "\n",
    "x = x[:-1] + np.diff(x) * 0.5\n",
    "f = fitf.fit(fitf.gauss, x, y, (1e5, 1e4, 1e2))\n",
    "plt.plot(x, f.fn(x), fitOpt)\n",
    "plt.text(Erange[0], max(y)/2, hst.gausstext(f.values))\n",
    "\n",
    "hst.labels(\"E (pes)\", \"Entries\")"
   ]
  },
  {
   "cell_type": "code",
   "execution_count": null,
   "metadata": {
    "collapsed": false
   },
   "outputs": [],
   "source": [
    "pf, _, cb = hst.profile_and_scatter(kenefid.x.values, kenefid.y.values, E,\n",
    "                                    (50, 50), xrange=(-215, 215), yrange=(-215, 215))\n",
    "cb.set_label(\"E (pes)\")\n",
    "hst.labels(\"x (mm)\", \"y (mm)\")\n",
    "#save(\"EvsXY\")"
   ]
  }
 ],
 "metadata": {
  "kernelspec": {
   "display_name": "Python 3",
   "language": "python",
   "name": "python3"
  },
  "language_info": {
   "codemirror_mode": {
    "name": "ipython",
    "version": 3
   },
   "file_extension": ".py",
   "mimetype": "text/x-python",
   "name": "python",
   "nbconvert_exporter": "python",
   "pygments_lexer": "ipython3",
   "version": "3.5.2"
  }
 },
 "nbformat": 4,
 "nbformat_minor": 2
}
