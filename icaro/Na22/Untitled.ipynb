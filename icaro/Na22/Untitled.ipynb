{
 "cells": [
  {
   "cell_type": "code",
   "execution_count": 1,
   "metadata": {
    "collapsed": true
   },
   "outputs": [],
   "source": [
    "outputfolder  = \"plots/\"\n",
    "save_plots    = False\n",
    "inputfilename = \"/Users/Gonzalo/github/NEXTdata/Na22/run3614.dst\""
   ]
  },
  {
   "cell_type": "code",
   "execution_count": 2,
   "metadata": {
    "collapsed": false
   },
   "outputs": [
    {
     "name": "stdout",
     "output_type": "stream",
     "text": [
      "Running on  Fri Apr 21 11:15:20 2017\n"
     ]
    }
   ],
   "source": [
    "from __future__ import print_function, division\n",
    "\n",
    "import os\n",
    "import functools\n",
    "import textwrap\n",
    "import time\n",
    "import glob\n",
    "print(\"Running on \", time.asctime())\n",
    "\n",
    "import numpy             as np\n",
    "import matplotlib.pyplot as plt\n",
    "\n",
    "import invisible_cities.core.core_functions as coref\n",
    "import invisible_cities.core.fit_functions  as fitf\n",
    "import invisible_cities.reco.dst_functions  as dstf\n",
    "\n",
    "pi = np.pi"
   ]
  },
  {
   "cell_type": "code",
   "execution_count": 3,
   "metadata": {
    "collapsed": true
   },
   "outputs": [],
   "source": [
    "%matplotlib inline\n",
    "\n",
    "plt.rcParams[\"figure.figsize\"]          = 8, 6\n",
    "plt.rcParams[\"font.size\"]               = 15\n",
    "plt.rcParams[\"figure.max_open_warning\"] = 100\n",
    "\n",
    "profOpt = \"--k\"\n",
    "fitOpt  = \"r\"\n",
    "XR1Opt  = \"k\"\n",
    "XR2Opt  = \"c\"\n",
    "\n",
    "if not os.path.exists(outputfolder):\n",
    "    os.mkdir(outputfolder)"
   ]
  },
  {
   "cell_type": "code",
   "execution_count": 4,
   "metadata": {
    "collapsed": true
   },
   "outputs": [],
   "source": [
    "def labels(xlabel, ylabel):\n",
    "    \"\"\"\n",
    "    Set x and y labels.\n",
    "    \"\"\"\n",
    "    plt.xlabel(xlabel)\n",
    "    plt.ylabel(ylabel)\n",
    "\n",
    "\n",
    "def hist(*args, **kwargs):\n",
    "    \"\"\"\n",
    "    Create a figure and then the histogram\n",
    "    \"\"\"\n",
    "    plt.figure()\n",
    "    return plt.hist(*args, **kwargs)\n",
    "\n",
    "\n",
    "def doublehist(data1, data2, lbls, *args, **kwargs):\n",
    "    \"\"\"\n",
    "    Create a figure and then the histogram\n",
    "    \"\"\"\n",
    "    plt.figure()\n",
    "    h1 = plt.hist(data1, *args, label=lbls[0], alpha=0.5, normed=True, **kwargs)\n",
    "    h2 = plt.hist(data2, *args, label=lbls[1], alpha=0.5, normed=True, **kwargs)\n",
    "    return h1, h2, plt.legend()\n",
    "\n",
    "    \n",
    "def hist2d(*args, **kwargs):\n",
    "    \"\"\"\n",
    "    Create a figure and then the histogram\n",
    "    \"\"\"\n",
    "    plt.figure()\n",
    "    return plt.hist2d(*args, **kwargs)\n",
    "\n",
    "    \n",
    "def pdf(data, *args, **kwargs):\n",
    "    \"\"\"\n",
    "    Create a normalized histogram with appropiate range.\n",
    "    \"\"\"\n",
    "    data = np.array(data)\n",
    "    h = hist(data, *args, **kwargs, weights=np.ones_like(data)/len(data))\n",
    "    plt.yscale(\"log\")\n",
    "    plt.ylim(1e-4, 1.)\n",
    "    return h\n",
    "    \n",
    "def scatter(*args, **kwargs):\n",
    "    \"\"\"\n",
    "    Create a figure and then a scatter plot\n",
    "    \"\"\"\n",
    "    plt.figure()\n",
    "    return plt.scatter(*args, **kwargs)\n",
    "\n",
    "\n",
    "def profile_and_scatter(x, y, z, nbin, *args, **kwargs):\n",
    "    \"\"\"\n",
    "    Create a figure and then a scatter plot\n",
    "    \"\"\"\n",
    "    plt.figure()\n",
    "    x, y, z, ze = fitf.profileXY(x, y, z, *nbin, *args, **kwargs)\n",
    "    x_ = np.repeat(x, x.size)\n",
    "    y_ = np.tile  (y, y.size)\n",
    "    z_ = z.flatten()\n",
    "    return (x, y, z, ze), plt.scatter(x_, y_, c=z_, marker=\"s\"), plt.colorbar()\n",
    "\n",
    "\n",
    "def doublescatter(x1, y1, x2, y2, lbls, *args, **kwargs):\n",
    "    \"\"\"\n",
    "    Create a figure and then a scatter plot\n",
    "    \"\"\"\n",
    "    plt.figure()\n",
    "    sc1 = plt.scatter(x1, y1, *args, label=lbls[0], **kwargs)\n",
    "    sc2 = plt.scatter(x2, y2, *args, label=lbls[1], **kwargs)\n",
    "    return sc1, sc2, plt.legend()\n",
    "\n",
    "def covariance(x, y):\n",
    "    cov = np.cov(x, y)\n",
    "    l, v = np.linalg.eig(cov)\n",
    "    lx, ly = l**0.5\n",
    "    vx, vy = v.T\n",
    "    x0, y0 = np.mean(x), np.mean(y)\n",
    "    x1     = lx * vx[0]\n",
    "    y1     = lx * vx[1]\n",
    "    plt.arrow(x0, y0, x1, y1, head_width=0.1*ly, head_length=0.1*lx, fc='r', ec='r')\n",
    "    x1     = ly * vy[0]\n",
    "    y1     = ly * vy[1]\n",
    "    plt.arrow(x0, y0, x1, y1, head_width=0.1*lx, head_length=0.1*ly, fc='r', ec='r')\n",
    "    return l, v\n",
    "\n",
    "def reso(values, ene=29.6):\n",
    "    _, mu, sigma = values\n",
    "    r = 235. * sigma/mu\n",
    "    return r, r * (ene/2458)**0.5\n",
    "\n",
    "def gausstext(values, ene=29.6):\n",
    "    return textwrap.dedent(\"\"\"\n",
    "        $\\mu$ = {:.1f}\n",
    "        $\\sigma$ = {:.2f}\n",
    "        R = {:.3}%\n",
    "        Rbb = {:.3}%\"\"\".format(*values[1:], *reso(values, ene)))\n",
    "\n",
    "def save_to_folder(save_plots, outputfolder, name):\n",
    "    \"\"\"\n",
    "    Set title and save plot in folder.\n",
    "    \"\"\"\n",
    "    plt.title(name)\n",
    "    if save_plots:\n",
    "        plt.savefig(\"{}/{}.png\".format(outputfolder, name), dpi=100)\n",
    "\n",
    "save = functools.partial(save_to_folder, save_plots, outputfolder)"
   ]
  },
  {
   "cell_type": "code",
   "execution_count": 5,
   "metadata": {
    "collapsed": false
   },
   "outputs": [
    {
     "name": "stdout",
     "output_type": "stream",
     "text": [
      "ifile: /Users/Gonzalo/github/NEXTdata/Na22/run3614.dst\n"
     ]
    }
   ],
   "source": [
    "ifile = os.path.expandvars(inputfilename)\n",
    "print(\"ifile:\", ifile)"
   ]
  },
  {
   "cell_type": "code",
   "execution_count": 6,
   "metadata": {
    "collapsed": false
   },
   "outputs": [
    {
     "data": {
      "text/html": [
       "<div>\n",
       "<table border=\"1\" class=\"dataframe\">\n",
       "  <thead>\n",
       "    <tr style=\"text-align: right;\">\n",
       "      <th></th>\n",
       "      <th>event</th>\n",
       "      <th>time</th>\n",
       "      <th>peak</th>\n",
       "      <th>nS2</th>\n",
       "      <th>S1w</th>\n",
       "      <th>S1h</th>\n",
       "      <th>S1e</th>\n",
       "      <th>S1t</th>\n",
       "      <th>S2w</th>\n",
       "      <th>S2h</th>\n",
       "      <th>...</th>\n",
       "      <th>S2t</th>\n",
       "      <th>Nsipm</th>\n",
       "      <th>DT</th>\n",
       "      <th>Z</th>\n",
       "      <th>X</th>\n",
       "      <th>Y</th>\n",
       "      <th>R</th>\n",
       "      <th>Phi</th>\n",
       "      <th>Xrms</th>\n",
       "      <th>Yrms</th>\n",
       "    </tr>\n",
       "  </thead>\n",
       "  <tbody>\n",
       "    <tr>\n",
       "      <th>0</th>\n",
       "      <td>1</td>\n",
       "      <td>1.491674e+09</td>\n",
       "      <td>0</td>\n",
       "      <td>1</td>\n",
       "      <td>275.0</td>\n",
       "      <td>49.620018</td>\n",
       "      <td>287.162550</td>\n",
       "      <td>537150.0</td>\n",
       "      <td>40.100437</td>\n",
       "      <td>13367.398438</td>\n",
       "      <td>...</td>\n",
       "      <td>657112.5</td>\n",
       "      <td>54</td>\n",
       "      <td>119.9625</td>\n",
       "      <td>119.9625</td>\n",
       "      <td>97.811136</td>\n",
       "      <td>40.847802</td>\n",
       "      <td>105.997930</td>\n",
       "      <td>0.395602</td>\n",
       "      <td>25.243436</td>\n",
       "      <td>11.175782</td>\n",
       "    </tr>\n",
       "    <tr>\n",
       "      <th>1</th>\n",
       "      <td>2</td>\n",
       "      <td>1.491674e+09</td>\n",
       "      <td>0</td>\n",
       "      <td>1</td>\n",
       "      <td>200.0</td>\n",
       "      <td>24.205078</td>\n",
       "      <td>129.749825</td>\n",
       "      <td>557000.0</td>\n",
       "      <td>38.343750</td>\n",
       "      <td>10287.787109</td>\n",
       "      <td>...</td>\n",
       "      <td>653687.5</td>\n",
       "      <td>25</td>\n",
       "      <td>96.6875</td>\n",
       "      <td>96.6875</td>\n",
       "      <td>136.927309</td>\n",
       "      <td>5.200002</td>\n",
       "      <td>137.026012</td>\n",
       "      <td>0.037958</td>\n",
       "      <td>9.209800</td>\n",
       "      <td>10.444016</td>\n",
       "    </tr>\n",
       "    <tr>\n",
       "      <th>2</th>\n",
       "      <td>4</td>\n",
       "      <td>1.491674e+09</td>\n",
       "      <td>0</td>\n",
       "      <td>1</td>\n",
       "      <td>225.0</td>\n",
       "      <td>30.098822</td>\n",
       "      <td>160.997304</td>\n",
       "      <td>470600.0</td>\n",
       "      <td>23.514125</td>\n",
       "      <td>8284.446289</td>\n",
       "      <td>...</td>\n",
       "      <td>664512.5</td>\n",
       "      <td>19</td>\n",
       "      <td>193.9125</td>\n",
       "      <td>193.9125</td>\n",
       "      <td>-55.612291</td>\n",
       "      <td>-10.052078</td>\n",
       "      <td>56.513460</td>\n",
       "      <td>-2.962771</td>\n",
       "      <td>10.149977</td>\n",
       "      <td>8.824298</td>\n",
       "    </tr>\n",
       "    <tr>\n",
       "      <th>3</th>\n",
       "      <td>5</td>\n",
       "      <td>1.491674e+09</td>\n",
       "      <td>0</td>\n",
       "      <td>2</td>\n",
       "      <td>225.0</td>\n",
       "      <td>54.494896</td>\n",
       "      <td>286.139376</td>\n",
       "      <td>615225.0</td>\n",
       "      <td>45.152500</td>\n",
       "      <td>10520.092773</td>\n",
       "      <td>...</td>\n",
       "      <td>672387.5</td>\n",
       "      <td>54</td>\n",
       "      <td>57.1625</td>\n",
       "      <td>57.1625</td>\n",
       "      <td>-21.676225</td>\n",
       "      <td>165.445635</td>\n",
       "      <td>166.859572</td>\n",
       "      <td>1.701072</td>\n",
       "      <td>15.885687</td>\n",
       "      <td>18.841620</td>\n",
       "    </tr>\n",
       "    <tr>\n",
       "      <th>4</th>\n",
       "      <td>5</td>\n",
       "      <td>1.491674e+09</td>\n",
       "      <td>1</td>\n",
       "      <td>2</td>\n",
       "      <td>225.0</td>\n",
       "      <td>54.494896</td>\n",
       "      <td>286.139376</td>\n",
       "      <td>615225.0</td>\n",
       "      <td>29.291875</td>\n",
       "      <td>6783.470215</td>\n",
       "      <td>...</td>\n",
       "      <td>918112.5</td>\n",
       "      <td>26</td>\n",
       "      <td>302.8875</td>\n",
       "      <td>302.8875</td>\n",
       "      <td>-168.863477</td>\n",
       "      <td>45.446878</td>\n",
       "      <td>174.872218</td>\n",
       "      <td>2.878688</td>\n",
       "      <td>9.241491</td>\n",
       "      <td>15.903105</td>\n",
       "    </tr>\n",
       "  </tbody>\n",
       "</table>\n",
       "<p>5 rows × 22 columns</p>\n",
       "</div>"
      ],
      "text/plain": [
       "   event          time  peak  nS2    S1w        S1h         S1e       S1t  \\\n",
       "0      1  1.491674e+09     0    1  275.0  49.620018  287.162550  537150.0   \n",
       "1      2  1.491674e+09     0    1  200.0  24.205078  129.749825  557000.0   \n",
       "2      4  1.491674e+09     0    1  225.0  30.098822  160.997304  470600.0   \n",
       "3      5  1.491674e+09     0    2  225.0  54.494896  286.139376  615225.0   \n",
       "4      5  1.491674e+09     1    2  225.0  54.494896  286.139376  615225.0   \n",
       "\n",
       "         S2w           S2h    ...           S2t  Nsipm        DT         Z  \\\n",
       "0  40.100437  13367.398438    ...      657112.5     54  119.9625  119.9625   \n",
       "1  38.343750  10287.787109    ...      653687.5     25   96.6875   96.6875   \n",
       "2  23.514125   8284.446289    ...      664512.5     19  193.9125  193.9125   \n",
       "3  45.152500  10520.092773    ...      672387.5     54   57.1625   57.1625   \n",
       "4  29.291875   6783.470215    ...      918112.5     26  302.8875  302.8875   \n",
       "\n",
       "            X           Y           R       Phi       Xrms       Yrms  \n",
       "0   97.811136   40.847802  105.997930  0.395602  25.243436  11.175782  \n",
       "1  136.927309    5.200002  137.026012  0.037958   9.209800  10.444016  \n",
       "2  -55.612291  -10.052078   56.513460 -2.962771  10.149977   8.824298  \n",
       "3  -21.676225  165.445635  166.859572  1.701072  15.885687  18.841620  \n",
       "4 -168.863477   45.446878  174.872218  2.878688   9.241491  15.903105  \n",
       "\n",
       "[5 rows x 22 columns]"
      ]
     },
     "execution_count": 6,
     "metadata": {},
     "output_type": "execute_result"
    }
   ],
   "source": [
    "full = dstf.load_dst(ifile, \"DST\", \"Events\")\n",
    "full.head()"
   ]
  },
  {
   "cell_type": "code",
   "execution_count": 19,
   "metadata": {
    "collapsed": false
   },
   "outputs": [
    {
     "data": {
      "text/plain": [
       "[<matplotlib.lines.Line2D at 0x119761ba8>]"
      ]
     },
     "execution_count": 19,
     "metadata": {},
     "output_type": "execute_result"
    },
    {
     "data": {
      "image/png": "[encoded data removed]",
      "text/plain": [
       "<matplotlib.figure.Figure at 0x11964d908>"
      ]
     },
     "metadata": {},
     "output_type": "display_data"
    }
   ],
   "source": [
    "data = np.random.poisson(2.1, size=100000)\n",
    "y, x, _ = plt.hist(data, np.arange(10)); x = x[:-1]# + np.diff(x)*0.5\n",
    "fun =  lambda x, a, l, k: a*l*np.exp(-l*x) * (l*x)**(k-1)/np.math.gamma(k)\n",
    "#plt.plot(x, fun(x, 2.1, 1), fitOpt)\n",
    "f = fitf.fit(fun, x, y, (1e4, 1, 2))\n",
    "plt.plot(x + np.diff(x)[0] * 0.5, f.fn(x), fitOpt)"
   ]
  },
  {
   "cell_type": "code",
   "execution_count": null,
   "metadata": {
    "collapsed": true
   },
   "outputs": [],
   "source": []
  }
 ],
 "metadata": {
  "kernelspec": {
   "display_name": "Python 3",
   "language": "python",
   "name": "python3"
  },
  "language_info": {
   "codemirror_mode": {
    "name": "ipython",
    "version": 3
   },
   "file_extension": ".py",
   "mimetype": "text/x-python",
   "name": "python",
   "nbconvert_exporter": "python",
   "pygments_lexer": "ipython3",
   "version": "3.5.2"
  }
 },
 "nbformat": 4,
 "nbformat_minor": 2
}
