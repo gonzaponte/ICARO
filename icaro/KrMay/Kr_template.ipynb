{
 "cells": [
  {
   "cell_type": "markdown",
   "metadata": {},
   "source": [
    "# Notebook configuration"
   ]
  },
  {
   "cell_type": "code",
   "execution_count": null,
   "metadata": {
    "collapsed": false
   },
   "outputs": [],
   "source": [
    "run_number    = XXXX\n",
    "save_plots    = False\n",
    "outputfolder  = \"plots/{}/\".format(run_number)\n",
    "corr_filename = \"run{}_corrections.h5\".format(run_number)\n",
    "inputfilename = \"/Users/Gonzalo/github/NEXTdata/Kr/dst_{}.root.h5\".format(run_number)\n",
    "\n",
    "Zrange        =    0, 600\n",
    "XYrange       = -198, 198\n",
    "Rrange        =    0, max(XYrange)\n",
    "Prange        = -3.2, 3.2  \n",
    "Erange_raw    =    0, 15e3\n",
    "Erange_zcorr  =  5e3, 15e3\n",
    "Erange_xycorr =  9e3, 14e3\n",
    "Qrange        =    0, 10e2\n",
    "Frange        =  0.8, 1.2\n",
    "Urange        = 1e-3, 2.5e-2\n",
    "\n",
    "S1Erange      =    0, 40\n",
    "S1Wrange      =    0, 400\n",
    "S1Hrange      =    0, 10\n",
    "S2Wrange      =    0, 50\n",
    "S2Hrange      =    0, 10e3\n",
    "NSirange      =    0, 30\n",
    "\n",
    "Zrange_LT     =   50, 350\n",
    "Zrange_XY     =    0, 600\n",
    "nX, nY, nR    =   50,  50, 50\n",
    "x0, y0, r0    =   40, -40, 15 # for lifetime scan\n",
    "\n",
    "LT_radial     = False\n",
    "split_sample  = True"
   ]
  },
  {
   "cell_type": "code",
   "execution_count": null,
   "metadata": {
    "collapsed": true
   },
   "outputs": [],
   "source": [
    "def poisson_sigma(x, default=3):\n",
    "    u = x**0.5\n",
    "    u[x==0] = default\n",
    "    return u"
   ]
  },
  {
   "cell_type": "markdown",
   "metadata": {},
   "source": [
    "# Kr analysis"
   ]
  },
  {
   "cell_type": "code",
   "execution_count": null,
   "metadata": {
    "collapsed": false
   },
   "outputs": [],
   "source": [
    "import os\n",
    "import functools\n",
    "import time\n",
    "print(\"Running on \", time.asctime())\n",
    "\n",
    "import numpy             as np\n",
    "import tables            as tb\n",
    "import matplotlib.pyplot as plt\n",
    "from   matplotlib.colors import LogNorm\n",
    "\n",
    "import invisible_cities.core.core_functions as coref\n",
    "import invisible_cities.core.fit_functions  as fitf\n",
    "import invisible_cities.reco.dst_functions  as dstf\n",
    "import invisible_cities.io  .kdst_io        as dstio\n",
    "import invisible_cities.reco.corrections    as corrf\n",
    "\n",
    "from icaro.core.hst_functions import hist\n",
    "from icaro.core.hst_functions import hist2d\n",
    "from icaro.core.hst_functions import pdf\n",
    "from icaro.core.hst_functions import labels\n",
    "from icaro.core.hst_functions import hist2d_profile\n",
    "from icaro.core.hst_functions import covariance\n",
    "from icaro.core.hst_functions import resolution\n",
    "from icaro.core.hst_functions import gausstext\n",
    "from icaro.core.hst_functions import shift_to_bin_centers\n",
    "from icaro.core.hst_functions import save_to_folder\n",
    "\n",
    "pi   = np.pi\n",
    "save = functools.partial(save_to_folder, outputfolder) if save_plots else lambda *x: None"
   ]
  },
  {
   "cell_type": "markdown",
   "metadata": {},
   "source": [
    "#### General plotting options"
   ]
  },
  {
   "cell_type": "code",
   "execution_count": null,
   "metadata": {
    "collapsed": false
   },
   "outputs": [],
   "source": [
    "%matplotlib inline\n",
    "\n",
    "np.warnings.filterwarnings('ignore')\n",
    "\n",
    "plt.rcParams[\"figure.figsize\"]          = 8, 6\n",
    "plt.rcParams[\"font.size\"]               = 15\n",
    "plt.rcParams[\"figure.max_open_warning\"] = 100\n",
    "\n",
    "profOpt = \"--k\"\n",
    "fitOpt  = \"r\"\n",
    "if not os.path.exists(outputfolder):\n",
    "    os.mkdir(outputfolder)"
   ]
  },
  {
   "cell_type": "markdown",
   "metadata": {},
   "source": [
    "# Read data"
   ]
  },
  {
   "cell_type": "code",
   "execution_count": null,
   "metadata": {
    "collapsed": false,
    "scrolled": false
   },
   "outputs": [],
   "source": [
    "full = dstf.load_dst(inputfilename, \"DST\", \"Events\")\n",
    "full = full[full.R<max(Rrange)] # soft radial cut to reduce badly reconstructed events\n",
    "print(len(full))\n",
    "full.head()"
   ]
  },
  {
   "cell_type": "code",
   "execution_count": null,
   "metadata": {
    "collapsed": true
   },
   "outputs": [],
   "source": [
    "if split_sample:\n",
    "    full_data  = full\n",
    "    test_data  = full[::2]\n",
    "    train_data = full[1::2] \n",
    "\n",
    "    full       = train_data"
   ]
  },
  {
   "cell_type": "code",
   "execution_count": null,
   "metadata": {
    "collapsed": false
   },
   "outputs": [],
   "source": [
    "hist(full.nS2, 5, (0, 5))\n",
    "labels(\"Number of S2 signals\", \"Entries\", \"Number of S2 signals\")\n",
    "save(\"NS2\")"
   ]
  },
  {
   "cell_type": "code",
   "execution_count": null,
   "metadata": {
    "collapsed": false
   },
   "outputs": [],
   "source": [
    "hist(full.Z, 100, Zrange)\n",
    "labels(\"Drift time ($\\mu$s)\", \"Entries\", \"Z distribution\")\n",
    "save(\"Z\")"
   ]
  },
  {
   "cell_type": "code",
   "execution_count": null,
   "metadata": {
    "collapsed": false
   },
   "outputs": [],
   "source": [
    "T       = full.time.values / 60\n",
    "T      -= np.min(T)\n",
    " \n",
    "y, x, _ = hist(T, 100, (np.min(T), np.max(T)))\n",
    "labels(\"Time since run beginning (min)\",\n",
    "       \"Event rate (({:.2f} min)$^{{-1}}$)\".format(np.diff(x)[0]),\n",
    "       \"Trigger rate\")\n",
    "save(\"EventRate\")"
   ]
  },
  {
   "cell_type": "code",
   "execution_count": null,
   "metadata": {
    "collapsed": false
   },
   "outputs": [],
   "source": [
    "pdf(full.S2e, 60, (0, 500e3))\n",
    "labels(\"S2 energy (pes)\", \"Entries\", \"Energy spectrum\")\n",
    "save(\"Raw_energy_wide\")\n",
    "\n",
    "hist(full.S2e, 60, Erange_raw)\n",
    "labels(\"S2 energy (pes)\", \"Entries\", \"S2 energy\")\n",
    "save(\"Raw_energy\")"
   ]
  },
  {
   "cell_type": "markdown",
   "metadata": {},
   "source": [
    "# S1 energy"
   ]
  },
  {
   "cell_type": "code",
   "execution_count": null,
   "metadata": {
    "collapsed": false
   },
   "outputs": [],
   "source": [
    "hist(full.S1e, 50, range=S1Erange)\n",
    "labels(\"S1 energy (pes)\", \"Entries\", \"S1 energy\")\n",
    "save(\"S1energy\")\n",
    "\n",
    "hist2d(full.Z, full.S1e, (50, 50), range=(Zrange, S1Erange))\n",
    "x, y, _ = fitf.profileX(full.Z, full.S1e, 30, xrange=Zrange, yrange=S1Erange)\n",
    "plt.plot(x, y, profOpt)\n",
    "\n",
    "labels(\"Drift time ($\\mu$s)\", \"S1 energy (pes)\", \"S1 energy vs Z\")\n",
    "save(\"S1energyvsZ\")"
   ]
  },
  {
   "cell_type": "markdown",
   "metadata": {},
   "source": [
    "# S1 width"
   ]
  },
  {
   "cell_type": "code",
   "execution_count": null,
   "metadata": {
    "collapsed": false
   },
   "outputs": [],
   "source": [
    "nb = max(S1Wrange)//25\n",
    "hist(full.S1w, nb, S1Wrange)\n",
    "labels(\"S1 width (ns)\", \"Entries\", \"S1 width\")\n",
    "save(\"S1width\")\n",
    "\n",
    "hist2d(full.Z, full.S1w, (50, nb), range=(Zrange, S1Wrange))\n",
    "x, y, _ = fitf.profileX(full.Z, full.S1w, 30, xrange=Zrange, yrange=S1Wrange)\n",
    "plt.plot(x, y, profOpt)\n",
    "\n",
    "labels(\"Drift time ($\\mu$s)\", \"S1 energy (pes)\", \"S1 width vs Z\")\n",
    "save(\"S1widthvsZ\")"
   ]
  },
  {
   "cell_type": "markdown",
   "metadata": {},
   "source": [
    "# S1 height"
   ]
  },
  {
   "cell_type": "code",
   "execution_count": null,
   "metadata": {
    "collapsed": false
   },
   "outputs": [],
   "source": [
    "hist(full.S1h, 30, range=S1Hrange)\n",
    "labels(\"S1 height (pes)\", \"Entries\", \"S1 height\")\n",
    "save(\"S1height\")\n",
    "\n",
    "hist2d(full.Z, full.S1h, (50, 30), range=(Zrange, S1Hrange))\n",
    "x, y, _ = fitf.profileX(full.Z, full.S1h, 30, xrange=Zrange, yrange=S1Hrange)\n",
    "plt.plot(x, y, profOpt)\n",
    "\n",
    "labels(\"Drift time ($\\mu$s)\", \"S1 height (pes)\", \"S1 height vs Z\")\n",
    "save(\"S1heightvsZ\")"
   ]
  },
  {
   "cell_type": "markdown",
   "metadata": {},
   "source": [
    "# S1 peak to area ratio"
   ]
  },
  {
   "cell_type": "code",
   "execution_count": null,
   "metadata": {
    "collapsed": false
   },
   "outputs": [],
   "source": [
    "S1r    = full.S1h/full.S1e\n",
    "_range = 0, 0.5\n",
    "\n",
    "hist(S1r, 50, range=_range)\n",
    "labels(\"Height/Area\", \"Entries\", \"S1 peak to area ratio\")\n",
    "save(\"S1Peak2Area\")\n",
    "\n",
    "hist2d(full.Z, S1r, (50, 50), range=(Zrange, _range))\n",
    "x, y, _ = fitf.profileX(full.Z, S1r, 30, xrange=Zrange, yrange=_range)\n",
    "plt.plot(x, y, profOpt)\n",
    "\n",
    "labels(\"Drift time ($\\mu$s)\", \"Height/Area\", \"S1 peak to area ratio vs Z\")\n",
    "save(\"S1Peak2AreavsZ\")"
   ]
  },
  {
   "cell_type": "markdown",
   "metadata": {},
   "source": [
    "# S2 energy"
   ]
  },
  {
   "cell_type": "code",
   "execution_count": null,
   "metadata": {
    "collapsed": false
   },
   "outputs": [],
   "source": [
    "hist(full.S2e, 100, range=Erange_raw)\n",
    "labels(\"S2 energy (pes)\", \"Entries\", \"S2 energy\")\n",
    "save(\"S2energy\")\n",
    "\n",
    "hist2d(full.Z, full.S2e, (50, 100), range=(Zrange, Erange_raw))\n",
    "x, y, _ = fitf.profileX(full.Z, full.S2e, 30, xrange=Zrange, yrange=Erange_raw)\n",
    "plt.plot(x, y, profOpt)\n",
    "\n",
    "labels(\"Drift time ($\\mu$s)\", \"S2 energy (pes)\", \"S2 energy vs Z\")\n",
    "save(\"S2energyvsZ\")"
   ]
  },
  {
   "cell_type": "markdown",
   "metadata": {},
   "source": [
    "# S2 width"
   ]
  },
  {
   "cell_type": "code",
   "execution_count": null,
   "metadata": {
    "collapsed": false
   },
   "outputs": [],
   "source": [
    "hist(full.S2w, 60, range=S2Wrange)\n",
    "labels(\"S2 width ($\\mu$s)\", \"Entries\", \"S2 width\")\n",
    "save(\"S2width\")\n",
    "\n",
    "hist2d(full.Z, full.S2w, (50, 20), range=(Zrange, S2Wrange))\n",
    "x, y, _ = fitf.profileX(full.Z, full.S2w, 30, xrange=Zrange, yrange=S2Wrange)\n",
    "plt.plot(x, y, profOpt)\n",
    "\n",
    "labels(\"Drift time ($\\mu$s)\", \"S2 energy (pes)\", \"S2 width vs Z\")\n",
    "save(\"S2widthvsZ\")"
   ]
  },
  {
   "cell_type": "markdown",
   "metadata": {},
   "source": [
    "# S2 height"
   ]
  },
  {
   "cell_type": "code",
   "execution_count": null,
   "metadata": {
    "collapsed": false
   },
   "outputs": [],
   "source": [
    "hist(full.S2h, 30, range=S2Hrange)\n",
    "labels(\"S2 height (pes)\", \"Entries\", \"S2 height\")\n",
    "save(\"S2height\")\n",
    "\n",
    "hist2d(full.Z, full.S2h, (50, 30), range=(Zrange, S2Hrange))\n",
    "x, y, _ = fitf.profileX(full.Z, full.S2h, 30, xrange=Zrange, yrange=S2Hrange)\n",
    "plt.plot(x, y, profOpt)\n",
    "\n",
    "labels(\"Drift time ($\\mu$s)\", \"S2 height (pes)\")\n",
    "save(\"S2heightvsZ\")"
   ]
  },
  {
   "cell_type": "markdown",
   "metadata": {},
   "source": [
    "# S2 peak to area ratio"
   ]
  },
  {
   "cell_type": "code",
   "execution_count": null,
   "metadata": {
    "collapsed": false
   },
   "outputs": [],
   "source": [
    "_range = 0, 0.5\n",
    "\n",
    "S2r = full.S2h/full.S2e\n",
    "\n",
    "hist(S2r, 50, range=_range)\n",
    "labels(\"Height/Area\", \"Entries\", \"S2 peak to area ratio\")\n",
    "save(\"S2Peak2Area\")\n",
    "\n",
    "hist2d(full.Z, S2r, (50, 50), range=(Zrange, _range))\n",
    "x, y, _ = fitf.profileX(full.Z, S2r, 30, xrange=Zrange, yrange=_range)\n",
    "plt.plot(x, y, profOpt)\n",
    "\n",
    "labels(\"Drift time ($\\mu$s)\", \"Height/Area\", \"S2 peak to area ratio vs Z\")\n",
    "save(\"S2Peak2AreavsZ\")"
   ]
  },
  {
   "cell_type": "markdown",
   "metadata": {},
   "source": [
    "# S2 vs S1"
   ]
  },
  {
   "cell_type": "code",
   "execution_count": null,
   "metadata": {
    "collapsed": false
   },
   "outputs": [],
   "source": [
    "hist2d(full.S1e, full.S2e, (50, 50), range=(S1Erange, Erange_raw))\n",
    "#x, y, _ = fitf.profileX(full.S1e, full.S2e, 30, xrange=S1Erange, yrange=Erange_raw)\n",
    "#plt.plot(x, y, profOpt)\n",
    "\n",
    "sel = coref.in_range(full.S1e, *S1Erange) & coref.in_range(full.S2e, *Erange_raw)\n",
    "c = covariance(full[sel].S1e, full[sel].S2e)\n",
    "print(*c)\n",
    "labels(\"S1 energy (pes)\", \"S2 energy (pes)\", \"S2 vs S1\")\n",
    "save(\"S2vsS1\")"
   ]
  },
  {
   "cell_type": "code",
   "execution_count": null,
   "metadata": {
    "collapsed": false
   },
   "outputs": [],
   "source": [
    "_range = 0, 0.006\n",
    "\n",
    "S12r = full.S1e/full.S2e\n",
    "\n",
    "hist(S12r, 50, range=_range)\n",
    "labels(\"S1/S2\", \"Entries\", \"S1/S2 ratio\")\n",
    "save(\"S12ratio\")\n",
    "\n",
    "hist2d(full.Z, S12r, (50, 50), range=(Zrange, _range))\n",
    "x, y, _ = fitf.profileX(full.Z, S12r, 30, xrange=Zrange, yrange=_range)\n",
    "plt.plot(x, y, profOpt)\n",
    "\n",
    "labels(\"Drift time ($\\mu$s)\", \"S1/S2\", \"S1/S2 ratio vs Z\")\n",
    "save(\"S12ratiovsZ\")"
   ]
  },
  {
   "cell_type": "markdown",
   "metadata": {},
   "source": [
    "# Lifetime calculation"
   ]
  },
  {
   "cell_type": "code",
   "execution_count": null,
   "metadata": {
    "collapsed": false
   },
   "outputs": [],
   "source": [
    "fid = full\n",
    "fid = fid[fid.R < 100] # Fiducialize in order to reduce geometrical effects\n",
    "print(\"Ratio:\", len(fid)/len(full))\n",
    "fid.head()"
   ]
  },
  {
   "cell_type": "markdown",
   "metadata": {},
   "source": [
    "# S2 energy fiducialized"
   ]
  },
  {
   "cell_type": "code",
   "execution_count": null,
   "metadata": {
    "collapsed": false
   },
   "outputs": [],
   "source": [
    "hist(fid.S2e, 50, range=Erange_raw)\n",
    "labels(\"S2 energy (pes)\", \"Entries\", \"Fidualized energy spectrum\")\n",
    "save(\"Raw_energy_fiducial\")\n",
    "\n",
    "low_cut   = 11000 * np.exp(-0.0016*fid.Z.values)\n",
    "high_cut  = 14000 * np.exp(-0.0009*fid.Z.values)\n",
    "sel       = coref.in_range(fid.S2e.values, low_cut, high_cut) # remove low and high E background\n",
    "\n",
    "hist2d(fid.Z, fid.S2e, (100, 50), range=(Zrange, Erange_raw))\n",
    "x, y, u_y = fitf.profileX(fid.Z[sel], fid.S2e[sel], 100, xrange=Zrange, yrange=Erange_raw)\n",
    "\n",
    "plt.plot(x, y, profOpt)\n",
    "plt.plot(fid.Z.values,  low_cut, \"k.\")\n",
    "plt.plot(fid.Z.values, high_cut, \"k.\")\n",
    "\n",
    "seed = np.max(y), (x[15] - x[5])/np.log(y[15]/y[5])\n",
    "f    = fitf.fit(fitf.expo, x, y, seed, fit_range=Zrange_LT, sigma=u_y)\n",
    "\n",
    "plt.plot(x, f.fn(x), fitOpt)\n",
    "print(\"Energy at z=0 = {:.1f} +- {:.1f}\".format( f.values[0], f.errors[0]))\n",
    "print(\"Lifetime      = {:.1f} +- {:.1f}\".format(-f.values[1], f.errors[1]))\n",
    "print(\"Chi2          = {:.2f}          \".format(f.chi2))\n",
    "\n",
    "labels(\"Drift time ($\\mu$s)\", \"S2 energy (pes)\", \"Fiducialized energy spectrum vs Z\")\n",
    "save(\"Raw_energy_vsZ_fiducial\")\n",
    "\n",
    "Zcorr = corrf.LifetimeCorrection(-f.values[1], f.errors[1])"
   ]
  },
  {
   "cell_type": "markdown",
   "metadata": {},
   "source": [
    "# Lifetime scan"
   ]
  },
  {
   "cell_type": "code",
   "execution_count": null,
   "metadata": {
    "collapsed": false
   },
   "outputs": [],
   "source": [
    "x0, y0, r0 = 40, -40, 15\n",
    "sel  = ((full.X - x0)**2 +\n",
    "        (full.Y - y0)**2) < r0**2\n",
    "data = full[sel]\n",
    "\n",
    "low_cut   = 12000 * np.exp(-0.0010*data.Z.values)\n",
    "high_cut  = 14000 * np.exp(-0.0008*data.Z.values)\n",
    "sel       = coref.in_range(data.S2e.values, low_cut, high_cut) # remove low and high E background\n",
    "\n",
    "Z = data.Z  .values[sel]\n",
    "E = data.S2e.values[sel]\n",
    "x, y, u_y = fitf.profileX(Z, E, 100, xrange=Zrange, yrange=Erange_raw)\n",
    "f = fitf.fit(fitf.expo, x, y, (13e3, -1e3), fit_range=(50, 400), sigma=u_y)\n",
    "\n",
    "hist2d(data.Z, data.S2e, 100, (Zrange, Erange_raw))\n",
    "plt.plot(x, y, profOpt)\n",
    "plt.plot(x, f.fn(x),  fitOpt)\n",
    "plt.plot(data.Z.values,  low_cut, \"k.\")\n",
    "plt.plot(data.Z.values, high_cut, \"k.\")\n",
    "\n",
    "labels(\"Drift time (µs)\", \"S2 energy\")\n",
    "\n",
    "\n",
    "lts   = np.linspace(-f.values[1] - 5*f.errors[1],\n",
    "                    -f.values[1] + 5*f.errors[1],\n",
    "                    20)\n",
    "sigs  = (lts + f.values[1]) / f.errors[1] \n",
    "res   = np.zeros_like(lts)\n",
    "u_res = np.zeros_like(lts) \n",
    "for i in range(len(lts)):\n",
    "    Ecorr    = E * np.exp(Z/lts[i])\n",
    "    y, x     = np.histogram(Ecorr, 50, (11e3, 15e3))\n",
    "    x        = shift_to_bin_centers(x)\n",
    "    f        = fitf.fit(fitf.gauss, x, y, (1e5, 13e3, 1e2), fit_range=(12500, 13500), sigma=poisson_sigma(y))\n",
    "    R        = resolution(f.values, f.errors)[0]\n",
    "    res[i]   = R.value\n",
    "    u_res[i] = R.uncertainty\n",
    "\n",
    "plt.figure()\n",
    "plt.errorbar(lts, res, u_res)\n",
    "labels(\"Lifetime (µs)\", \"Resolution\")\n",
    "\n",
    "res_ticks = plt.yticks()[0]\n",
    "xax = plt.gca().twiny()\n",
    "yax = plt.gca().twinx()\n",
    "\n",
    "\n",
    "xax.set_xlim(min(sigs), max(sigs))\n",
    "xax.set_xticks(range(-5,6,2))\n",
    "xax.set_xlabel(\"Deviation from fit (#$\\sigma$)\")\n",
    "\n",
    "scale = (41.5/2458)**0.5\n",
    "yax.set_ylim(min(res) * scale, max(res) * scale)\n",
    "#yax.set_yticks(res_ticks * scale)\n",
    "yax.set_ylabel(\"Resolution @ Qbb\")"
   ]
  },
  {
   "cell_type": "markdown",
   "metadata": {},
   "source": [
    "# Lifetime vs R"
   ]
  },
  {
   "cell_type": "code",
   "execution_count": null,
   "metadata": {
    "collapsed": true
   },
   "outputs": [],
   "source": [
    "rbins  = np.array([0, 40, 60, 80, 100, 115, 130, 140, 150, 160, 170, 180, 190])\n",
    "nbins  = len(rbins) - 1\n",
    "nx, ny = 4, 3\n",
    "\n",
    "LT     = np.zeros(nbins)\n",
    "u_LT   = np.zeros(nbins)\n",
    "\n",
    "Z = full.Z  .values\n",
    "R = full.R  .values\n",
    "E = full.S2e.values\n",
    "\n",
    "plt.figure(figsize=(6*nx, 6*ny))\n",
    "\n",
    "for i in range(nbins):\n",
    "    sel_r = coref.in_range(E, *Erange_raw) & coref.in_range(R, *rbins[i:i+2])\n",
    "    \n",
    "    plt.subplot(nx, ny, i+1)\n",
    "    n, x, y, _ = \\\n",
    "    hist2d(Z[sel_r], E[sel_r], (40, 50), (Zrange, Erange_raw), new_figure=False)\n",
    "    labels(\"Drift time (µs)\", \"S2 energy (pes)\", \"{:.0f} - {:.0f} mm\".format(*rbins[i:i+2]))\n",
    "    slice_max = np.argmax(n, axis=1)\n",
    "    slice_ene = y[slice_max]\n",
    "    slice_rms = [1.25*np.average((y-mean)**2, weights=w)**0.5 if np.any(w) else 0 for w, mean in zip(n, slice_ene)]\n",
    "    \n",
    "    plt.errorbar(x, slice_ene, slice_rms, fmt=\"*k\")\n",
    "    \n",
    "    f_low = fitf.fit(fitf.expo, x, slice_ene-slice_rms, (1e4, -500), fit_range=Zrange_LT)\n",
    "    f_upp = fitf.fit(fitf.expo, x, slice_ene+slice_rms, (1e4, -500), fit_range=Zrange_LT)\n",
    "    \n",
    "    plt.plot(x, f_low.fn(x), \"r\")\n",
    "    plt.plot(x, f_upp.fn(x), \"r\")\n",
    "\n",
    "    low_cut = f_low.fn(Z)\n",
    "    upp_cut = f_upp.fn(Z)\n",
    "    sel_E   = coref.in_range(E, low_cut, upp_cut) # remove low and high E background\n",
    "\n",
    "    x, y, u_y = fitf.profileX(Z[sel_r & sel_E], E[sel_r & sel_E], 100, xrange=Zrange, yrange=Erange_raw)\n",
    "    plt.errorbar(x, y, u_y, fmt=\"*m\")\n",
    "\n",
    "    seed = np.max(y), (x[15] - x[5])/np.log(y[15]/y[5])\n",
    "    f    = fitf.fit(fitf.expo, x, y, seed, fit_range=Zrange_LT, sigma=u_y)\n",
    "\n",
    "    LT  [i] = -f.values[1]\n",
    "    u_LT[i] =  f.errors[1]\n",
    "plt.tight_layout()\n",
    "\n",
    "dr    = np.diff(rbins) * 0.5\n",
    "rbins = rbins[:-1] + dr \n",
    "plt.figure()\n",
    "plt.errorbar(rbins, LT, u_LT, dr, fmt=\"k*\")\n",
    "\n",
    "seed = (LT[0], 1e-2, 100)\n",
    "func = lambda x, a=0, b=0, c=0, d=0: a - b*x*np.exp(x/c)\n",
    "f = fitf.fit(func, rbins, LT, seed, sigma=u_LT)\n",
    "plt.plot(rbins, f.fn(rbins), \"-r\")\n",
    "labels(\"R (mm)\", \"Lifetime (µs)\", \"Lifetime vs R\")\n",
    "save(\"LifetimevsR\")\n",
    "\n",
    "print(\"Lifetime = \", \"({0:.1f} +- {3:.1f}) - ({1:.3f} +- {4:.3f}) x exp[x/({2:.1f} +- {5:.1f})]\".format(*f.values, *f.errors))\n",
    "print(\"Chi2 =\", f.chi2)\n",
    "Zcorr_R = corrf.LifetimeRCorrection(f.values, f.errors)"
   ]
  },
  {
   "cell_type": "markdown",
   "metadata": {},
   "source": [
    "# Correction by attachment"
   ]
  },
  {
   "cell_type": "code",
   "execution_count": null,
   "metadata": {
    "collapsed": false
   },
   "outputs": [],
   "source": [
    "correction = Zcorr(fid.Z.values, fid.R.values) if LT_radial else\\\n",
    "             Zcorr(fid.Z.values)\n",
    "Efid_zcorr = fid.S2e.values * correction.value\n",
    "\n",
    "y, x, _ = hist(Efid_zcorr, 100, range=Erange_zcorr)\n",
    "\n",
    "fun  = lambda x, *args: fitf.gauss  (x, *args[ :3])\n",
    "seed = 1e3, 12000, 100\n",
    "low  =  10, 11000,  50\n",
    "upp  = 1e8, 13000, 900\n",
    "f    = fitf.fit(fun, x, y, seed, fit_range=(12400, 14000), bounds=(low, upp))\n",
    "print(f.values)\n",
    "\n",
    "\n",
    "plt.plot(x, f.fn(x), fitOpt)\n",
    "plt.plot(x, fitf.gauss(x, *f.values),  fitOpt)\n",
    "plt.text(Erange_zcorr[0], 1*max(y)/4, gausstext(f.values, 41.5), color=fitOpt)\n",
    "\n",
    "labels(\"S2 energy (pes)\", \"Entries\", \"Z-corrected energy\")\n",
    "save(\"EcorrZ_fiducial\")\n",
    "\n",
    "hist2d(fid.Z.values, Efid_zcorr, (50, 100), range=(Zrange, Erange_zcorr))\n",
    "labels(\"Drift time ($\\mu$s)\", \"S2 energy (pes)\", \"Z-corrected energy vs Z\")\n",
    "save(\"EcorrZvsZ_fiducial\")"
   ]
  },
  {
   "cell_type": "markdown",
   "metadata": {},
   "source": [
    "# Tracking"
   ]
  },
  {
   "cell_type": "code",
   "execution_count": null,
   "metadata": {
    "collapsed": false
   },
   "outputs": [],
   "source": [
    "hist(full.Nsipm, max(NSirange), NSirange)\n",
    "labels(\"# SiPMs\", \"Entries\", \"Number of SiPMs touched\")\n",
    "save(\"Nsipm\")\n",
    "\n",
    "hist2d(full.Z, full.Nsipm, (30, max(NSirange)), range=(Zrange, NSirange))\n",
    "x, y, _ = fitf.profileX(full.Z, full.Nsipm, 30, xrange=Zrange, yrange=NSirange)\n",
    "plt.plot(x, y, profOpt)\n",
    "\n",
    "labels(\"Drift time ($\\mu$s)\", \"# SiPMs\", \"Number of SiPMs touched vs Z\")\n",
    "save(\"NsipmvsZ\")\n"
   ]
  },
  {
   "cell_type": "markdown",
   "metadata": {},
   "source": [
    "# Kr distribution"
   ]
  },
  {
   "cell_type": "code",
   "execution_count": null,
   "metadata": {
    "collapsed": true
   },
   "outputs": [],
   "source": [
    "correction = Zcorr(full.Z.values, full.R.values) if LT_radial else\\\n",
    "             Zcorr(full.Z.values)\n",
    "\n",
    "E_zcorr = full.S2e.values * correction.value\n",
    "sel     = coref.in_range(E_zcorr, 10e3, 14e3)\n",
    "Kr      = full   [sel]\n",
    "E_zcorr = E_zcorr[sel]"
   ]
  },
  {
   "cell_type": "code",
   "execution_count": null,
   "metadata": {
    "collapsed": false,
    "scrolled": false
   },
   "outputs": [],
   "source": [
    "hist(Kr.X, 25, range=XYrange)\n",
    "labels(\"x (mm)\", \"Entries\", \"X distribution\")\n",
    "save(\"X\")\n",
    "\n",
    "hist(Kr.Y, 25, range=XYrange)\n",
    "labels(\"y (mm)\", \"Entries\", \"Y distribution\")\n",
    "save(\"Y\")\n",
    "\n",
    "hist(Kr.R, 25, range=Rrange)\n",
    "labels(\"r (mm)\", \"Entries\", \"R distribution\")\n",
    "save(\"R\")\n",
    "\n",
    "hist(Kr.Phi, 25, range=Prange)\n",
    "labels(\"$\\phi$ (rad)\", \"Entries\", \"$\\phi$ distribution\")\n",
    "save(\"Phi\")\n",
    "\n",
    "nXY, xs, ys, _ = \\\n",
    "hist2d(Kr.X, Kr.Y, (nX, nY), range=(XYrange, XYrange))\n",
    "plt.colorbar().set_label(\"# events\")\n",
    "labels(\"x (mm)\", \"y (mm)\", \"XY distribution\")\n",
    "save(\"XY\")\n",
    "\n",
    "hist2d(Kr.R, Kr.Phi, (nX, nY), range=(Rrange, Prange))\n",
    "plt.colorbar().set_label(\"# events\")\n",
    "labels(\"r (mm)\", \"$\\phi$ (mm)\", \"R$\\phi$ distribution\")\n",
    "save(\"RPhi\")"
   ]
  },
  {
   "cell_type": "markdown",
   "metadata": {},
   "source": [
    "# Tracking charge"
   ]
  },
  {
   "cell_type": "code",
   "execution_count": null,
   "metadata": {
    "collapsed": false
   },
   "outputs": [],
   "source": [
    "hist(Kr.S2q, 100, range=Qrange)\n",
    "labels(\"S2 charge (pes)\", \"Entries\", \"Charge\")\n",
    "save(\"Q\")\n",
    "\n",
    "hist2d(Kr.Z, Kr.S2q, (50, 100), range=(Zrange, Qrange))\n",
    "x, y, _ = fitf.profileX(Kr.Z, Kr.S2q, 30, xrange=Zrange, yrange=Qrange)\n",
    "plt.plot(x, y, profOpt)\n",
    "\n",
    "labels(\"Drift time ($\\mu$s)\", \"S2 charge (pes)\", \"Charge vs Z\")\n",
    "save(\"QvsZ\")"
   ]
  },
  {
   "cell_type": "code",
   "execution_count": null,
   "metadata": {
    "collapsed": false,
    "scrolled": false
   },
   "outputs": [],
   "source": [
    "_, _, cb = hist2d_profile(Kr.X, Kr.Y, Kr.S2q, nX, nY, XYrange, XYrange)\n",
    "cb.set_label(\"Q (pes)\")\n",
    "labels(\"x (mm)\", \"y (mm)\", \"Charge vs XY\")\n",
    "save(\"QvsXY\")\n",
    "\n",
    "_, _, cb = hist2d_profile(Kr.R, Kr.Phi, full.S2q, nX, nY, Rrange, Prange)\n",
    "cb.set_label(\"Q (pes)\")\n",
    "labels(\"r (mm)\", \"$\\phi$ (rad)\", \"Charge vs R$\\phi$\")\n",
    "save(\"QvsRPhi\")\n",
    "\n",
    "hist2d(Kr.R, Kr.S2q, (50, 50), (Rrange, Qrange))\n",
    "x, y, _ = fitf.profileX(Kr.R, Kr.S2q, 50, xrange=Rrange, yrange=Qrange)\n",
    "plt.plot(x, y, profOpt)\n",
    "labels(\"r (mm)\", \"S2 charge (pes)\", \"Charge vs R\")\n",
    "save(\"QvsR\")\n",
    "\n",
    "hist2d(Kr.Phi, Kr.S2q, (50, 50), range=(Prange, Qrange))\n",
    "x, y, _ = fitf.profileX(Kr.Phi, Kr.S2q, 50, xrange=Prange, yrange=Qrange)\n",
    "plt.plot(x, y, profOpt)\n",
    "labels(\"phi (rad)\", \"S2 charge (pes)\", \"Charge vs $\\phi$\")\n",
    "save(\"QvsPhi\")"
   ]
  },
  {
   "cell_type": "markdown",
   "metadata": {},
   "source": [
    "# Energy vs position"
   ]
  },
  {
   "cell_type": "code",
   "execution_count": null,
   "metadata": {
    "collapsed": false,
    "scrolled": false
   },
   "outputs": [],
   "source": [
    "sel = coref.in_range(Kr.Z.values, *Zrange_XY)\n",
    "\n",
    "(xc, yc, Ec, Ece), _, cb = \\\n",
    "hist2d_profile(Kr.X.values[sel], Kr.Y.values[sel], E_zcorr[sel], nX, nY, XYrange, XYrange)\n",
    "cb.set_label(\"E (pes)\")\n",
    "labels(\"x (mm)\", \"y (mm)\", \"Energy vs XY\")\n",
    "save(\"EvsXY\")\n",
    "\n",
    "_, _, cb = hist2d_profile(Kr.R.values, Kr.Phi.values, E_zcorr, nX, nY, Rrange, Prange)\n",
    "cb.set_label(\"E (pes)\")\n",
    "labels(\"r (mm)\", \"$\\phi$ (rad)\", \"Energy vs R$\\phi$\")\n",
    "save(\"EvsRPhi\")\n",
    "\n",
    "hist2d(Kr.R, E_zcorr, (50, 50), range=(Rrange, Erange_zcorr))\n",
    "x, y, _ = fitf.profileX(Kr.R.values, E_zcorr, 50, xrange=Rrange, yrange=Erange_zcorr)\n",
    "plt.plot(x, y, profOpt)\n",
    "labels(\"r (mm)\", \"S2 energy (pes)\")\n",
    "save(\"EvsR\")\n",
    "\n",
    "hist2d(Kr.Phi, E_zcorr, (50, 50), range=(Prange, Erange_zcorr))\n",
    "x, y, _ = fitf.profileX(Kr.Phi.values, E_zcorr, 50, xrange=Prange, yrange=Erange_zcorr)\n",
    "plt.plot(x, y, profOpt)\n",
    "labels(\"phi (rad)\", \"S2 energy (pes)\")\n",
    "save(\"EvsPhi\")\n",
    "\n",
    "XYcorr    = corrf.Correction((xc, yc), Ec, Ece, \"index\", index=(12, 12))\n",
    "corr_file = tb.open_file(corr_filename, \"w\")\n",
    "dstio.xy_writer(corr_file)(*XYcorr._xs, XYcorr._fs, XYcorr._us, nXY)\n",
    "corr_file.close()\n",
    "print(\"Reference energy = {} pes\".format(Ec[tuple(np.argwhere(XYcorr._fs==1)[0])]))"
   ]
  },
  {
   "cell_type": "markdown",
   "metadata": {},
   "source": [
    "# Correction map"
   ]
  },
  {
   "cell_type": "code",
   "execution_count": null,
   "metadata": {
    "collapsed": true
   },
   "outputs": [],
   "source": [
    "_x = np.repeat(xc, yc.size)\n",
    "_y = np.tile  (yc, xc.size)\n",
    "_r = (_x**2 + _y**2)**0.5\n",
    "_f = XYcorr._fs.flatten()\n",
    "_u = XYcorr._us.flatten()\n",
    "\n",
    "hist2d(_x, _y, (nX, nY), (XYrange, XYrange), weights=_f)\n",
    "labels(\"x (mm)\", \"y (mm)\", \"Correction map\")\n",
    "plt.colorbar().set_label(\"Correction factor\")\n",
    "save(\"CorrectionMap\")\n",
    "\n",
    "hist2d(_x, _y, (nX, nY), (XYrange, XYrange), weights=_u)\n",
    "labels(\"x (mm)\", \"y (mm)\", \"Correction map uncertainty\")\n",
    "plt.colorbar().set_label(\"Correction factor uncertainty\")\n",
    "save(\"CorrectionMapUncertainty\")\n",
    "\n",
    "hist(_f, 100, Frange)\n",
    "labels(\"Correction factor\", \"Entries\")\n",
    "save(\"CorrectionMapHist\")\n",
    "\n",
    "hist(_u[_u > 0], 100, Urange)\n",
    "plt.yscale(\"log\")\n",
    "labels(\"Correction factor uncertainty\", \"Entries\")\n",
    "save(\"CorrectionMapUncertaintyHist\")\n",
    "\n",
    "hist2d(_r, _f, (nR, 100), (Rrange, Frange))\n",
    "labels(\"r (mm)\", \"Correction factor\", \"Correction factor vs R\")\n",
    "save(\"CorrectionFactorVsR\")\n",
    "\n",
    "hist2d(_r, _u, (nR, 100), (Rrange, Urange), norm=LogNorm())\n",
    "labels(\"r (mm)\", \"Correction factor uncertainty\", \"Correction factor uncertainty vs R\")\n",
    "save(\"CorrectionFactorUncertaintyVsR\")"
   ]
  },
  {
   "cell_type": "markdown",
   "metadata": {},
   "source": [
    "# Correction by attachment and position"
   ]
  },
  {
   "cell_type": "code",
   "execution_count": null,
   "metadata": {
    "collapsed": false,
    "scrolled": false
   },
   "outputs": [],
   "source": [
    "E_xyzcorr = E_zcorr * XYcorr(Kr.X.values, Kr.Y.values).value\n",
    "\n",
    "y, x, _ = hist(E_xyzcorr, 80, Erange_xycorr)\n",
    "\n",
    "fun  = fitf.gauss\n",
    "seed = 1e3, 12000, 100\n",
    "low  =  10, 11000,  50\n",
    "upp  = 1e8, 13000, 900\n",
    "f    = fitf.fit(fun, x, y, seed, fit_range=(11000, 13000), bounds=(low, upp), sigma=poisson_sigma(y))\n",
    "print(\"Fit values:\", f.values)\n",
    "print(\"Fit errors:\", f.errors)\n",
    "print(\"Chi2      :\", f.chi2)\n",
    "\n",
    "\n",
    "plt.plot(x, f.fn(x), fitOpt)\n",
    "plt.plot(x, fitf.gauss(x, *f.values),  fitOpt)\n",
    "plt.text(Erange_xycorr[0], 1*max(y)/4, gausstext(f.values, 41.5), color=fitOpt)\n",
    "labels(\"E (pes)\", \"Entries\", \"XYZ-corrected energy\")\n",
    "save(\"EcorrZXY\")\n",
    "\n",
    "_, _, cb = hist2d_profile(Kr.X.values, Kr.Y.values, E_xyzcorr, 50, 50, XYrange, XYrange)\n",
    "cb.set_label(\"E (pes)\")\n",
    "labels(\"x (mm)\", \"y (mm)\", \"XYZ-corrected energy vs XY\")\n",
    "save(\"EcorrZXYvsXY\")\n",
    "\n",
    "_, _, cb = hist2d_profile(Kr.R.values, Kr.Phi.values, E_xyzcorr, 50, 50, Rrange, Prange)\n",
    "cb.set_label(\"E (pes)\")\n",
    "labels(\"r (mm)\", \"$\\phi$ (rad)\", \"XYZ-corrected energy vs R$\\phi$\")\n",
    "save(\"EcorrZXYvsRPhi\")\n",
    "\n",
    "hist2d(Kr.R.values, E_xyzcorr, (50, 50), range=(Rrange, Erange_xycorr))\n",
    "x, y, _ = fitf.profileX(Kr.R.values, E_xyzcorr, 50, Rrange, Erange_xycorr)\n",
    "plt.plot(x, y, profOpt)\n",
    "labels(\"r (mm)\", \"S2 energy (pes)\", \"XYZ-corrected energy vs R\")\n",
    "save(\"EcorrZXYvsR\")\n",
    "\n",
    "hist2d(Kr.Phi.values, E_xyzcorr, (50, 50), range=(Prange, Erange_xycorr))\n",
    "x, y, _ = fitf.profileX(Kr.Phi.values, E_xyzcorr, 50, xrange=Prange, yrange=Erange_xycorr)\n",
    "plt.plot(x, y, profOpt)\n",
    "labels(\"phi (rad)\", \"S2 energy (pes)\", \"XYZ-corrected energy vs $\\phi$\")\n",
    "save(\"EcorrZXYvsPhi\")"
   ]
  },
  {
   "cell_type": "code",
   "execution_count": null,
   "metadata": {
    "collapsed": false
   },
   "outputs": [],
   "source": [
    "T      = (Kr.time.values - np.min(Kr.time.values))/60\n",
    "Trange = 0, np.max(T)\n",
    "\n",
    "hist2d(T, E_xyzcorr, (50, 50), range=(Trange, (10e3, 13e3)))\n",
    "\n",
    "x, y, u_y = fitf.profileX(T, E_xyzcorr, 50, Trange)\n",
    "plt.plot(x, y, profOpt)\n",
    "\n",
    "labels(\"Time (min)\", \"Energy (pes)\", \"XYZ-corrected energy vs time\")\n",
    "save(\"EcorrZXYvsT\")\n",
    "\n",
    "Tcorr = corrf.Correction((x,), y, u_y, \"max\")"
   ]
  },
  {
   "cell_type": "code",
   "execution_count": null,
   "metadata": {
    "collapsed": false,
    "scrolled": false
   },
   "outputs": [],
   "source": [
    "E_xyztcorr = E_xyzcorr * Tcorr(T).value\n",
    "\n",
    "y, x, _ = hist(E_xyztcorr, 80, Erange_xycorr)\n",
    "\n",
    "fun  = fitf.gauss\n",
    "seed = 1e3, 12000, 100\n",
    "low  =  10, 11000,  50\n",
    "upp  = 1e8, 13000, 900\n",
    "f    = fitf.fit(fun, x, y, seed, fit_range=(11000, 13000), bounds=(low, upp), sigma=poisson_sigma(y))\n",
    "print(\"Fit values:\", f.values)\n",
    "print(\"Fit errors:\", f.errors)\n",
    "print(\"Chi2      :\", f.chi2)\n",
    "\n",
    "plt.plot(x, f.fn(x), fitOpt)\n",
    "plt.text(Erange_xycorr[0], max(y)/2, gausstext(f.values, 41.5))\n",
    "\n",
    "labels(\"E (pes)\", \"Entries\", \"XYZT-corrected energy\")\n",
    "save(\"EcorrZXYT\")\n",
    "\n",
    "hist2d(T, E_xyztcorr, (50, 50), range=(Trange, Erange_xycorr))\n",
    "x, y, _ = fitf.profileX(T, E_xyztcorr, 50, Trange)\n",
    "plt.plot(x, y, profOpt)\n",
    "\n",
    "labels(\"Time (min)\", \"Energy (pes)\", \"XYZT-corrected energy vs time\")\n",
    "save(\"EcorrZXYTvsT\")"
   ]
  },
  {
   "cell_type": "code",
   "execution_count": null,
   "metadata": {
    "collapsed": true
   },
   "outputs": [],
   "source": [
    "sel_z  = coref.in_range(Kr.Z.values, 0, 100)\n",
    "sel_r  = coref.in_range(Kr.R.values, 0, 100)\n",
    "sel_zr = sel_z & sel_r\n",
    "\n",
    "y, x, _ = hist(E_xyztcorr[sel_r], 80, Erange_xycorr)\n",
    "\n",
    "fun  = fitf.gauss\n",
    "seed = 1e3, 12000, 100\n",
    "low  =  10, 11000,  50\n",
    "upp  = 1e8, 13000, 900\n",
    "f    = fitf.fit(fun, x, y, seed, fit_range=(11000, 13000), bounds=(low, upp), sigma=poisson_sigma(y))\n",
    "print(\"Fit values:\", f.values)\n",
    "print(\"Fit errors:\", f.errors)\n",
    "print(\"Chi2      :\", f.chi2)\n",
    "\n",
    "plt.plot(x, f.fn(x), fitOpt)\n",
    "plt.text(Erange_xycorr[0], max(y)/2, gausstext(f.values, 41.5))\n",
    "\n",
    "labels(\"E (pes)\", \"Entries\", \"XYZT-corrected energy fiducial\")\n",
    "save(\"EcorrZXYT_fiducial\")\n",
    "\n",
    "\n",
    "y, x, _ = hist(E_xyztcorr[sel_z], 80, Erange_xycorr)\n",
    "\n",
    "fun  = fitf.gauss\n",
    "seed = 1e3, 12000, 100\n",
    "low  =  10, 11000,  50\n",
    "upp  = 1e8, 13000, 900\n",
    "f    = fitf.fit(fun, x, y, seed, fit_range=(11000, 13000), bounds=(low, upp), sigma=poisson_sigma(y))\n",
    "print(\"Fit values:\", f.values)\n",
    "print(\"Fit errors:\", f.errors)\n",
    "print(\"Chi2      :\", f.chi2)\n",
    "\n",
    "plt.plot(x, f.fn(x), fitOpt)\n",
    "plt.text(Erange_xycorr[0], max(y)/2, gausstext(f.values, 41.5))\n",
    "\n",
    "labels(\"E (pes)\", \"Entries\", \"XYZT-corrected energy short drift\")\n",
    "save(\"EcorrZXYT_short_drift\")\n",
    "\n",
    "\n",
    "y, x, _ = hist(E_xyztcorr[sel_zr], 80, Erange_xycorr)\n",
    "\n",
    "fun  = fitf.gauss\n",
    "seed = 1e3, 12000, 100\n",
    "low  =  10, 11000,  50\n",
    "upp  = 1e8, 13000, 900\n",
    "f    = fitf.fit(fun, x, y, seed, fit_range=(11000, 13000), bounds=(low, upp), sigma=poisson_sigma(y))\n",
    "print(\"Fit values:\", f.values)\n",
    "print(\"Fit errors:\", f.errors)\n",
    "print(\"Chi2      :\", f.chi2)\n",
    "\n",
    "plt.plot(x, f.fn(x), fitOpt)\n",
    "plt.text(Erange_xycorr[0], max(y)/2, gausstext(f.values, 41.5))\n",
    "\n",
    "labels(\"E (pes)\", \"Entries\", \"XYZT-corrected energy fiducial short drift\")\n",
    "save(\"EcorrZXYT_fiducial_short_drift\")"
   ]
  },
  {
   "cell_type": "code",
   "execution_count": null,
   "metadata": {
    "collapsed": true
   },
   "outputs": [],
   "source": [
    "Rbins = [0, 40, 60, 80, 100, 115, 130, 140, 150, 160, 170, 180, 190]\n",
    "nbins = len(Rbins) - 1\n",
    "r     = shift_to_bin_centers(Rbins)\n",
    "dr    = 0.5 * np.diff       (Rbins)\n",
    "\n",
    "R, Rbb, u_R, u_Rbb = np.zeros((4, nbins), dtype=np.double)\n",
    "plt.figure(figsize=(15,12))\n",
    "\n",
    "for i in range(nbins):\n",
    "    plt.subplot(3, 4, i+1)\n",
    "    \n",
    "    sel = coref.in_range(Kr.R.values, *Rbins[i:i+2]) & sel_z\n",
    "    y, x, _ = hist(E_xyztcorr[sel], 80, Erange_xycorr, new_figure=False)\n",
    "\n",
    "    fun  = fitf.gauss\n",
    "    seed = 1e3, 12000, 100\n",
    "    low  =  10, 11000,  50\n",
    "    upp  = 1e8, 13000, 900\n",
    "    f    = fitf.fit(fun, x, y, seed, fit_range=(11000, 13000), bounds=(low, upp))\n",
    "\n",
    "    plt.plot(x, f.fn(x), fitOpt)\n",
    "    labels(\"E (pes)\", \"Entries\", \"{:.0f} - {:.0f} mm\".format(*Rbins[i:i+2]))\n",
    "\n",
    "    reso = resolution(f.values, f.errors, E_from=41.5)\n",
    "    R  [i], u_R  [i] = reso[0]\n",
    "    Rbb[i], u_Rbb[i] = reso[1]\n",
    "plt.tight_layout()\n",
    "save(\"EcorrZXYT_Rslices\")\n",
    "\n",
    "plt.figure()\n",
    "plt.errorbar(r, R, u_R, dr, \"kp\")\n",
    "labels(\"R (mm)\", \"Resolution\", \"Resolution vs R\")\n",
    "\n",
    "new_lims  = [lim * (41.5/2458)**0.5 for lim in plt.ylim()]\n",
    "new_ticks = np.linspace(*new_lims, 7)\n",
    "str_ticks = [\"{:.2f}\".format(i) for i in new_ticks]\n",
    "ax2       = plt.gca().twinx()\n",
    "\n",
    "ax2.set_ylim       (*new_lims )\n",
    "ax2.set_yticks     ( new_ticks)\n",
    "ax2.set_yticklabels( str_ticks)\n",
    "ax2.set_ylabel(\"Resolution @ Qbb\", rotation=-90, labelpad=20);\n",
    "save(\"ResolutionvsR\")"
   ]
  },
  {
   "cell_type": "code",
   "execution_count": null,
   "metadata": {
    "collapsed": true
   },
   "outputs": [],
   "source": [
    "Zbins = np.linspace(0, 450, 10)\n",
    "nbins = len(Zbins) - 1\n",
    "z     = shift_to_bin_centers(Zbins)\n",
    "dz    = 0.5 * np.diff       (Zbins)\n",
    "\n",
    "R, Rbb, u_R, u_Rbb = np.zeros((4, nbins), dtype=np.double)\n",
    "plt.figure(figsize=(15,12))\n",
    "\n",
    "for i in range(nbins):\n",
    "    plt.subplot(3, 3, i+1)\n",
    "    \n",
    "    sel = coref.in_range(Kr.Z.values, *Zbins[i:i+2]) & sel_r\n",
    "    y, x, _ = hist(E_xyztcorr[sel], 80, Erange_xycorr, new_figure=False)\n",
    "\n",
    "    fun  = fitf.gauss\n",
    "    seed = 1e3, 12000, 100\n",
    "    low  =  10, 11000,  50\n",
    "    upp  = 1e8, 13000, 900\n",
    "    f    = fitf.fit(fun, x, y, seed, fit_range=(11000, 13000), bounds=(low, upp))\n",
    "\n",
    "    plt.plot(x, f.fn(x), fitOpt)\n",
    "    labels(\"E (pes)\", \"Entries\", \"{:.0f} - {:.0f} mm\".format(*Zbins[i:i+2]))\n",
    "\n",
    "    reso = resolution(f.values, f.errors, E_from=41.5)\n",
    "    R  [i], u_R  [i] = reso[0]\n",
    "    Rbb[i], u_Rbb[i] = reso[1]\n",
    "plt.tight_layout()\n",
    "save(\"EcorrZXYT_Zslices\")\n",
    "\n",
    "plt.figure()\n",
    "plt.errorbar(z, R, u_R, dz, \"kp\")\n",
    "labels(\"Drift time (µs)\", \"Resolution\", \"Resolution vs Z\")\n",
    "\n",
    "new_lims  = [lim * (41.5/2458)**0.5 for lim in plt.ylim()]\n",
    "new_ticks = np.linspace(*new_lims, 7)\n",
    "str_ticks = [\"{:.2f}\".format(i) for i in new_ticks]\n",
    "ax2       = plt.gca().twinx()\n",
    "\n",
    "ax2.set_ylim       (*new_lims )\n",
    "ax2.set_yticks     ( new_ticks)\n",
    "ax2.set_yticklabels( str_ticks)\n",
    "ax2.set_ylabel(\"Resolution @ Qbb\", rotation=-90, labelpad=20);\n",
    "print(\"Resolutions\", Rbb)\n",
    "save(\"ResolutionvsZ\")"
   ]
  },
  {
   "cell_type": "markdown",
   "metadata": {},
   "source": [
    "# Apply map to another dataset"
   ]
  },
  {
   "cell_type": "code",
   "execution_count": null,
   "metadata": {
    "collapsed": true
   },
   "outputs": [],
   "source": [
    "if split_sample:\n",
    "    test_T     = (test_data.time.values - np.min(full_data.time.values))/60\n",
    "    correction = Zcorr(test_data.Z.values, test_data.R.values) if LT_radial else\\\n",
    "                 Zcorr(test_data.Z.values)\n",
    "    Etest_corr = test_data.S2e.values * correction.value\\\n",
    "                                      * XYcorr(test_data.X.values,\n",
    "                                               test_data.Y.values).value\\\n",
    "                                      * Tcorr(test_T).value\n",
    "\n",
    "    y, x, _ = hist(Etest_corr, 80, Erange_xycorr)\n",
    "\n",
    "    fun  = lambda x, *args: fitf.gauss(x, *args[:3]) + args[3] + args[4]*x\n",
    "    seed = 1e3, 12000, 100,  5000, -0.1\n",
    "    low  =  10, 11000,  50,  1000, -1\n",
    "    upp  = 1e8, 13000, 900, 50000,  0\n",
    "    f    = fitf.fit(fun, x, y, seed, fit_range=(11000, 13200), bounds=(low, upp), sigma=poisson_sigma(y))\n",
    "    print(\"Fit values:\", f.values)\n",
    "    print(\"Fit errors:\", f.errors)\n",
    "    print(\"Chi2      :\", f.chi2)\n",
    "\n",
    "    plt.plot(x, f.fn(x), fitOpt)\n",
    "    plt.text(Erange_xycorr[0], max(y)/2, gausstext(f.values, 41.5))\n",
    "\n",
    "    labels(\"E (pes)\", \"Entries\", \"XYZT-corrected energy\")\n",
    "    save(\"Etest\")"
   ]
  }
 ],
 "metadata": {
  "kernelspec": {
   "display_name": "Python 3",
   "language": "python",
   "name": "python3"
  },
  "language_info": {
   "codemirror_mode": {
    "name": "ipython",
    "version": 3
   },
   "file_extension": ".py",
   "mimetype": "text/x-python",
   "name": "python",
   "nbconvert_exporter": "python",
   "pygments_lexer": "ipython3",
   "version": "3.5.2"
  }
 },
 "nbformat": 4,
 "nbformat_minor": 2
}
